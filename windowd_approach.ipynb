{
 "cells": [
  {
   "cell_type": "markdown",
   "id": "e8784223",
   "metadata": {},
   "source": [
    "[Stats for collocation detection](http://www.scielo.org.mx/scielo.php?script=sci_arttext&pid=S1405-55462016000300327)\n",
    "* What was this about?\n",
    "    * Issue of multiple features in one location\n",
    "      * Had to apply set to avoid this issue"
   ]
  },
  {
   "cell_type": "code",
   "execution_count": 2,
   "outputs": [],
   "source": [
    "import matplotlib.pyplot as plt\n",
    "import pandas as pd\n",
    "from collections import Counter\n",
    "from utils import parse_cdhit, replace_val\n",
    "import itertools\n",
    "# from collections import defaultdict"
   ],
   "metadata": {
    "collapsed": false,
    "pycharm": {
     "name": "#%%\n"
    }
   }
  },
  {
   "cell_type": "code",
   "execution_count": 3,
   "outputs": [
    {
     "data": {
      "text/plain": "                               Feature_id   contig_id  position_start  \\\n0    ENA_AY095314_AY095314.2_3724_3921_10  AY095314.2            3724   \n1  ENA_JX889246_JX889246.1_45181_44900_68  JX889246.1           45181   \n\n   position_end  ORF_location_on_contig           annotation_val  \n0          3921                      10                  Unknown  \n1         44900                      68  Uncharacterized protein  ",
      "text/html": "<div>\n<style scoped>\n    .dataframe tbody tr th:only-of-type {\n        vertical-align: middle;\n    }\n\n    .dataframe tbody tr th {\n        vertical-align: top;\n    }\n\n    .dataframe thead th {\n        text-align: right;\n    }\n</style>\n<table border=\"1\" class=\"dataframe\">\n  <thead>\n    <tr style=\"text-align: right;\">\n      <th></th>\n      <th>Feature_id</th>\n      <th>contig_id</th>\n      <th>position_start</th>\n      <th>position_end</th>\n      <th>ORF_location_on_contig</th>\n      <th>annotation_val</th>\n    </tr>\n  </thead>\n  <tbody>\n    <tr>\n      <th>0</th>\n      <td>ENA_AY095314_AY095314.2_3724_3921_10</td>\n      <td>AY095314.2</td>\n      <td>3724</td>\n      <td>3921</td>\n      <td>10</td>\n      <td>Unknown</td>\n    </tr>\n    <tr>\n      <th>1</th>\n      <td>ENA_JX889246_JX889246.1_45181_44900_68</td>\n      <td>JX889246.1</td>\n      <td>45181</td>\n      <td>44900</td>\n      <td>68</td>\n      <td>Uncharacterized protein</td>\n    </tr>\n  </tbody>\n</table>\n</div>"
     },
     "execution_count": 3,
     "metadata": {},
     "output_type": "execute_result"
    }
   ],
   "source": [
    "data = pd.read_table(\"data/ENA_ML_input_ORFs\")\n",
    "data.head(2)"
   ],
   "metadata": {
    "collapsed": false,
    "pycharm": {
     "name": "#%%\n"
    }
   }
  },
  {
   "cell_type": "code",
   "execution_count": 4,
   "outputs": [
    {
     "data": {
      "text/plain": "[('ENA_KP211958_KP211958.1_65082_87137_88', '0'),\n ('ENA_AY940168_AY940168.2_57144_79082_90', '1')]"
     },
     "execution_count": 4,
     "metadata": {},
     "output_type": "execute_result"
    }
   ],
   "source": [
    "seq_to_clust = parse_cdhit(\"data/ENA.40.clstr\")\n",
    "list(seq_to_clust.items())[0:2]"
   ],
   "metadata": {
    "collapsed": false,
    "pycharm": {
     "name": "#%%\n"
    }
   }
  },
  {
   "cell_type": "code",
   "execution_count": 5,
   "outputs": [
    {
     "data": {
      "text/plain": "                               Feature_id   contig_id  position_start  \\\n0    ENA_AY095314_AY095314.2_3724_3921_10  AY095314.2            3724   \n1  ENA_JX889246_JX889246.1_45181_44900_68  JX889246.1           45181   \n\n   position_end  ORF_location_on_contig           annotation_val  \\\n0          3921                      10                  Unknown   \n1         44900                      68  Uncharacterized protein   \n\n   cluster_number  \n0           57065  \n1           43194  ",
      "text/html": "<div>\n<style scoped>\n    .dataframe tbody tr th:only-of-type {\n        vertical-align: middle;\n    }\n\n    .dataframe tbody tr th {\n        vertical-align: top;\n    }\n\n    .dataframe thead th {\n        text-align: right;\n    }\n</style>\n<table border=\"1\" class=\"dataframe\">\n  <thead>\n    <tr style=\"text-align: right;\">\n      <th></th>\n      <th>Feature_id</th>\n      <th>contig_id</th>\n      <th>position_start</th>\n      <th>position_end</th>\n      <th>ORF_location_on_contig</th>\n      <th>annotation_val</th>\n      <th>cluster_number</th>\n    </tr>\n  </thead>\n  <tbody>\n    <tr>\n      <th>0</th>\n      <td>ENA_AY095314_AY095314.2_3724_3921_10</td>\n      <td>AY095314.2</td>\n      <td>3724</td>\n      <td>3921</td>\n      <td>10</td>\n      <td>Unknown</td>\n      <td>57065</td>\n    </tr>\n    <tr>\n      <th>1</th>\n      <td>ENA_JX889246_JX889246.1_45181_44900_68</td>\n      <td>JX889246.1</td>\n      <td>45181</td>\n      <td>44900</td>\n      <td>68</td>\n      <td>Uncharacterized protein</td>\n      <td>43194</td>\n    </tr>\n  </tbody>\n</table>\n</div>"
     },
     "execution_count": 5,
     "metadata": {},
     "output_type": "execute_result"
    }
   ],
   "source": [
    "## Add a column to show the cluster to which each feature_id belongs\n",
    "data[\"cluster_number\"] = replace_val(data.Feature_id, seq_to_clust)\n",
    "data.cluster_number = data.cluster_number.astype(int)\n",
    "data.head(2)"
   ],
   "metadata": {
    "collapsed": false,
    "pycharm": {
     "name": "#%%\n"
    }
   }
  },
  {
   "cell_type": "code",
   "execution_count": 6,
   "outputs": [
    {
     "data": {
      "text/plain": "                               Feature_id   contig_id  position_start  \\\n0    ENA_AY095314_AY095314.2_3724_3921_10  AY095314.2            3724   \n1  ENA_JX889246_JX889246.1_45181_44900_68  JX889246.1           45181   \n\n   position_end  ORF_location_on_contig           annotation_val  \\\n0          3921                      10                  Unknown   \n1         44900                      68  Uncharacterized protein   \n\n   cluster_number  contig_number  \n0           57065         237296  \n1           43194         234989  ",
      "text/html": "<div>\n<style scoped>\n    .dataframe tbody tr th:only-of-type {\n        vertical-align: middle;\n    }\n\n    .dataframe tbody tr th {\n        vertical-align: top;\n    }\n\n    .dataframe thead th {\n        text-align: right;\n    }\n</style>\n<table border=\"1\" class=\"dataframe\">\n  <thead>\n    <tr style=\"text-align: right;\">\n      <th></th>\n      <th>Feature_id</th>\n      <th>contig_id</th>\n      <th>position_start</th>\n      <th>position_end</th>\n      <th>ORF_location_on_contig</th>\n      <th>annotation_val</th>\n      <th>cluster_number</th>\n      <th>contig_number</th>\n    </tr>\n  </thead>\n  <tbody>\n    <tr>\n      <th>0</th>\n      <td>ENA_AY095314_AY095314.2_3724_3921_10</td>\n      <td>AY095314.2</td>\n      <td>3724</td>\n      <td>3921</td>\n      <td>10</td>\n      <td>Unknown</td>\n      <td>57065</td>\n      <td>237296</td>\n    </tr>\n    <tr>\n      <th>1</th>\n      <td>ENA_JX889246_JX889246.1_45181_44900_68</td>\n      <td>JX889246.1</td>\n      <td>45181</td>\n      <td>44900</td>\n      <td>68</td>\n      <td>Uncharacterized protein</td>\n      <td>43194</td>\n      <td>234989</td>\n    </tr>\n  </tbody>\n</table>\n</div>"
     },
     "execution_count": 6,
     "metadata": {},
     "output_type": "execute_result"
    }
   ],
   "source": [
    "# Add a contig sequential number in addition to contig id.\n",
    "contig_id_to_int = {y:x for x,y in enumerate(data.contig_id.tolist())}\n",
    "#### data.replace({'contig_id': contig_id_to_int})\n",
    "data[\"contig_number\"] = replace_val(data.contig_id, contig_id_to_int)\n",
    "\n",
    "data.head(2)"
   ],
   "metadata": {
    "collapsed": false,
    "pycharm": {
     "name": "#%%\n"
    }
   }
  },
  {
   "cell_type": "code",
   "execution_count": 9,
   "outputs": [
    {
     "data": {
      "text/plain": "                nb_occurrences\ncluster_number                \n3929                       135\n6051                       134\n8867                       135\n21058                      122\n25595                      135",
      "text/html": "<div>\n<style scoped>\n    .dataframe tbody tr th:only-of-type {\n        vertical-align: middle;\n    }\n\n    .dataframe tbody tr th {\n        vertical-align: top;\n    }\n\n    .dataframe thead th {\n        text-align: right;\n    }\n</style>\n<table border=\"1\" class=\"dataframe\">\n  <thead>\n    <tr style=\"text-align: right;\">\n      <th></th>\n      <th>nb_occurrences</th>\n    </tr>\n    <tr>\n      <th>cluster_number</th>\n      <th></th>\n    </tr>\n  </thead>\n  <tbody>\n    <tr>\n      <th>3929</th>\n      <td>135</td>\n    </tr>\n    <tr>\n      <th>6051</th>\n      <td>134</td>\n    </tr>\n    <tr>\n      <th>8867</th>\n      <td>135</td>\n    </tr>\n    <tr>\n      <th>21058</th>\n      <td>122</td>\n    </tr>\n    <tr>\n      <th>25595</th>\n      <td>135</td>\n    </tr>\n  </tbody>\n</table>\n</div>"
     },
     "execution_count": 9,
     "metadata": {},
     "output_type": "execute_result"
    }
   ],
   "source": [
    "temp = data.groupby(\"contig_number\").apply(lambda x: sorted(set(x[\"cluster_number\"].values)))\n",
    "subsets = pd.DataFrame({\"contig_id\": temp.index, \"cluster_number\": temp.values})\n",
    "contig_counts = pd.DataFrame(Counter(itertools.chain(*subsets.cluster_number.values)).items())\n",
    "contig_counts.columns = [\"cluster_number\", \"nb_occurrences\"]\n",
    "contig_counts = contig_counts.set_index(\"cluster_number\")\n",
    "contig_counts.head()"
   ],
   "metadata": {
    "collapsed": false,
    "pycharm": {
     "name": "#%%\n"
    }
   }
  },
  {
   "cell_type": "code",
   "execution_count": 114,
   "outputs": [
    {
     "data": {
      "text/plain": "contig_number\n82638     [3929, 57763, 25595, 6051, 21058, 8867]\n106079                 [6292, 30149, 18722, 3490]\n109093    [57763, 25595, 6051, 21058, 8867, 3929]\n118155                       [6292, 30149, 26181]\n122079    [44650, 25595, 6051, 21058, 8867, 3929]\ndtype: object"
     },
     "execution_count": 114,
     "metadata": {},
     "output_type": "execute_result"
    }
   ],
   "source": [
    "contigs_in_order = data.groupby(\"contig_number\").apply(lambda g: list(g.sort_values(\"ORF_location_on_contig\").cluster_number.values))\n",
    "contigs_in_order.head()"
   ],
   "metadata": {
    "collapsed": false,
    "pycharm": {
     "name": "#%%\n"
    }
   }
  },
  {
   "cell_type": "markdown",
   "source": [
    "# Computing Modules of Size 2"
   ],
   "metadata": {
    "collapsed": false,
    "pycharm": {
     "name": "#%% md\n"
    }
   }
  },
  {
   "cell_type": "code",
   "execution_count": 81,
   "outputs": [
    {
     "data": {
      "text/plain": "contig_number\n82638     [(3929, 8867), (21058, 25595), (3929, 6051), (...\n106079    [(6292, 30149), (18722, 30149), (3490, 18722),...\n109093    [(3929, 8867), (21058, 25595), (3929, 6051), (...\n118155       [(6292, 30149), (26181, 30149), (6292, 26181)]\n122079    [(21058, 44650), (3929, 8867), (8867, 44650), ...\ndtype: object"
     },
     "execution_count": 81,
     "metadata": {},
     "output_type": "execute_result"
    }
   ],
   "source": [
    "def find_size_n_in_window(group, set_size, window_size):\n",
    "    group.sort_values(by=\"ORF_location_on_contig\")\n",
    "    if window_size > len(group):\n",
    "        window_size = len(group)\n",
    "    unsorted_pairs = []\n",
    "    pairs=[]\n",
    "    contig_clusters = group.cluster_number.values\n",
    "    window_size = min(len(contig_clusters), window_size)\n",
    "    for i, line_id in enumerate(contig_clusters[:-(window_size- 1)]):\n",
    "        unsorted_pairs.append(list(itertools.combinations(contig_clusters[i: i+window_size], set_size)))\n",
    "    for pair in set(list(itertools.chain(*unsorted_pairs))):\n",
    "        pairs.append(tuple(sorted(pair)))\n",
    "    return list(set(pairs))\n",
    "\n",
    "combination_2_contigs = data.groupby(\"contig_number\").apply(find_size_n_in_window, set_size=2, window_size=8)\n",
    "combination_2_contigs.head()"
   ],
   "metadata": {
    "collapsed": false,
    "pycharm": {
     "name": "#%%\n"
    }
   }
  },
  {
   "cell_type": "code",
   "execution_count": 82,
   "outputs": [
    {
     "data": {
      "text/plain": "                nb_occurrences\ncombination                   \n(3929, 8867)               135\n(21058, 25595)             122\n(3929, 6051)               134\n(3929, 57763)               25\n(8867, 25595)              135",
      "text/html": "<div>\n<style scoped>\n    .dataframe tbody tr th:only-of-type {\n        vertical-align: middle;\n    }\n\n    .dataframe tbody tr th {\n        vertical-align: top;\n    }\n\n    .dataframe thead th {\n        text-align: right;\n    }\n</style>\n<table border=\"1\" class=\"dataframe\">\n  <thead>\n    <tr style=\"text-align: right;\">\n      <th></th>\n      <th>nb_occurrences</th>\n    </tr>\n    <tr>\n      <th>combination</th>\n      <th></th>\n    </tr>\n  </thead>\n  <tbody>\n    <tr>\n      <th>(3929, 8867)</th>\n      <td>135</td>\n    </tr>\n    <tr>\n      <th>(21058, 25595)</th>\n      <td>122</td>\n    </tr>\n    <tr>\n      <th>(3929, 6051)</th>\n      <td>134</td>\n    </tr>\n    <tr>\n      <th>(3929, 57763)</th>\n      <td>25</td>\n    </tr>\n    <tr>\n      <th>(8867, 25595)</th>\n      <td>135</td>\n    </tr>\n  </tbody>\n</table>\n</div>"
     },
     "execution_count": 82,
     "metadata": {},
     "output_type": "execute_result"
    }
   ],
   "source": [
    "combination_2_counts = Counter(itertools.chain(*combination_2_contigs.values))\n",
    "combination_2_counts = pd.DataFrame(combination_2_counts.items())\n",
    "combination_2_counts.columns = [\"combination\", \"nb_occurrences\"]\n",
    "combination_2_counts = combination_2_counts.set_index(\"combination\")\n",
    "combination_2_counts.head()"
   ],
   "metadata": {
    "collapsed": false,
    "pycharm": {
     "name": "#%%\n"
    }
   }
  },
  {
   "cell_type": "code",
   "execution_count": 83,
   "outputs": [],
   "source": [
    "combination_2_counts[\"item_0\"] = contig_counts.loc[combination_2_counts.index.map(lambda x: x[0])].values\n",
    "combination_2_counts[\"item_1\"] = contig_counts.loc[combination_2_counts.index.map(lambda x: x[1])].values\n",
    "combination_2_counts[\"Dice\"] = (2 * combination_2_counts.nb_occurrences) / (combination_2_counts.item_0 + combination_2_counts.item_1)\n"
   ],
   "metadata": {
    "collapsed": false,
    "pycharm": {
     "name": "#%%\n"
    }
   }
  },
  {
   "cell_type": "code",
   "execution_count": 84,
   "outputs": [
    {
     "name": "stdout",
     "output_type": "stream",
     "text": [
      "(599, 4)\n"
     ]
    },
    {
     "data": {
      "text/plain": "               nb_occurrences  item_0  item_1      Dice\ncombination                                            \n(3929, 8867)              135     135     135  1.000000\n(8867, 25595)             135     135     135  1.000000\n(3929, 25595)             135     135     135  1.000000\n(3929, 6051)              134     135     134  0.996283\n(6051, 25595)             134     134     135  0.996283",
      "text/html": "<div>\n<style scoped>\n    .dataframe tbody tr th:only-of-type {\n        vertical-align: middle;\n    }\n\n    .dataframe tbody tr th {\n        vertical-align: top;\n    }\n\n    .dataframe thead th {\n        text-align: right;\n    }\n</style>\n<table border=\"1\" class=\"dataframe\">\n  <thead>\n    <tr style=\"text-align: right;\">\n      <th></th>\n      <th>nb_occurrences</th>\n      <th>item_0</th>\n      <th>item_1</th>\n      <th>Dice</th>\n    </tr>\n    <tr>\n      <th>combination</th>\n      <th></th>\n      <th></th>\n      <th></th>\n      <th></th>\n    </tr>\n  </thead>\n  <tbody>\n    <tr>\n      <th>(3929, 8867)</th>\n      <td>135</td>\n      <td>135</td>\n      <td>135</td>\n      <td>1.000000</td>\n    </tr>\n    <tr>\n      <th>(8867, 25595)</th>\n      <td>135</td>\n      <td>135</td>\n      <td>135</td>\n      <td>1.000000</td>\n    </tr>\n    <tr>\n      <th>(3929, 25595)</th>\n      <td>135</td>\n      <td>135</td>\n      <td>135</td>\n      <td>1.000000</td>\n    </tr>\n    <tr>\n      <th>(3929, 6051)</th>\n      <td>134</td>\n      <td>135</td>\n      <td>134</td>\n      <td>0.996283</td>\n    </tr>\n    <tr>\n      <th>(6051, 25595)</th>\n      <td>134</td>\n      <td>134</td>\n      <td>135</td>\n      <td>0.996283</td>\n    </tr>\n  </tbody>\n</table>\n</div>"
     },
     "execution_count": 84,
     "metadata": {},
     "output_type": "execute_result"
    }
   ],
   "source": [
    "combination_2_counts_filtered = combination_2_counts[(combination_2_counts.nb_occurrences > 10) & (combination_2_counts.Dice > 0.3)].sort_values(by=[\"nb_occurrences\", \"Dice\"], ascending=False)\n",
    "print(combination_2_counts_filtered.shape)\n",
    "combination_2_counts_filtered.head()"
   ],
   "metadata": {
    "collapsed": false,
    "pycharm": {
     "name": "#%%\n"
    }
   }
  },
  {
   "cell_type": "markdown",
   "source": [
    "# Computing Modules of Size 3"
   ],
   "metadata": {
    "collapsed": false,
    "pycharm": {
     "name": "#%% md\n"
    }
   }
  },
  {
   "cell_type": "code",
   "execution_count": 85,
   "outputs": [
    {
     "data": {
      "text/plain": "contig_number\n82638     [(6051, 21058, 25595), (3929, 6051, 25595), (6...\n106079    [(6292, 18722, 30149), (3490, 18722, 30149), (...\n109093    [(6051, 21058, 25595), (3929, 6051, 25595), (6...\n118155                               [(6292, 26181, 30149)]\n122079    [(6051, 21058, 25595), (3929, 6051, 25595), (3...\ndtype: object"
     },
     "execution_count": 85,
     "metadata": {},
     "output_type": "execute_result"
    }
   ],
   "source": [
    "combination_3_contigs = data.groupby(\"contig_number\").apply(find_size_n_in_window, set_size=3, window_size=8)\n",
    "combination_3_contigs.head()"
   ],
   "metadata": {
    "collapsed": false,
    "pycharm": {
     "name": "#%%\n"
    }
   }
  },
  {
   "cell_type": "code",
   "execution_count": 86,
   "outputs": [
    {
     "data": {
      "text/plain": "                      nb_occurrences\ncombination                         \n(6051, 21058, 25595)             121\n(3929, 6051, 25595)              134\n(6051, 21058, 57763)              25\n(3929, 6051, 8867)               134\n(6051, 8867, 25595)              134",
      "text/html": "<div>\n<style scoped>\n    .dataframe tbody tr th:only-of-type {\n        vertical-align: middle;\n    }\n\n    .dataframe tbody tr th {\n        vertical-align: top;\n    }\n\n    .dataframe thead th {\n        text-align: right;\n    }\n</style>\n<table border=\"1\" class=\"dataframe\">\n  <thead>\n    <tr style=\"text-align: right;\">\n      <th></th>\n      <th>nb_occurrences</th>\n    </tr>\n    <tr>\n      <th>combination</th>\n      <th></th>\n    </tr>\n  </thead>\n  <tbody>\n    <tr>\n      <th>(6051, 21058, 25595)</th>\n      <td>121</td>\n    </tr>\n    <tr>\n      <th>(3929, 6051, 25595)</th>\n      <td>134</td>\n    </tr>\n    <tr>\n      <th>(6051, 21058, 57763)</th>\n      <td>25</td>\n    </tr>\n    <tr>\n      <th>(3929, 6051, 8867)</th>\n      <td>134</td>\n    </tr>\n    <tr>\n      <th>(6051, 8867, 25595)</th>\n      <td>134</td>\n    </tr>\n  </tbody>\n</table>\n</div>"
     },
     "execution_count": 86,
     "metadata": {},
     "output_type": "execute_result"
    }
   ],
   "source": [
    "combination_3_counts = Counter(itertools.chain(*combination_3_contigs.values))\n",
    "combination_3_counts = pd.DataFrame(combination_3_counts.items())\n",
    "combination_3_counts.columns = [\"combination\", \"nb_occurrences\"]\n",
    "combination_3_counts = combination_3_counts.set_index(\"combination\")\n",
    "combination_3_counts.head()"
   ],
   "metadata": {
    "collapsed": false,
    "pycharm": {
     "name": "#%%\n"
    }
   }
  },
  {
   "cell_type": "code",
   "execution_count": 87,
   "outputs": [
    {
     "data": {
      "text/plain": "                      nb_occurrences  item_0  item_1  item_2      Dice\ncombination                                                           \n(6051, 21058, 25595)             121     134     122     135  0.928389\n(3929, 6051, 25595)              134     135     134     135  0.995050\n(6051, 21058, 57763)              25     134     122      25  0.266904\n(3929, 6051, 8867)               134     135     134     135  0.995050\n(6051, 8867, 25595)              134     134     135     135  0.995050",
      "text/html": "<div>\n<style scoped>\n    .dataframe tbody tr th:only-of-type {\n        vertical-align: middle;\n    }\n\n    .dataframe tbody tr th {\n        vertical-align: top;\n    }\n\n    .dataframe thead th {\n        text-align: right;\n    }\n</style>\n<table border=\"1\" class=\"dataframe\">\n  <thead>\n    <tr style=\"text-align: right;\">\n      <th></th>\n      <th>nb_occurrences</th>\n      <th>item_0</th>\n      <th>item_1</th>\n      <th>item_2</th>\n      <th>Dice</th>\n    </tr>\n    <tr>\n      <th>combination</th>\n      <th></th>\n      <th></th>\n      <th></th>\n      <th></th>\n      <th></th>\n    </tr>\n  </thead>\n  <tbody>\n    <tr>\n      <th>(6051, 21058, 25595)</th>\n      <td>121</td>\n      <td>134</td>\n      <td>122</td>\n      <td>135</td>\n      <td>0.928389</td>\n    </tr>\n    <tr>\n      <th>(3929, 6051, 25595)</th>\n      <td>134</td>\n      <td>135</td>\n      <td>134</td>\n      <td>135</td>\n      <td>0.995050</td>\n    </tr>\n    <tr>\n      <th>(6051, 21058, 57763)</th>\n      <td>25</td>\n      <td>134</td>\n      <td>122</td>\n      <td>25</td>\n      <td>0.266904</td>\n    </tr>\n    <tr>\n      <th>(3929, 6051, 8867)</th>\n      <td>134</td>\n      <td>135</td>\n      <td>134</td>\n      <td>135</td>\n      <td>0.995050</td>\n    </tr>\n    <tr>\n      <th>(6051, 8867, 25595)</th>\n      <td>134</td>\n      <td>134</td>\n      <td>135</td>\n      <td>135</td>\n      <td>0.995050</td>\n    </tr>\n  </tbody>\n</table>\n</div>"
     },
     "execution_count": 87,
     "metadata": {},
     "output_type": "execute_result"
    }
   ],
   "source": [
    "combination_3_counts[\"item_0\"] = contig_counts.loc[combination_3_counts.index.map(lambda x: x[0])].values\n",
    "combination_3_counts[\"item_1\"] = contig_counts.loc[combination_3_counts.index.map(lambda x: x[1])].values\n",
    "combination_3_counts[\"item_2\"] = contig_counts.loc[combination_3_counts.index.map(lambda x: x[2])].values\n",
    "combination_3_counts[\"Dice\"] = (3 * combination_3_counts.nb_occurrences) / (combination_3_counts.item_0 + combination_3_counts.item_1 + combination_3_counts.item_2)\n",
    "combination_3_counts.head()"
   ],
   "metadata": {
    "collapsed": false,
    "pycharm": {
     "name": "#%%\n"
    }
   }
  },
  {
   "cell_type": "code",
   "execution_count": 88,
   "outputs": [
    {
     "name": "stdout",
     "output_type": "stream",
     "text": [
      "(73, 5)\n"
     ]
    },
    {
     "data": {
      "text/plain": "                      nb_occurrences  item_0  item_1  item_2      Dice\ncombination                                                           \n(3929, 8867, 25595)              135     135     135     135  1.000000\n(3929, 6051, 25595)              134     135     134     135  0.995050\n(3929, 6051, 8867)               134     135     134     135  0.995050\n(6051, 8867, 25595)              134     134     135     135  0.995050\n(8867, 21058, 25595)             122     135     122     135  0.933673",
      "text/html": "<div>\n<style scoped>\n    .dataframe tbody tr th:only-of-type {\n        vertical-align: middle;\n    }\n\n    .dataframe tbody tr th {\n        vertical-align: top;\n    }\n\n    .dataframe thead th {\n        text-align: right;\n    }\n</style>\n<table border=\"1\" class=\"dataframe\">\n  <thead>\n    <tr style=\"text-align: right;\">\n      <th></th>\n      <th>nb_occurrences</th>\n      <th>item_0</th>\n      <th>item_1</th>\n      <th>item_2</th>\n      <th>Dice</th>\n    </tr>\n    <tr>\n      <th>combination</th>\n      <th></th>\n      <th></th>\n      <th></th>\n      <th></th>\n      <th></th>\n    </tr>\n  </thead>\n  <tbody>\n    <tr>\n      <th>(3929, 8867, 25595)</th>\n      <td>135</td>\n      <td>135</td>\n      <td>135</td>\n      <td>135</td>\n      <td>1.000000</td>\n    </tr>\n    <tr>\n      <th>(3929, 6051, 25595)</th>\n      <td>134</td>\n      <td>135</td>\n      <td>134</td>\n      <td>135</td>\n      <td>0.995050</td>\n    </tr>\n    <tr>\n      <th>(3929, 6051, 8867)</th>\n      <td>134</td>\n      <td>135</td>\n      <td>134</td>\n      <td>135</td>\n      <td>0.995050</td>\n    </tr>\n    <tr>\n      <th>(6051, 8867, 25595)</th>\n      <td>134</td>\n      <td>134</td>\n      <td>135</td>\n      <td>135</td>\n      <td>0.995050</td>\n    </tr>\n    <tr>\n      <th>(8867, 21058, 25595)</th>\n      <td>122</td>\n      <td>135</td>\n      <td>122</td>\n      <td>135</td>\n      <td>0.933673</td>\n    </tr>\n  </tbody>\n</table>\n</div>"
     },
     "execution_count": 88,
     "metadata": {},
     "output_type": "execute_result"
    }
   ],
   "source": [
    "combination_3_counts_filtered = combination_3_counts[(combination_3_counts.nb_occurrences > 5) & (combination_3_counts.Dice > 0.2)].sort_values(by=[\"nb_occurrences\", \"Dice\"], ascending=False)\n",
    "print(combination_3_counts_filtered.shape)\n",
    "combination_3_counts_filtered.head()"
   ],
   "metadata": {
    "collapsed": false,
    "pycharm": {
     "name": "#%%\n"
    }
   }
  },
  {
   "cell_type": "markdown",
   "source": [
    "# Computing Modules of Size 4\n"
   ],
   "metadata": {
    "collapsed": false,
    "pycharm": {
     "name": "#%% md\n"
    }
   }
  },
  {
   "cell_type": "code",
   "execution_count": 89,
   "outputs": [
    {
     "data": {
      "text/plain": "contig_number\n82638     [(3929, 6051, 8867, 57763), (3929, 8867, 21058...\n106079                         [(3490, 6292, 18722, 30149)]\n109093    [(3929, 6051, 8867, 57763), (3929, 8867, 21058...\n118155                                                   []\n122079    [(3929, 8867, 21058, 44650), (3929, 6051, 2559...\ndtype: object"
     },
     "execution_count": 89,
     "metadata": {},
     "output_type": "execute_result"
    }
   ],
   "source": [
    "combination_4_contigs = data.groupby(\"contig_number\").apply(find_size_n_in_window, set_size=4, window_size=8)\n",
    "combination_4_contigs.head()"
   ],
   "metadata": {
    "collapsed": false,
    "pycharm": {
     "name": "#%%\n"
    }
   }
  },
  {
   "cell_type": "code",
   "execution_count": 90,
   "id": "6faba395",
   "metadata": {},
   "outputs": [
    {
     "data": {
      "text/plain": "                             nb_occurrences\ncombination                                \n(3929, 6051, 8867, 57763)                25\n(3929, 8867, 21058, 25595)              122\n(6051, 21058, 25595, 57763)              25\n(3929, 6051, 8867, 25595)               134\n(6051, 8867, 21058, 25595)              121",
      "text/html": "<div>\n<style scoped>\n    .dataframe tbody tr th:only-of-type {\n        vertical-align: middle;\n    }\n\n    .dataframe tbody tr th {\n        vertical-align: top;\n    }\n\n    .dataframe thead th {\n        text-align: right;\n    }\n</style>\n<table border=\"1\" class=\"dataframe\">\n  <thead>\n    <tr style=\"text-align: right;\">\n      <th></th>\n      <th>nb_occurrences</th>\n    </tr>\n    <tr>\n      <th>combination</th>\n      <th></th>\n    </tr>\n  </thead>\n  <tbody>\n    <tr>\n      <th>(3929, 6051, 8867, 57763)</th>\n      <td>25</td>\n    </tr>\n    <tr>\n      <th>(3929, 8867, 21058, 25595)</th>\n      <td>122</td>\n    </tr>\n    <tr>\n      <th>(6051, 21058, 25595, 57763)</th>\n      <td>25</td>\n    </tr>\n    <tr>\n      <th>(3929, 6051, 8867, 25595)</th>\n      <td>134</td>\n    </tr>\n    <tr>\n      <th>(6051, 8867, 21058, 25595)</th>\n      <td>121</td>\n    </tr>\n  </tbody>\n</table>\n</div>"
     },
     "execution_count": 90,
     "metadata": {},
     "output_type": "execute_result"
    }
   ],
   "source": [
    "combination_4_counts = Counter(itertools.chain(*combination_4_contigs.values))\n",
    "combination_4_counts = pd.DataFrame(combination_4_counts.items())\n",
    "combination_4_counts.columns = [\"combination\", \"nb_occurrences\"]\n",
    "combination_4_counts = combination_4_counts.set_index(\"combination\")\n",
    "combination_4_counts.head()\n"
   ]
  },
  {
   "cell_type": "code",
   "execution_count": 91,
   "outputs": [
    {
     "data": {
      "text/plain": "                             nb_occurrences  item_0  item_1  item_2  item_3  \\\ncombination                                                                   \n(3929, 6051, 8867, 57763)                25     135     134     135      25   \n(3929, 8867, 21058, 25595)              122     135     135     122     135   \n(6051, 21058, 25595, 57763)              25     134     122     135      25   \n(3929, 6051, 8867, 25595)               134     135     134     135     135   \n(6051, 8867, 21058, 25595)              121     134     135     122     135   \n\n                                 Dice  \ncombination                            \n(3929, 6051, 8867, 57763)    0.233100  \n(3929, 8867, 21058, 25595)   0.925996  \n(6051, 21058, 25595, 57763)  0.240385  \n(3929, 6051, 8867, 25595)    0.994434  \n(6051, 8867, 21058, 25595)   0.920152  ",
      "text/html": "<div>\n<style scoped>\n    .dataframe tbody tr th:only-of-type {\n        vertical-align: middle;\n    }\n\n    .dataframe tbody tr th {\n        vertical-align: top;\n    }\n\n    .dataframe thead th {\n        text-align: right;\n    }\n</style>\n<table border=\"1\" class=\"dataframe\">\n  <thead>\n    <tr style=\"text-align: right;\">\n      <th></th>\n      <th>nb_occurrences</th>\n      <th>item_0</th>\n      <th>item_1</th>\n      <th>item_2</th>\n      <th>item_3</th>\n      <th>Dice</th>\n    </tr>\n    <tr>\n      <th>combination</th>\n      <th></th>\n      <th></th>\n      <th></th>\n      <th></th>\n      <th></th>\n      <th></th>\n    </tr>\n  </thead>\n  <tbody>\n    <tr>\n      <th>(3929, 6051, 8867, 57763)</th>\n      <td>25</td>\n      <td>135</td>\n      <td>134</td>\n      <td>135</td>\n      <td>25</td>\n      <td>0.233100</td>\n    </tr>\n    <tr>\n      <th>(3929, 8867, 21058, 25595)</th>\n      <td>122</td>\n      <td>135</td>\n      <td>135</td>\n      <td>122</td>\n      <td>135</td>\n      <td>0.925996</td>\n    </tr>\n    <tr>\n      <th>(6051, 21058, 25595, 57763)</th>\n      <td>25</td>\n      <td>134</td>\n      <td>122</td>\n      <td>135</td>\n      <td>25</td>\n      <td>0.240385</td>\n    </tr>\n    <tr>\n      <th>(3929, 6051, 8867, 25595)</th>\n      <td>134</td>\n      <td>135</td>\n      <td>134</td>\n      <td>135</td>\n      <td>135</td>\n      <td>0.994434</td>\n    </tr>\n    <tr>\n      <th>(6051, 8867, 21058, 25595)</th>\n      <td>121</td>\n      <td>134</td>\n      <td>135</td>\n      <td>122</td>\n      <td>135</td>\n      <td>0.920152</td>\n    </tr>\n  </tbody>\n</table>\n</div>"
     },
     "execution_count": 91,
     "metadata": {},
     "output_type": "execute_result"
    }
   ],
   "source": [
    "combination_4_counts[\"item_0\"] = contig_counts.loc[combination_4_counts.index.map(lambda x: x[0])].values\n",
    "combination_4_counts[\"item_1\"] = contig_counts.loc[combination_4_counts.index.map(lambda x: x[1])].values\n",
    "combination_4_counts[\"item_2\"] = contig_counts.loc[combination_4_counts.index.map(lambda x: x[2])].values\n",
    "combination_4_counts[\"item_3\"] = contig_counts.loc[combination_4_counts.index.map(lambda x: x[3])].values\n",
    "combination_4_counts[\"Dice\"] = (4 * combination_4_counts.nb_occurrences) / \\\n",
    "                               (combination_4_counts.item_0 + combination_4_counts.item_1 + combination_4_counts.item_2 + combination_4_counts.item_3)\n",
    "combination_4_counts.head()"
   ],
   "metadata": {
    "collapsed": false,
    "pycharm": {
     "name": "#%%\n"
    }
   }
  },
  {
   "cell_type": "code",
   "execution_count": 92,
   "outputs": [
    {
     "name": "stdout",
     "output_type": "stream",
     "text": [
      "(53, 6)\n"
     ]
    },
    {
     "data": {
      "text/plain": "                            nb_occurrences  item_0  item_1  item_2  item_3  \\\ncombination                                                                  \n(3929, 6051, 8867, 25595)              134     135     134     135     135   \n(3929, 8867, 21058, 25595)             122     135     135     122     135   \n(6051, 8867, 21058, 25595)             121     134     135     122     135   \n(3929, 6051, 21058, 25595)             121     135     134     122     135   \n(3929, 6051, 8867, 21058)              121     135     134     135     122   \n\n                                Dice  \ncombination                           \n(3929, 6051, 8867, 25595)   0.994434  \n(3929, 8867, 21058, 25595)  0.925996  \n(6051, 8867, 21058, 25595)  0.920152  \n(3929, 6051, 21058, 25595)  0.920152  \n(3929, 6051, 8867, 21058)   0.920152  ",
      "text/html": "<div>\n<style scoped>\n    .dataframe tbody tr th:only-of-type {\n        vertical-align: middle;\n    }\n\n    .dataframe tbody tr th {\n        vertical-align: top;\n    }\n\n    .dataframe thead th {\n        text-align: right;\n    }\n</style>\n<table border=\"1\" class=\"dataframe\">\n  <thead>\n    <tr style=\"text-align: right;\">\n      <th></th>\n      <th>nb_occurrences</th>\n      <th>item_0</th>\n      <th>item_1</th>\n      <th>item_2</th>\n      <th>item_3</th>\n      <th>Dice</th>\n    </tr>\n    <tr>\n      <th>combination</th>\n      <th></th>\n      <th></th>\n      <th></th>\n      <th></th>\n      <th></th>\n      <th></th>\n    </tr>\n  </thead>\n  <tbody>\n    <tr>\n      <th>(3929, 6051, 8867, 25595)</th>\n      <td>134</td>\n      <td>135</td>\n      <td>134</td>\n      <td>135</td>\n      <td>135</td>\n      <td>0.994434</td>\n    </tr>\n    <tr>\n      <th>(3929, 8867, 21058, 25595)</th>\n      <td>122</td>\n      <td>135</td>\n      <td>135</td>\n      <td>122</td>\n      <td>135</td>\n      <td>0.925996</td>\n    </tr>\n    <tr>\n      <th>(6051, 8867, 21058, 25595)</th>\n      <td>121</td>\n      <td>134</td>\n      <td>135</td>\n      <td>122</td>\n      <td>135</td>\n      <td>0.920152</td>\n    </tr>\n    <tr>\n      <th>(3929, 6051, 21058, 25595)</th>\n      <td>121</td>\n      <td>135</td>\n      <td>134</td>\n      <td>122</td>\n      <td>135</td>\n      <td>0.920152</td>\n    </tr>\n    <tr>\n      <th>(3929, 6051, 8867, 21058)</th>\n      <td>121</td>\n      <td>135</td>\n      <td>134</td>\n      <td>135</td>\n      <td>122</td>\n      <td>0.920152</td>\n    </tr>\n  </tbody>\n</table>\n</div>"
     },
     "execution_count": 92,
     "metadata": {},
     "output_type": "execute_result"
    }
   ],
   "source": [
    "combination_4_counts_filtered = combination_4_counts[(combination_4_counts.nb_occurrences > 5) & (combination_4_counts.Dice > 0.2)].sort_values(by=[\"nb_occurrences\", \"Dice\"], ascending=False)\n",
    "print(combination_4_counts_filtered.shape)\n",
    "combination_4_counts_filtered.head()"
   ],
   "metadata": {
    "collapsed": false,
    "pycharm": {
     "name": "#%%\n"
    }
   }
  },
  {
   "cell_type": "markdown",
   "source": [
    "### Computing Modules of Size 5"
   ],
   "metadata": {
    "collapsed": false,
    "pycharm": {
     "name": "#%% md\n"
    }
   }
  },
  {
   "cell_type": "code",
   "execution_count": 93,
   "outputs": [
    {
     "data": {
      "text/plain": "contig_number\n82638     [(3929, 8867, 21058, 25595, 57763), (3929, 605...\n106079                                                   []\n109093    [(3929, 8867, 21058, 25595, 57763), (3929, 605...\n118155                                                   []\n122079    [(3929, 6051, 8867, 21058, 44650), (6051, 8867...\ndtype: object"
     },
     "execution_count": 93,
     "metadata": {},
     "output_type": "execute_result"
    }
   ],
   "source": [
    "combination_5_contigs = data.groupby(\"contig_number\").apply(find_size_n_in_window, set_size=5, window_size=8)\n",
    "combination_5_contigs.head()"
   ],
   "metadata": {
    "collapsed": false,
    "pycharm": {
     "name": "#%%\n"
    }
   }
  },
  {
   "cell_type": "code",
   "execution_count": 94,
   "outputs": [
    {
     "data": {
      "text/plain": "                                   nb_occurrences\ncombination                                      \n(3929, 8867, 21058, 25595, 57763)              25\n(3929, 6051, 8867, 21058, 25595)              121\n(3929, 6051, 8867, 21058, 57763)               25\n(3929, 6051, 21058, 25595, 57763)              25\n(3929, 6051, 8867, 25595, 57763)               25",
      "text/html": "<div>\n<style scoped>\n    .dataframe tbody tr th:only-of-type {\n        vertical-align: middle;\n    }\n\n    .dataframe tbody tr th {\n        vertical-align: top;\n    }\n\n    .dataframe thead th {\n        text-align: right;\n    }\n</style>\n<table border=\"1\" class=\"dataframe\">\n  <thead>\n    <tr style=\"text-align: right;\">\n      <th></th>\n      <th>nb_occurrences</th>\n    </tr>\n    <tr>\n      <th>combination</th>\n      <th></th>\n    </tr>\n  </thead>\n  <tbody>\n    <tr>\n      <th>(3929, 8867, 21058, 25595, 57763)</th>\n      <td>25</td>\n    </tr>\n    <tr>\n      <th>(3929, 6051, 8867, 21058, 25595)</th>\n      <td>121</td>\n    </tr>\n    <tr>\n      <th>(3929, 6051, 8867, 21058, 57763)</th>\n      <td>25</td>\n    </tr>\n    <tr>\n      <th>(3929, 6051, 21058, 25595, 57763)</th>\n      <td>25</td>\n    </tr>\n    <tr>\n      <th>(3929, 6051, 8867, 25595, 57763)</th>\n      <td>25</td>\n    </tr>\n  </tbody>\n</table>\n</div>"
     },
     "execution_count": 94,
     "metadata": {},
     "output_type": "execute_result"
    }
   ],
   "source": [
    "combination_5_counts = Counter(itertools.chain(*combination_5_contigs.values))\n",
    "combination_5_counts = pd.DataFrame(combination_5_counts.items())\n",
    "combination_5_counts.columns = [\"combination\", \"nb_occurrences\"]\n",
    "combination_5_counts = combination_5_counts.set_index(\"combination\")\n",
    "combination_5_counts.head()\n"
   ],
   "metadata": {
    "collapsed": false,
    "pycharm": {
     "name": "#%%\n"
    }
   }
  },
  {
   "cell_type": "code",
   "execution_count": 95,
   "outputs": [],
   "source": [
    "combination_5_counts[\"item_0\"] = contig_counts.loc[combination_5_counts.index.map(lambda x: x[0])].values\n",
    "combination_5_counts[\"item_1\"] = contig_counts.loc[combination_5_counts.index.map(lambda x: x[1])].values\n",
    "combination_5_counts[\"item_2\"] = contig_counts.loc[combination_5_counts.index.map(lambda x: x[2])].values\n",
    "combination_5_counts[\"item_3\"] = contig_counts.loc[combination_5_counts.index.map(lambda x: x[3])].values\n",
    "combination_5_counts[\"item_4\"] = contig_counts.loc[combination_5_counts.index.map(lambda x: x[4])].values\n"
   ],
   "metadata": {
    "collapsed": false,
    "pycharm": {
     "name": "#%%\n"
    }
   }
  },
  {
   "cell_type": "code",
   "execution_count": 96,
   "outputs": [
    {
     "data": {
      "text/plain": "                                   nb_occurrences  item_0  item_1  item_2  \\\ncombination                                                                 \n(3929, 8867, 21058, 25595, 57763)              25     135     135     122   \n(3929, 6051, 8867, 21058, 25595)              121     135     134     135   \n(3929, 6051, 8867, 21058, 57763)               25     135     134     135   \n(3929, 6051, 21058, 25595, 57763)              25     135     134     122   \n(3929, 6051, 8867, 25595, 57763)               25     135     134     135   \n\n                                   item_3  item_4      Dice  \ncombination                                                  \n(3929, 8867, 21058, 25595, 57763)     135      25  0.226449  \n(3929, 6051, 8867, 21058, 25595)      122     135  0.915280  \n(3929, 6051, 8867, 21058, 57763)      122      25  0.226860  \n(3929, 6051, 21058, 25595, 57763)     135      25  0.226860  \n(3929, 6051, 8867, 25595, 57763)      135      25  0.221631  ",
      "text/html": "<div>\n<style scoped>\n    .dataframe tbody tr th:only-of-type {\n        vertical-align: middle;\n    }\n\n    .dataframe tbody tr th {\n        vertical-align: top;\n    }\n\n    .dataframe thead th {\n        text-align: right;\n    }\n</style>\n<table border=\"1\" class=\"dataframe\">\n  <thead>\n    <tr style=\"text-align: right;\">\n      <th></th>\n      <th>nb_occurrences</th>\n      <th>item_0</th>\n      <th>item_1</th>\n      <th>item_2</th>\n      <th>item_3</th>\n      <th>item_4</th>\n      <th>Dice</th>\n    </tr>\n    <tr>\n      <th>combination</th>\n      <th></th>\n      <th></th>\n      <th></th>\n      <th></th>\n      <th></th>\n      <th></th>\n      <th></th>\n    </tr>\n  </thead>\n  <tbody>\n    <tr>\n      <th>(3929, 8867, 21058, 25595, 57763)</th>\n      <td>25</td>\n      <td>135</td>\n      <td>135</td>\n      <td>122</td>\n      <td>135</td>\n      <td>25</td>\n      <td>0.226449</td>\n    </tr>\n    <tr>\n      <th>(3929, 6051, 8867, 21058, 25595)</th>\n      <td>121</td>\n      <td>135</td>\n      <td>134</td>\n      <td>135</td>\n      <td>122</td>\n      <td>135</td>\n      <td>0.915280</td>\n    </tr>\n    <tr>\n      <th>(3929, 6051, 8867, 21058, 57763)</th>\n      <td>25</td>\n      <td>135</td>\n      <td>134</td>\n      <td>135</td>\n      <td>122</td>\n      <td>25</td>\n      <td>0.226860</td>\n    </tr>\n    <tr>\n      <th>(3929, 6051, 21058, 25595, 57763)</th>\n      <td>25</td>\n      <td>135</td>\n      <td>134</td>\n      <td>122</td>\n      <td>135</td>\n      <td>25</td>\n      <td>0.226860</td>\n    </tr>\n    <tr>\n      <th>(3929, 6051, 8867, 25595, 57763)</th>\n      <td>25</td>\n      <td>135</td>\n      <td>134</td>\n      <td>135</td>\n      <td>135</td>\n      <td>25</td>\n      <td>0.221631</td>\n    </tr>\n  </tbody>\n</table>\n</div>"
     },
     "execution_count": 96,
     "metadata": {},
     "output_type": "execute_result"
    }
   ],
   "source": [
    "combination_5_counts[\"Dice\"] = (5 * combination_5_counts.nb_occurrences) / \\\n",
    "                               (combination_5_counts.item_0 + combination_5_counts.item_1 + combination_5_counts.item_2 + combination_5_counts.item_3 + combination_5_counts.item_4)\n",
    "combination_5_counts.head()"
   ],
   "metadata": {
    "collapsed": false,
    "pycharm": {
     "name": "#%%\n"
    }
   }
  },
  {
   "cell_type": "code",
   "execution_count": 97,
   "outputs": [
    {
     "name": "stdout",
     "output_type": "stream",
     "text": [
      "(180, 7)\n"
     ]
    },
    {
     "data": {
      "text/plain": "                                    nb_occurrences  item_0  item_1  item_2  \\\ncombination                                                                  \n(3929, 6051, 8867, 21058, 25595)               121     135     134     135   \n(3929, 8867, 21058, 25595, 44650)               96     135     135     122   \n(3929, 6051, 8867, 21058, 44650)                95     135     134     135   \n(6051, 8867, 21058, 25595, 44650)               95     134     135     122   \n(3929, 6051, 21058, 25595, 44650)               95     135     134     122   \n...                                            ...     ...     ...     ...   \n(5911, 7884, 29868, 45051, 50392)                3      11      13       5   \n(7884, 11892, 35990, 45051, 50392)               3      13       8       9   \n(5911, 7884, 11892, 35990, 50392)                3      11      13       8   \n(5911, 7884, 35990, 45051, 50392)                3      11      13       9   \n(1675, 6594, 23189, 34244, 60695)                3       7      24      26   \n\n                                    item_3  item_4      Dice  \ncombination                                                   \n(3929, 6051, 8867, 21058, 25595)       122     135  0.915280  \n(3929, 8867, 21058, 25595, 44650)      135      96  0.770465  \n(3929, 6051, 8867, 21058, 44650)       122      96  0.763666  \n(6051, 8867, 21058, 25595, 44650)      135      96  0.763666  \n(3929, 6051, 21058, 25595, 44650)      135      96  0.763666  \n...                                    ...     ...       ...  \n(5911, 7884, 29868, 45051, 50392)        9       8  0.326087  \n(7884, 11892, 35990, 45051, 50392)       9       8  0.319149  \n(5911, 7884, 11892, 35990, 50392)        9       8  0.306122  \n(5911, 7884, 35990, 45051, 50392)        9       8  0.300000  \n(1675, 6594, 23189, 34244, 60695)       12      16  0.176471  \n\n[180 rows x 7 columns]",
      "text/html": "<div>\n<style scoped>\n    .dataframe tbody tr th:only-of-type {\n        vertical-align: middle;\n    }\n\n    .dataframe tbody tr th {\n        vertical-align: top;\n    }\n\n    .dataframe thead th {\n        text-align: right;\n    }\n</style>\n<table border=\"1\" class=\"dataframe\">\n  <thead>\n    <tr style=\"text-align: right;\">\n      <th></th>\n      <th>nb_occurrences</th>\n      <th>item_0</th>\n      <th>item_1</th>\n      <th>item_2</th>\n      <th>item_3</th>\n      <th>item_4</th>\n      <th>Dice</th>\n    </tr>\n    <tr>\n      <th>combination</th>\n      <th></th>\n      <th></th>\n      <th></th>\n      <th></th>\n      <th></th>\n      <th></th>\n      <th></th>\n    </tr>\n  </thead>\n  <tbody>\n    <tr>\n      <th>(3929, 6051, 8867, 21058, 25595)</th>\n      <td>121</td>\n      <td>135</td>\n      <td>134</td>\n      <td>135</td>\n      <td>122</td>\n      <td>135</td>\n      <td>0.915280</td>\n    </tr>\n    <tr>\n      <th>(3929, 8867, 21058, 25595, 44650)</th>\n      <td>96</td>\n      <td>135</td>\n      <td>135</td>\n      <td>122</td>\n      <td>135</td>\n      <td>96</td>\n      <td>0.770465</td>\n    </tr>\n    <tr>\n      <th>(3929, 6051, 8867, 21058, 44650)</th>\n      <td>95</td>\n      <td>135</td>\n      <td>134</td>\n      <td>135</td>\n      <td>122</td>\n      <td>96</td>\n      <td>0.763666</td>\n    </tr>\n    <tr>\n      <th>(6051, 8867, 21058, 25595, 44650)</th>\n      <td>95</td>\n      <td>134</td>\n      <td>135</td>\n      <td>122</td>\n      <td>135</td>\n      <td>96</td>\n      <td>0.763666</td>\n    </tr>\n    <tr>\n      <th>(3929, 6051, 21058, 25595, 44650)</th>\n      <td>95</td>\n      <td>135</td>\n      <td>134</td>\n      <td>122</td>\n      <td>135</td>\n      <td>96</td>\n      <td>0.763666</td>\n    </tr>\n    <tr>\n      <th>...</th>\n      <td>...</td>\n      <td>...</td>\n      <td>...</td>\n      <td>...</td>\n      <td>...</td>\n      <td>...</td>\n      <td>...</td>\n    </tr>\n    <tr>\n      <th>(5911, 7884, 29868, 45051, 50392)</th>\n      <td>3</td>\n      <td>11</td>\n      <td>13</td>\n      <td>5</td>\n      <td>9</td>\n      <td>8</td>\n      <td>0.326087</td>\n    </tr>\n    <tr>\n      <th>(7884, 11892, 35990, 45051, 50392)</th>\n      <td>3</td>\n      <td>13</td>\n      <td>8</td>\n      <td>9</td>\n      <td>9</td>\n      <td>8</td>\n      <td>0.319149</td>\n    </tr>\n    <tr>\n      <th>(5911, 7884, 11892, 35990, 50392)</th>\n      <td>3</td>\n      <td>11</td>\n      <td>13</td>\n      <td>8</td>\n      <td>9</td>\n      <td>8</td>\n      <td>0.306122</td>\n    </tr>\n    <tr>\n      <th>(5911, 7884, 35990, 45051, 50392)</th>\n      <td>3</td>\n      <td>11</td>\n      <td>13</td>\n      <td>9</td>\n      <td>9</td>\n      <td>8</td>\n      <td>0.300000</td>\n    </tr>\n    <tr>\n      <th>(1675, 6594, 23189, 34244, 60695)</th>\n      <td>3</td>\n      <td>7</td>\n      <td>24</td>\n      <td>26</td>\n      <td>12</td>\n      <td>16</td>\n      <td>0.176471</td>\n    </tr>\n  </tbody>\n</table>\n<p>180 rows × 7 columns</p>\n</div>"
     },
     "execution_count": 97,
     "metadata": {},
     "output_type": "execute_result"
    }
   ],
   "source": [
    "combination_5_counts_filtered = combination_5_counts[(combination_5_counts.nb_occurrences > 2) & (combination_5_counts.Dice > 0.1)].sort_values(by=[\"nb_occurrences\", \"Dice\"], ascending=False)\n",
    "print(combination_5_counts_filtered.shape)\n",
    "combination_5_counts_filtered"
   ],
   "metadata": {
    "collapsed": false,
    "pycharm": {
     "name": "#%%\n"
    }
   }
  },
  {
   "cell_type": "code",
   "execution_count": 109,
   "outputs": [
    {
     "data": {
      "text/plain": "                                   nb_occurrences  item_0  item_1  item_2  \\\ncombination                                                                 \n(3929, 6051, 8867, 21058, 25595)              121     135     134     135   \n(3929, 8867, 21058, 25595, 44650)              96     135     135     122   \n(3929, 6051, 8867, 21058, 44650)               95     135     134     135   \n(3929, 6051, 21058, 25595, 44650)              95     135     134     122   \n(3929, 6051, 8867, 25595, 44650)               95     135     134     135   \n\n                                   item_3  item_4      Dice  \ncombination                                                  \n(3929, 6051, 8867, 21058, 25595)      122     135  0.915280  \n(3929, 8867, 21058, 25595, 44650)     135      96  0.770465  \n(3929, 6051, 8867, 21058, 44650)      122      96  0.763666  \n(3929, 6051, 21058, 25595, 44650)     135      96  0.763666  \n(3929, 6051, 8867, 25595, 44650)      135      96  0.748031  ",
      "text/html": "<div>\n<style scoped>\n    .dataframe tbody tr th:only-of-type {\n        vertical-align: middle;\n    }\n\n    .dataframe tbody tr th {\n        vertical-align: top;\n    }\n\n    .dataframe thead th {\n        text-align: right;\n    }\n</style>\n<table border=\"1\" class=\"dataframe\">\n  <thead>\n    <tr style=\"text-align: right;\">\n      <th></th>\n      <th>nb_occurrences</th>\n      <th>item_0</th>\n      <th>item_1</th>\n      <th>item_2</th>\n      <th>item_3</th>\n      <th>item_4</th>\n      <th>Dice</th>\n    </tr>\n    <tr>\n      <th>combination</th>\n      <th></th>\n      <th></th>\n      <th></th>\n      <th></th>\n      <th></th>\n      <th></th>\n      <th></th>\n    </tr>\n  </thead>\n  <tbody>\n    <tr>\n      <th>(3929, 6051, 8867, 21058, 25595)</th>\n      <td>121</td>\n      <td>135</td>\n      <td>134</td>\n      <td>135</td>\n      <td>122</td>\n      <td>135</td>\n      <td>0.915280</td>\n    </tr>\n    <tr>\n      <th>(3929, 8867, 21058, 25595, 44650)</th>\n      <td>96</td>\n      <td>135</td>\n      <td>135</td>\n      <td>122</td>\n      <td>135</td>\n      <td>96</td>\n      <td>0.770465</td>\n    </tr>\n    <tr>\n      <th>(3929, 6051, 8867, 21058, 44650)</th>\n      <td>95</td>\n      <td>135</td>\n      <td>134</td>\n      <td>135</td>\n      <td>122</td>\n      <td>96</td>\n      <td>0.763666</td>\n    </tr>\n    <tr>\n      <th>(3929, 6051, 21058, 25595, 44650)</th>\n      <td>95</td>\n      <td>135</td>\n      <td>134</td>\n      <td>122</td>\n      <td>135</td>\n      <td>96</td>\n      <td>0.763666</td>\n    </tr>\n    <tr>\n      <th>(3929, 6051, 8867, 25595, 44650)</th>\n      <td>95</td>\n      <td>135</td>\n      <td>134</td>\n      <td>135</td>\n      <td>135</td>\n      <td>96</td>\n      <td>0.748031</td>\n    </tr>\n  </tbody>\n</table>\n</div>"
     },
     "execution_count": 109,
     "metadata": {},
     "output_type": "execute_result"
    }
   ],
   "source": [
    "combination_5_counts_filtered[combination_5_counts_filtered.index.map(lambda x: 3929 in x)].head()\n"
   ],
   "metadata": {
    "collapsed": false,
    "pycharm": {
     "name": "#%%\n"
    }
   }
  },
  {
   "cell_type": "code",
   "execution_count": 113,
   "outputs": [
    {
     "data": {
      "text/plain": "Index([ (3929, 6051, 8867, 21058, 25595), (3929, 8867, 21058, 25595, 44650),\n        (3929, 6051, 8867, 21058, 44650), (3929, 6051, 21058, 25595, 44650),\n        (3929, 6051, 8867, 25595, 44650)],\n      dtype='object', name='combination')"
     },
     "execution_count": 113,
     "metadata": {},
     "output_type": "execute_result"
    }
   ],
   "source": [
    "top_5_3929 = combination_5_counts_filtered[combination_5_counts_filtered.index.map(lambda x: 3929 in x)].head().index\n",
    "top_5_3929"
   ],
   "metadata": {
    "collapsed": false,
    "pycharm": {
     "name": "#%%\n"
    }
   }
  },
  {
   "cell_type": "code",
   "execution_count": 117,
   "outputs": [
    {
     "data": {
      "text/plain": "contig_number\n82638     [3929, 57763, 25595, 6051, 21058, 8867]\n109093    [57763, 25595, 6051, 21058, 8867, 3929]\n122079    [44650, 25595, 6051, 21058, 8867, 3929]\n144643    [3929, 44650, 25595, 6051, 21058, 8867]\n147657    [3929, 57763, 25595, 6051, 21058, 8867]\n                           ...                   \n236431    [44650, 25595, 6051, 21058, 8867, 3929]\n236556    [44650, 25595, 6051, 21058, 8867, 3929]\n236642    [44650, 25595, 6051, 21058, 8867, 3929]\n236703    [44650, 25595, 6051, 21058, 8867, 3929]\n236744    [57763, 25595, 6051, 21058, 8867, 3929]\nLength: 121, dtype: object"
     },
     "execution_count": 117,
     "metadata": {},
     "output_type": "execute_result"
    }
   ],
   "source": [
    "for combination in top_5_3929[:1]:\n",
    "    out = contigs_in_order.map(lambda x: len(set(x).intersection(combination)) == len(combination))\n",
    "\n",
    "contigs_in_order[out]\n"
   ],
   "metadata": {
    "collapsed": false,
    "pycharm": {
     "name": "#%%\n"
    }
   }
  },
  {
   "cell_type": "code",
   "execution_count": 115,
   "outputs": [
    {
     "data": {
      "text/plain": "contig_number\n82638     [3929, 57763, 25595, 6051, 21058, 8867]\n106079                 [6292, 30149, 18722, 3490]\n109093    [57763, 25595, 6051, 21058, 8867, 3929]\n118155                       [6292, 30149, 26181]\n122079    [44650, 25595, 6051, 21058, 8867, 3929]\ndtype: object"
     },
     "execution_count": 115,
     "metadata": {},
     "output_type": "execute_result"
    }
   ],
   "source": [
    "contigs_in_order = data.groupby(\"contig_number\").apply(lambda g: list(g.sort_values(\"ORF_location_on_contig\").cluster_number.values))\n",
    "contigs_in_order.head()"
   ],
   "metadata": {
    "collapsed": false,
    "pycharm": {
     "name": "#%%\n"
    }
   }
  },
  {
   "cell_type": "code",
   "execution_count": null,
   "outputs": [],
   "source": [
    "\n",
    "\n",
    "(3929, 6051, 8867, 21058, 25595)"
   ],
   "metadata": {
    "collapsed": false,
    "pycharm": {
     "name": "#%%\n"
    }
   }
  }
 ],
 "metadata": {
  "kernelspec": {
   "display_name": "Python 3 (ipykernel)",
   "language": "python",
   "name": "python3"
  },
  "language_info": {
   "codemirror_mode": {
    "name": "ipython",
    "version": 3
   },
   "file_extension": ".py",
   "mimetype": "text/x-python",
   "name": "python",
   "nbconvert_exporter": "python",
   "pygments_lexer": "ipython3",
   "version": "3.9.7"
  }
 },
 "nbformat": 4,
 "nbformat_minor": 5
}