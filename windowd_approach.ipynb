{
 "cells": [
  {
   "cell_type": "markdown",
   "id": "e8784223",
   "metadata": {},
   "source": [
    "[Stats for collocation detection](http://www.scielo.org.mx/scielo.php?script=sci_arttext&pid=S1405-55462016000300327)\n",
    "* What was this about?\n",
    "    * Issue of multiple features in one location\n",
    "      * Had to apply set to avoid this issue"
   ]
  },
  {
   "cell_type": "code",
   "execution_count": 10,
   "id": "6faba395",
   "metadata": {},
   "outputs": [],
   "source": [
    "import pandas as pd\n",
    "from collections import Counter\n",
    "from utils import parse_cdhit, replace_val\n",
    "import itertools\n"
   ]
  },
  {
   "cell_type": "code",
   "execution_count": 11,
   "id": "5ac112cd",
   "metadata": {},
   "outputs": [
    {
     "data": {
      "text/plain": "                               Feature_id   contig_id  position_start  \\\n0    ENA_AY095314_AY095314.2_3724_3921_10  AY095314.2            3724   \n1  ENA_JX889246_JX889246.1_45181_44900_68  JX889246.1           45181   \n\n   position_end  ORF_location_on_contig           annotation_val  \n0          3921                      10                  Unknown  \n1         44900                      68  Uncharacterized protein  ",
      "text/html": "<div>\n<style scoped>\n    .dataframe tbody tr th:only-of-type {\n        vertical-align: middle;\n    }\n\n    .dataframe tbody tr th {\n        vertical-align: top;\n    }\n\n    .dataframe thead th {\n        text-align: right;\n    }\n</style>\n<table border=\"1\" class=\"dataframe\">\n  <thead>\n    <tr style=\"text-align: right;\">\n      <th></th>\n      <th>Feature_id</th>\n      <th>contig_id</th>\n      <th>position_start</th>\n      <th>position_end</th>\n      <th>ORF_location_on_contig</th>\n      <th>annotation_val</th>\n    </tr>\n  </thead>\n  <tbody>\n    <tr>\n      <th>0</th>\n      <td>ENA_AY095314_AY095314.2_3724_3921_10</td>\n      <td>AY095314.2</td>\n      <td>3724</td>\n      <td>3921</td>\n      <td>10</td>\n      <td>Unknown</td>\n    </tr>\n    <tr>\n      <th>1</th>\n      <td>ENA_JX889246_JX889246.1_45181_44900_68</td>\n      <td>JX889246.1</td>\n      <td>45181</td>\n      <td>44900</td>\n      <td>68</td>\n      <td>Uncharacterized protein</td>\n    </tr>\n  </tbody>\n</table>\n</div>"
     },
     "execution_count": 11,
     "metadata": {},
     "output_type": "execute_result"
    }
   ],
   "source": [
    "data = pd.read_table(\"data/ENA_ML_input_ORFs\")\n",
    "data.head(2)"
   ]
  },
  {
   "cell_type": "code",
   "execution_count": 12,
   "id": "15a97fc5",
   "metadata": {},
   "outputs": [
    {
     "data": {
      "text/plain": "[('ENA_KP211958_KP211958.1_65082_87137_88', '0'),\n ('ENA_AY940168_AY940168.2_57144_79082_90', '1')]"
     },
     "execution_count": 12,
     "metadata": {},
     "output_type": "execute_result"
    }
   ],
   "source": [
    "seq_to_clust = parse_cdhit(\"data/ENA.40.clstr\")\n",
    "list(seq_to_clust.items())[0:2]"
   ]
  },
  {
   "cell_type": "code",
   "execution_count": 13,
   "id": "25c12666",
   "metadata": {},
   "outputs": [
    {
     "data": {
      "text/plain": "                               Feature_id   contig_id  position_start  \\\n0    ENA_AY095314_AY095314.2_3724_3921_10  AY095314.2            3724   \n1  ENA_JX889246_JX889246.1_45181_44900_68  JX889246.1           45181   \n\n   position_end  ORF_location_on_contig           annotation_val  \\\n0          3921                      10                  Unknown   \n1         44900                      68  Uncharacterized protein   \n\n   cluster_number  \n0           57065  \n1           43194  ",
      "text/html": "<div>\n<style scoped>\n    .dataframe tbody tr th:only-of-type {\n        vertical-align: middle;\n    }\n\n    .dataframe tbody tr th {\n        vertical-align: top;\n    }\n\n    .dataframe thead th {\n        text-align: right;\n    }\n</style>\n<table border=\"1\" class=\"dataframe\">\n  <thead>\n    <tr style=\"text-align: right;\">\n      <th></th>\n      <th>Feature_id</th>\n      <th>contig_id</th>\n      <th>position_start</th>\n      <th>position_end</th>\n      <th>ORF_location_on_contig</th>\n      <th>annotation_val</th>\n      <th>cluster_number</th>\n    </tr>\n  </thead>\n  <tbody>\n    <tr>\n      <th>0</th>\n      <td>ENA_AY095314_AY095314.2_3724_3921_10</td>\n      <td>AY095314.2</td>\n      <td>3724</td>\n      <td>3921</td>\n      <td>10</td>\n      <td>Unknown</td>\n      <td>57065</td>\n    </tr>\n    <tr>\n      <th>1</th>\n      <td>ENA_JX889246_JX889246.1_45181_44900_68</td>\n      <td>JX889246.1</td>\n      <td>45181</td>\n      <td>44900</td>\n      <td>68</td>\n      <td>Uncharacterized protein</td>\n      <td>43194</td>\n    </tr>\n  </tbody>\n</table>\n</div>"
     },
     "execution_count": 13,
     "metadata": {},
     "output_type": "execute_result"
    }
   ],
   "source": [
    "## Add a column to show the cluster to which each feature_id belongs\n",
    "data[\"cluster_number\"] = replace_val(data.Feature_id, seq_to_clust)\n",
    "data.cluster_number = data.cluster_number.astype(int)\n",
    "data.head(2)"
   ]
  },
  {
   "cell_type": "code",
   "execution_count": 14,
   "id": "0e735438",
   "metadata": {},
   "outputs": [
    {
     "data": {
      "text/plain": "                               Feature_id   contig_id  position_start  \\\n0    ENA_AY095314_AY095314.2_3724_3921_10  AY095314.2            3724   \n1  ENA_JX889246_JX889246.1_45181_44900_68  JX889246.1           45181   \n\n   position_end  ORF_location_on_contig           annotation_val  \\\n0          3921                      10                  Unknown   \n1         44900                      68  Uncharacterized protein   \n\n   cluster_number  contig_number  \n0           57065         237296  \n1           43194         234989  ",
      "text/html": "<div>\n<style scoped>\n    .dataframe tbody tr th:only-of-type {\n        vertical-align: middle;\n    }\n\n    .dataframe tbody tr th {\n        vertical-align: top;\n    }\n\n    .dataframe thead th {\n        text-align: right;\n    }\n</style>\n<table border=\"1\" class=\"dataframe\">\n  <thead>\n    <tr style=\"text-align: right;\">\n      <th></th>\n      <th>Feature_id</th>\n      <th>contig_id</th>\n      <th>position_start</th>\n      <th>position_end</th>\n      <th>ORF_location_on_contig</th>\n      <th>annotation_val</th>\n      <th>cluster_number</th>\n      <th>contig_number</th>\n    </tr>\n  </thead>\n  <tbody>\n    <tr>\n      <th>0</th>\n      <td>ENA_AY095314_AY095314.2_3724_3921_10</td>\n      <td>AY095314.2</td>\n      <td>3724</td>\n      <td>3921</td>\n      <td>10</td>\n      <td>Unknown</td>\n      <td>57065</td>\n      <td>237296</td>\n    </tr>\n    <tr>\n      <th>1</th>\n      <td>ENA_JX889246_JX889246.1_45181_44900_68</td>\n      <td>JX889246.1</td>\n      <td>45181</td>\n      <td>44900</td>\n      <td>68</td>\n      <td>Uncharacterized protein</td>\n      <td>43194</td>\n      <td>234989</td>\n    </tr>\n  </tbody>\n</table>\n</div>"
     },
     "execution_count": 14,
     "metadata": {},
     "output_type": "execute_result"
    }
   ],
   "source": [
    "# Add a contig sequential number in addition to contig id.\n",
    "contig_id_to_int = {y:x for x,y in enumerate(data.contig_id.tolist())}\n",
    "#### data.replace({'contig_id': contig_id_to_int})\n",
    "data[\"contig_number\"] = replace_val(data.contig_id, contig_id_to_int)\n",
    "data.head(2)"
   ]
  },
  {
   "cell_type": "markdown",
   "id": "22409758",
   "metadata": {},
   "source": [
    "#### Testing code with AB012574.1"
   ]
  },
  {
   "cell_type": "code",
   "execution_count": 15,
   "id": "83785f1a",
   "metadata": {},
   "outputs": [
    {
     "data": {
      "text/plain": "                                  Feature_id   contig_id  position_start  \\\n163381       ENA_AB012574_AB012574.1_1_591_1  AB012574.1               1   \n165466     ENA_AB012574_AB012574.1_595_948_2  AB012574.1             595   \n169624    ENA_AB012574_AB012574.1_960_1205_3  AB012574.1             960   \n129210   ENA_AB012574_AB012574.1_1216_1449_4  AB012574.1            1216   \n31977    ENA_AB012574_AB012574.1_1583_3058_5  AB012574.1            1583   \n110108   ENA_AB012574_AB012574.1_3060_3374_6  AB012574.1            3060   \n221381   ENA_AB012574_AB012574.1_3371_4513_7  AB012574.1            3371   \n60438    ENA_AB012574_AB012574.1_5516_4821_8  AB012574.1            5516   \n28717    ENA_AB012574_AB012574.1_6049_5696_9  AB012574.1            6049   \n177073  ENA_AB012574_AB012574.1_6488_6042_10  AB012574.1            6488   \n30988   ENA_AB012574_AB012574.1_6601_7212_11  AB012574.1            6601   \n93045   ENA_AB012574_AB012574.1_7209_7424_12  AB012574.1            7209   \n141941  ENA_AB012574_AB012574.1_7408_7965_13  AB012574.1            7408   \n\n        position_end  ORF_location_on_contig             annotation_val  \\\n163381           591                       1  Phage replication protein   \n165466           948                       2                    Unknown   \n169624          1205                       3                    Unknown   \n129210          1449                       4                    Unknown   \n31977           3058                       5                    Unknown   \n110108          3374                       6                    Unknown   \n221381          4513                       7                    Unknown   \n60438           4821                       8                    Unknown   \n28717           5696                       9                    Unknown   \n177073          6042                      10                    Unknown   \n30988           7212                      11                    Unknown   \n93045           7424                      12                    Unknown   \n141941          7965                      13                     Vpf402   \n\n        cluster_number  contig_number  \n163381           18804         221381  \n165466           34298         221381  \n169624           48370         221381  \n129210           50392         221381  \n31977             4917         221381  \n110108           39228         221381  \n221381            7275         221381  \n60438            15178         221381  \n28717            32777         221381  \n177073           25521         221381  \n30988            17997         221381  \n93045            45331         221381  \n141941           20080         221381  ",
      "text/html": "<div>\n<style scoped>\n    .dataframe tbody tr th:only-of-type {\n        vertical-align: middle;\n    }\n\n    .dataframe tbody tr th {\n        vertical-align: top;\n    }\n\n    .dataframe thead th {\n        text-align: right;\n    }\n</style>\n<table border=\"1\" class=\"dataframe\">\n  <thead>\n    <tr style=\"text-align: right;\">\n      <th></th>\n      <th>Feature_id</th>\n      <th>contig_id</th>\n      <th>position_start</th>\n      <th>position_end</th>\n      <th>ORF_location_on_contig</th>\n      <th>annotation_val</th>\n      <th>cluster_number</th>\n      <th>contig_number</th>\n    </tr>\n  </thead>\n  <tbody>\n    <tr>\n      <th>163381</th>\n      <td>ENA_AB012574_AB012574.1_1_591_1</td>\n      <td>AB012574.1</td>\n      <td>1</td>\n      <td>591</td>\n      <td>1</td>\n      <td>Phage replication protein</td>\n      <td>18804</td>\n      <td>221381</td>\n    </tr>\n    <tr>\n      <th>165466</th>\n      <td>ENA_AB012574_AB012574.1_595_948_2</td>\n      <td>AB012574.1</td>\n      <td>595</td>\n      <td>948</td>\n      <td>2</td>\n      <td>Unknown</td>\n      <td>34298</td>\n      <td>221381</td>\n    </tr>\n    <tr>\n      <th>169624</th>\n      <td>ENA_AB012574_AB012574.1_960_1205_3</td>\n      <td>AB012574.1</td>\n      <td>960</td>\n      <td>1205</td>\n      <td>3</td>\n      <td>Unknown</td>\n      <td>48370</td>\n      <td>221381</td>\n    </tr>\n    <tr>\n      <th>129210</th>\n      <td>ENA_AB012574_AB012574.1_1216_1449_4</td>\n      <td>AB012574.1</td>\n      <td>1216</td>\n      <td>1449</td>\n      <td>4</td>\n      <td>Unknown</td>\n      <td>50392</td>\n      <td>221381</td>\n    </tr>\n    <tr>\n      <th>31977</th>\n      <td>ENA_AB012574_AB012574.1_1583_3058_5</td>\n      <td>AB012574.1</td>\n      <td>1583</td>\n      <td>3058</td>\n      <td>5</td>\n      <td>Unknown</td>\n      <td>4917</td>\n      <td>221381</td>\n    </tr>\n    <tr>\n      <th>110108</th>\n      <td>ENA_AB012574_AB012574.1_3060_3374_6</td>\n      <td>AB012574.1</td>\n      <td>3060</td>\n      <td>3374</td>\n      <td>6</td>\n      <td>Unknown</td>\n      <td>39228</td>\n      <td>221381</td>\n    </tr>\n    <tr>\n      <th>221381</th>\n      <td>ENA_AB012574_AB012574.1_3371_4513_7</td>\n      <td>AB012574.1</td>\n      <td>3371</td>\n      <td>4513</td>\n      <td>7</td>\n      <td>Unknown</td>\n      <td>7275</td>\n      <td>221381</td>\n    </tr>\n    <tr>\n      <th>60438</th>\n      <td>ENA_AB012574_AB012574.1_5516_4821_8</td>\n      <td>AB012574.1</td>\n      <td>5516</td>\n      <td>4821</td>\n      <td>8</td>\n      <td>Unknown</td>\n      <td>15178</td>\n      <td>221381</td>\n    </tr>\n    <tr>\n      <th>28717</th>\n      <td>ENA_AB012574_AB012574.1_6049_5696_9</td>\n      <td>AB012574.1</td>\n      <td>6049</td>\n      <td>5696</td>\n      <td>9</td>\n      <td>Unknown</td>\n      <td>32777</td>\n      <td>221381</td>\n    </tr>\n    <tr>\n      <th>177073</th>\n      <td>ENA_AB012574_AB012574.1_6488_6042_10</td>\n      <td>AB012574.1</td>\n      <td>6488</td>\n      <td>6042</td>\n      <td>10</td>\n      <td>Unknown</td>\n      <td>25521</td>\n      <td>221381</td>\n    </tr>\n    <tr>\n      <th>30988</th>\n      <td>ENA_AB012574_AB012574.1_6601_7212_11</td>\n      <td>AB012574.1</td>\n      <td>6601</td>\n      <td>7212</td>\n      <td>11</td>\n      <td>Unknown</td>\n      <td>17997</td>\n      <td>221381</td>\n    </tr>\n    <tr>\n      <th>93045</th>\n      <td>ENA_AB012574_AB012574.1_7209_7424_12</td>\n      <td>AB012574.1</td>\n      <td>7209</td>\n      <td>7424</td>\n      <td>12</td>\n      <td>Unknown</td>\n      <td>45331</td>\n      <td>221381</td>\n    </tr>\n    <tr>\n      <th>141941</th>\n      <td>ENA_AB012574_AB012574.1_7408_7965_13</td>\n      <td>AB012574.1</td>\n      <td>7408</td>\n      <td>7965</td>\n      <td>13</td>\n      <td>Vpf402</td>\n      <td>20080</td>\n      <td>221381</td>\n    </tr>\n  </tbody>\n</table>\n</div>"
     },
     "execution_count": 15,
     "metadata": {},
     "output_type": "execute_result"
    }
   ],
   "source": [
    "x = data[data.contig_id == \"AB012574.1\"].sort_values(by=\"ORF_location_on_contig\")\n",
    "x"
   ]
  },
  {
   "cell_type": "code",
   "execution_count": 27,
   "id": "6e5b293a",
   "metadata": {},
   "outputs": [],
   "source": [
    "def sort_pair(pair):\n",
    "    if pair[0] > pair[1]:\n",
    "        return (pair[1], pair[0])\n",
    "    else:\n",
    "        return pair\n",
    "\n",
    "def find_pairs_in_window(group, window_size=8):\n",
    "    unsorted_pairs = []\n",
    "    pairs=[]\n",
    "    contig_clusters = group.cluster_number.values\n",
    "    window_size = min(len(contig_clusters), window_size)\n",
    "    for i, line_id in enumerate(contig_clusters[:-(window_size-1)]):\n",
    "        unsorted_pairs.append(list(itertools.combinations(contig_clusters[i: i+window_size], 2)))\n",
    "    for pair in set(list(itertools.chain(*unsorted_pairs))):\n",
    "        pairs.append(sort_pair(pair))\n",
    "    return list(set(pairs))"
   ]
  },
  {
   "cell_type": "code",
   "execution_count": 36,
   "id": "59fdc74c",
   "metadata": {},
   "outputs": [
    {
     "data": {
      "text/plain": "contig_number\n82638     [(3929, 8867), (21058, 25595), (3929, 6051), (...\n106079    [(6292, 30149), (18722, 30149), (3490, 18722),...\n109093    [(3929, 8867), (21058, 25595), (3929, 6051), (...\n118155       [(6292, 30149), (26181, 30149), (6292, 26181)]\n122079    [(21058, 44650), (3929, 8867), (8867, 44650), ...\n                                ...                        \n237325    [(36368, 42687), (8296, 11445), (4523, 51220),...\n237326    [(34497, 46153), (7687, 60163), (46153, 52331)...\n237327    [(33875, 39830), (6713, 42039), (13145, 43591)...\n237328    [(1737, 29433), (38072, 49163), (24481, 29433)...\n237329    [(12100, 39039), (986, 45573), (35403, 64398),...\nLength: 2480, dtype: object"
     },
     "execution_count": 36,
     "metadata": {},
     "output_type": "execute_result"
    }
   ],
   "source": [
    "combination_2_contigs = data.groupby(\"contig_number\").apply(find_pairs_in_window)\n",
    "combination_2_contigs"
   ]
  },
  {
   "cell_type": "code",
   "execution_count": 37,
   "id": "b6f827c3",
   "metadata": {},
   "outputs": [
    {
     "data": {
      "text/plain": "      combination  nb_occurrences\n0    (3929, 8867)             135\n1  (21058, 25595)             122",
      "text/html": "<div>\n<style scoped>\n    .dataframe tbody tr th:only-of-type {\n        vertical-align: middle;\n    }\n\n    .dataframe tbody tr th {\n        vertical-align: top;\n    }\n\n    .dataframe thead th {\n        text-align: right;\n    }\n</style>\n<table border=\"1\" class=\"dataframe\">\n  <thead>\n    <tr style=\"text-align: right;\">\n      <th></th>\n      <th>combination</th>\n      <th>nb_occurrences</th>\n    </tr>\n  </thead>\n  <tbody>\n    <tr>\n      <th>0</th>\n      <td>(3929, 8867)</td>\n      <td>135</td>\n    </tr>\n    <tr>\n      <th>1</th>\n      <td>(21058, 25595)</td>\n      <td>122</td>\n    </tr>\n  </tbody>\n</table>\n</div>"
     },
     "execution_count": 37,
     "metadata": {},
     "output_type": "execute_result"
    }
   ],
   "source": [
    "combination_2 = list(itertools.chain(*combination_2_contigs.values))\n",
    "combination_2_counts =  Counter(combination_2)\n",
    "\n",
    "\n",
    "combination_2_counts = pd.DataFrame(combination_2_counts.items())\n",
    "combination_2_counts.columns = [\"combination\", \"nb_occurrences\"]\n",
    "combination_2_counts.head(2)"
   ]
  },
  {
   "cell_type": "code",
   "execution_count": 46,
   "outputs": [
    {
     "data": {
      "text/plain": "   contig_id                           cluster_number\n0      82638  [3929, 6051, 8867, 21058, 25595, 57763]\n1     106079               [3490, 6292, 18722, 30149]",
      "text/html": "<div>\n<style scoped>\n    .dataframe tbody tr th:only-of-type {\n        vertical-align: middle;\n    }\n\n    .dataframe tbody tr th {\n        vertical-align: top;\n    }\n\n    .dataframe thead th {\n        text-align: right;\n    }\n</style>\n<table border=\"1\" class=\"dataframe\">\n  <thead>\n    <tr style=\"text-align: right;\">\n      <th></th>\n      <th>contig_id</th>\n      <th>cluster_number</th>\n    </tr>\n  </thead>\n  <tbody>\n    <tr>\n      <th>0</th>\n      <td>82638</td>\n      <td>[3929, 6051, 8867, 21058, 25595, 57763]</td>\n    </tr>\n    <tr>\n      <th>1</th>\n      <td>106079</td>\n      <td>[3490, 6292, 18722, 30149]</td>\n    </tr>\n  </tbody>\n</table>\n</div>"
     },
     "execution_count": 46,
     "metadata": {},
     "output_type": "execute_result"
    }
   ],
   "source": [
    "temp = data.groupby(\"contig_number\").apply(lambda x: sorted(set(x[\"cluster_number\"].values)))\n",
    "subsets = pd.DataFrame({\"contig_id\": temp.index, \"cluster_number\": temp.values})\n",
    "subsets.head(2)"
   ],
   "metadata": {
    "collapsed": false,
    "pycharm": {
     "name": "#%%\n"
    }
   }
  },
  {
   "cell_type": "code",
   "execution_count": 47,
   "outputs": [
    {
     "data": {
      "text/plain": "                nb_occurrences\ncluster_number                \n3929                       135\n6051                       134\n8867                       135\n21058                      122\n25595                      135",
      "text/html": "<div>\n<style scoped>\n    .dataframe tbody tr th:only-of-type {\n        vertical-align: middle;\n    }\n\n    .dataframe tbody tr th {\n        vertical-align: top;\n    }\n\n    .dataframe thead th {\n        text-align: right;\n    }\n</style>\n<table border=\"1\" class=\"dataframe\">\n  <thead>\n    <tr style=\"text-align: right;\">\n      <th></th>\n      <th>nb_occurrences</th>\n    </tr>\n    <tr>\n      <th>cluster_number</th>\n      <th></th>\n    </tr>\n  </thead>\n  <tbody>\n    <tr>\n      <th>3929</th>\n      <td>135</td>\n    </tr>\n    <tr>\n      <th>6051</th>\n      <td>134</td>\n    </tr>\n    <tr>\n      <th>8867</th>\n      <td>135</td>\n    </tr>\n    <tr>\n      <th>21058</th>\n      <td>122</td>\n    </tr>\n    <tr>\n      <th>25595</th>\n      <td>135</td>\n    </tr>\n  </tbody>\n</table>\n</div>"
     },
     "execution_count": 47,
     "metadata": {},
     "output_type": "execute_result"
    }
   ],
   "source": [
    "contig_counts = pd.DataFrame(Counter(itertools.chain(*subsets.cluster_number.values)).items())\n",
    "contig_counts.columns = [\"cluster_number\", \"nb_occurrences\"]\n",
    "contig_counts = contig_counts.set_index(\"cluster_number\")\n",
    "contig_counts.head()"
   ],
   "metadata": {
    "collapsed": false,
    "pycharm": {
     "name": "#%%\n"
    }
   }
  },
  {
   "cell_type": "code",
   "execution_count": 66,
   "outputs": [
    {
     "data": {
      "text/plain": "       combination  nb_occurrences  item_0  item_1      Dice\n0     (3929, 8867)             135     135     135  1.000000\n1   (21058, 25595)             122     122     135  0.949416\n2     (3929, 6051)             134     135     134  0.996283\n3    (3929, 57763)              25     135      25  0.312500\n4    (8867, 25595)             135     135     135  1.000000\n5    (3929, 21058)             122     135     122  0.949416\n6    (8867, 57763)              25     135      25  0.312500\n7    (6051, 25595)             134     134     135  0.996283\n8     (6051, 8867)             134     134     135  0.996283\n9   (21058, 57763)              25     122      25  0.340136\n10   (8867, 21058)             122     135     122  0.949416\n11   (6051, 57763)              25     134      25  0.314465\n12   (3929, 25595)             135     135     135  1.000000\n13   (6051, 21058)             121     134     122  0.945312\n14  (25595, 57763)              25     135      25  0.312500\n15   (6292, 30149)               6       6      14  0.600000\n16  (18722, 30149)               6       6      14  0.600000\n17   (3490, 18722)               6      13       6  0.631579\n18    (3490, 6292)               5      13       6  0.526316\n19   (3490, 30149)              13      13      14  0.962963",
      "text/html": "<div>\n<style scoped>\n    .dataframe tbody tr th:only-of-type {\n        vertical-align: middle;\n    }\n\n    .dataframe tbody tr th {\n        vertical-align: top;\n    }\n\n    .dataframe thead th {\n        text-align: right;\n    }\n</style>\n<table border=\"1\" class=\"dataframe\">\n  <thead>\n    <tr style=\"text-align: right;\">\n      <th></th>\n      <th>combination</th>\n      <th>nb_occurrences</th>\n      <th>item_0</th>\n      <th>item_1</th>\n      <th>Dice</th>\n    </tr>\n  </thead>\n  <tbody>\n    <tr>\n      <th>0</th>\n      <td>(3929, 8867)</td>\n      <td>135</td>\n      <td>135</td>\n      <td>135</td>\n      <td>1.000000</td>\n    </tr>\n    <tr>\n      <th>1</th>\n      <td>(21058, 25595)</td>\n      <td>122</td>\n      <td>122</td>\n      <td>135</td>\n      <td>0.949416</td>\n    </tr>\n    <tr>\n      <th>2</th>\n      <td>(3929, 6051)</td>\n      <td>134</td>\n      <td>135</td>\n      <td>134</td>\n      <td>0.996283</td>\n    </tr>\n    <tr>\n      <th>3</th>\n      <td>(3929, 57763)</td>\n      <td>25</td>\n      <td>135</td>\n      <td>25</td>\n      <td>0.312500</td>\n    </tr>\n    <tr>\n      <th>4</th>\n      <td>(8867, 25595)</td>\n      <td>135</td>\n      <td>135</td>\n      <td>135</td>\n      <td>1.000000</td>\n    </tr>\n    <tr>\n      <th>5</th>\n      <td>(3929, 21058)</td>\n      <td>122</td>\n      <td>135</td>\n      <td>122</td>\n      <td>0.949416</td>\n    </tr>\n    <tr>\n      <th>6</th>\n      <td>(8867, 57763)</td>\n      <td>25</td>\n      <td>135</td>\n      <td>25</td>\n      <td>0.312500</td>\n    </tr>\n    <tr>\n      <th>7</th>\n      <td>(6051, 25595)</td>\n      <td>134</td>\n      <td>134</td>\n      <td>135</td>\n      <td>0.996283</td>\n    </tr>\n    <tr>\n      <th>8</th>\n      <td>(6051, 8867)</td>\n      <td>134</td>\n      <td>134</td>\n      <td>135</td>\n      <td>0.996283</td>\n    </tr>\n    <tr>\n      <th>9</th>\n      <td>(21058, 57763)</td>\n      <td>25</td>\n      <td>122</td>\n      <td>25</td>\n      <td>0.340136</td>\n    </tr>\n    <tr>\n      <th>10</th>\n      <td>(8867, 21058)</td>\n      <td>122</td>\n      <td>135</td>\n      <td>122</td>\n      <td>0.949416</td>\n    </tr>\n    <tr>\n      <th>11</th>\n      <td>(6051, 57763)</td>\n      <td>25</td>\n      <td>134</td>\n      <td>25</td>\n      <td>0.314465</td>\n    </tr>\n    <tr>\n      <th>12</th>\n      <td>(3929, 25595)</td>\n      <td>135</td>\n      <td>135</td>\n      <td>135</td>\n      <td>1.000000</td>\n    </tr>\n    <tr>\n      <th>13</th>\n      <td>(6051, 21058)</td>\n      <td>121</td>\n      <td>134</td>\n      <td>122</td>\n      <td>0.945312</td>\n    </tr>\n    <tr>\n      <th>14</th>\n      <td>(25595, 57763)</td>\n      <td>25</td>\n      <td>135</td>\n      <td>25</td>\n      <td>0.312500</td>\n    </tr>\n    <tr>\n      <th>15</th>\n      <td>(6292, 30149)</td>\n      <td>6</td>\n      <td>6</td>\n      <td>14</td>\n      <td>0.600000</td>\n    </tr>\n    <tr>\n      <th>16</th>\n      <td>(18722, 30149)</td>\n      <td>6</td>\n      <td>6</td>\n      <td>14</td>\n      <td>0.600000</td>\n    </tr>\n    <tr>\n      <th>17</th>\n      <td>(3490, 18722)</td>\n      <td>6</td>\n      <td>13</td>\n      <td>6</td>\n      <td>0.631579</td>\n    </tr>\n    <tr>\n      <th>18</th>\n      <td>(3490, 6292)</td>\n      <td>5</td>\n      <td>13</td>\n      <td>6</td>\n      <td>0.526316</td>\n    </tr>\n    <tr>\n      <th>19</th>\n      <td>(3490, 30149)</td>\n      <td>13</td>\n      <td>13</td>\n      <td>14</td>\n      <td>0.962963</td>\n    </tr>\n  </tbody>\n</table>\n</div>"
     },
     "execution_count": 66,
     "metadata": {},
     "output_type": "execute_result"
    }
   ],
   "source": [
    "subset_size = len(combination_2_counts.iloc[0].combination)\n",
    "for i in range(subset_size):\n",
    "    a = combination_2_counts.combination.apply(lambda x: x[i])\n",
    "    combination_2_counts.loc[:, f\"item_{i}\"] = contig_counts.loc[a].nb_occurrences.values\n",
    "\n",
    "combination_2_counts[\"Dice\"] =     (2 * combination_2_counts[\"nb_occurrences\"]) / (combination_2_counts[\"item_0\"]  + combination_2_counts[\"item_1\"] )\n",
    "combination_2_counts.head(20)"
   ],
   "metadata": {
    "collapsed": false,
    "pycharm": {
     "name": "#%%\n"
    }
   }
  },
  {
   "cell_type": "code",
   "execution_count": 72,
   "outputs": [
    {
     "data": {
      "text/plain": "          combination  nb_occurrences  item_0  item_1      Dice\n0        (3929, 8867)             135     135     135  1.000000\n4       (8867, 25595)             135     135     135  1.000000\n12      (3929, 25595)             135     135     135  1.000000\n2        (3929, 6051)             134     135     134  0.996283\n7       (6051, 25595)             134     134     135  0.996283\n...               ...             ...     ...     ...       ...\n229653  (1937, 28686)              11     264     135  0.055138\n417802  (1937, 62412)              11     264     146  0.053659\n284612  (1937, 47127)              11     264     149  0.053269\n473017  (1937, 26582)              11     264     171  0.050575\n127401  (1937, 14438)              11     264     173  0.050343\n\n[2846 rows x 5 columns]",
      "text/html": "<div>\n<style scoped>\n    .dataframe tbody tr th:only-of-type {\n        vertical-align: middle;\n    }\n\n    .dataframe tbody tr th {\n        vertical-align: top;\n    }\n\n    .dataframe thead th {\n        text-align: right;\n    }\n</style>\n<table border=\"1\" class=\"dataframe\">\n  <thead>\n    <tr style=\"text-align: right;\">\n      <th></th>\n      <th>combination</th>\n      <th>nb_occurrences</th>\n      <th>item_0</th>\n      <th>item_1</th>\n      <th>Dice</th>\n    </tr>\n  </thead>\n  <tbody>\n    <tr>\n      <th>0</th>\n      <td>(3929, 8867)</td>\n      <td>135</td>\n      <td>135</td>\n      <td>135</td>\n      <td>1.000000</td>\n    </tr>\n    <tr>\n      <th>4</th>\n      <td>(8867, 25595)</td>\n      <td>135</td>\n      <td>135</td>\n      <td>135</td>\n      <td>1.000000</td>\n    </tr>\n    <tr>\n      <th>12</th>\n      <td>(3929, 25595)</td>\n      <td>135</td>\n      <td>135</td>\n      <td>135</td>\n      <td>1.000000</td>\n    </tr>\n    <tr>\n      <th>2</th>\n      <td>(3929, 6051)</td>\n      <td>134</td>\n      <td>135</td>\n      <td>134</td>\n      <td>0.996283</td>\n    </tr>\n    <tr>\n      <th>7</th>\n      <td>(6051, 25595)</td>\n      <td>134</td>\n      <td>134</td>\n      <td>135</td>\n      <td>0.996283</td>\n    </tr>\n    <tr>\n      <th>...</th>\n      <td>...</td>\n      <td>...</td>\n      <td>...</td>\n      <td>...</td>\n      <td>...</td>\n    </tr>\n    <tr>\n      <th>229653</th>\n      <td>(1937, 28686)</td>\n      <td>11</td>\n      <td>264</td>\n      <td>135</td>\n      <td>0.055138</td>\n    </tr>\n    <tr>\n      <th>417802</th>\n      <td>(1937, 62412)</td>\n      <td>11</td>\n      <td>264</td>\n      <td>146</td>\n      <td>0.053659</td>\n    </tr>\n    <tr>\n      <th>284612</th>\n      <td>(1937, 47127)</td>\n      <td>11</td>\n      <td>264</td>\n      <td>149</td>\n      <td>0.053269</td>\n    </tr>\n    <tr>\n      <th>473017</th>\n      <td>(1937, 26582)</td>\n      <td>11</td>\n      <td>264</td>\n      <td>171</td>\n      <td>0.050575</td>\n    </tr>\n    <tr>\n      <th>127401</th>\n      <td>(1937, 14438)</td>\n      <td>11</td>\n      <td>264</td>\n      <td>173</td>\n      <td>0.050343</td>\n    </tr>\n  </tbody>\n</table>\n<p>2846 rows × 5 columns</p>\n</div>"
     },
     "execution_count": 72,
     "metadata": {},
     "output_type": "execute_result"
    }
   ],
   "source": [
    "# Filtering co-occurrences that are less than 10\n",
    "combination_2_counts[combination_2_counts.nb_occurrences > 10].sort_values(by=[\"nb_occurrences\", \"Dice\"], ascending=False)"
   ],
   "metadata": {
    "collapsed": false,
    "pycharm": {
     "name": "#%%\n"
    }
   }
  },
  {
   "cell_type": "code",
   "execution_count": null,
   "outputs": [],
   "source": [],
   "metadata": {
    "collapsed": false,
    "pycharm": {
     "name": "#%%\n"
    }
   }
  }
 ],
 "metadata": {
  "kernelspec": {
   "display_name": "Python 3 (ipykernel)",
   "language": "python",
   "name": "python3"
  },
  "language_info": {
   "codemirror_mode": {
    "name": "ipython",
    "version": 3
   },
   "file_extension": ".py",
   "mimetype": "text/x-python",
   "name": "python",
   "nbconvert_exporter": "python",
   "pygments_lexer": "ipython3",
   "version": "3.9.7"
  }
 },
 "nbformat": 4,
 "nbformat_minor": 5
}