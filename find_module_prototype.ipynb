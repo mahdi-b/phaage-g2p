{
 "cells": [
  {
   "cell_type": "markdown",
   "id": "4d6f2f39",
   "metadata": {},
   "source": [
    "* Issue of multiple feature on one location \n",
    "  * Had to apply set to avoid this issue"
   ]
  },
  {
   "cell_type": "code",
   "execution_count": 327,
   "id": "00719626",
   "metadata": {},
   "outputs": [],
   "source": [
    "import pandas as pd\n",
    "from collections import Counter\n",
    "from utils import parse_cdhit, replace_val\n",
    "import itertools\n",
    "import numpy as np\n",
    "from tqdm.notebook import tqdm"
   ]
  },
  {
   "cell_type": "code",
   "execution_count": 328,
   "id": "e7c516a8",
   "metadata": {},
   "outputs": [],
   "source": [
    "data = pd.read_table(\"data/ENA_ML_input_ORFs\")"
   ]
  },
  {
   "cell_type": "code",
   "execution_count": 329,
   "id": "1f10df5f",
   "metadata": {},
   "outputs": [
    {
     "data": {
      "text/html": [
       "<div>\n",
       "<style scoped>\n",
       "    .dataframe tbody tr th:only-of-type {\n",
       "        vertical-align: middle;\n",
       "    }\n",
       "\n",
       "    .dataframe tbody tr th {\n",
       "        vertical-align: top;\n",
       "    }\n",
       "\n",
       "    .dataframe thead th {\n",
       "        text-align: right;\n",
       "    }\n",
       "</style>\n",
       "<table border=\"1\" class=\"dataframe\">\n",
       "  <thead>\n",
       "    <tr style=\"text-align: right;\">\n",
       "      <th></th>\n",
       "      <th>Feature_id</th>\n",
       "      <th>contig_id</th>\n",
       "      <th>position_start</th>\n",
       "      <th>position_end</th>\n",
       "      <th>ORF_location_on_contig</th>\n",
       "      <th>annotation_val</th>\n",
       "    </tr>\n",
       "  </thead>\n",
       "  <tbody>\n",
       "    <tr>\n",
       "      <th>0</th>\n",
       "      <td>ENA_AY095314_AY095314.2_3724_3921_10</td>\n",
       "      <td>AY095314.2</td>\n",
       "      <td>3724</td>\n",
       "      <td>3921</td>\n",
       "      <td>10</td>\n",
       "      <td>Unknown</td>\n",
       "    </tr>\n",
       "    <tr>\n",
       "      <th>1</th>\n",
       "      <td>ENA_JX889246_JX889246.1_45181_44900_68</td>\n",
       "      <td>JX889246.1</td>\n",
       "      <td>45181</td>\n",
       "      <td>44900</td>\n",
       "      <td>68</td>\n",
       "      <td>Uncharacterized protein</td>\n",
       "    </tr>\n",
       "  </tbody>\n",
       "</table>\n",
       "</div>"
      ],
      "text/plain": [
       "                               Feature_id   contig_id  position_start  \\\n",
       "0    ENA_AY095314_AY095314.2_3724_3921_10  AY095314.2            3724   \n",
       "1  ENA_JX889246_JX889246.1_45181_44900_68  JX889246.1           45181   \n",
       "\n",
       "   position_end  ORF_location_on_contig           annotation_val  \n",
       "0          3921                      10                  Unknown  \n",
       "1         44900                      68  Uncharacterized protein  "
      ]
     },
     "execution_count": 329,
     "metadata": {},
     "output_type": "execute_result"
    }
   ],
   "source": [
    "data.head(2)"
   ]
  },
  {
   "cell_type": "code",
   "execution_count": 330,
   "id": "1e4b669f",
   "metadata": {},
   "outputs": [
    {
     "data": {
      "text/plain": [
       "[('ENA_KP211958_KP211958.1_65082_87137_88', '0'),\n",
       " ('ENA_AY940168_AY940168.2_57144_79082_90', '1')]"
      ]
     },
     "execution_count": 330,
     "metadata": {},
     "output_type": "execute_result"
    }
   ],
   "source": [
    "seq_to_clust = parse_cdhit(\"data/ENA.40.clstr\")\n",
    "\n",
    "# what does it look like\n",
    "list(seq_to_clust.items())[0:2]"
   ]
  },
  {
   "cell_type": "code",
   "execution_count": 331,
   "id": "6da7a1dc",
   "metadata": {},
   "outputs": [
    {
     "data": {
      "text/html": [
       "<div>\n",
       "<style scoped>\n",
       "    .dataframe tbody tr th:only-of-type {\n",
       "        vertical-align: middle;\n",
       "    }\n",
       "\n",
       "    .dataframe tbody tr th {\n",
       "        vertical-align: top;\n",
       "    }\n",
       "\n",
       "    .dataframe thead th {\n",
       "        text-align: right;\n",
       "    }\n",
       "</style>\n",
       "<table border=\"1\" class=\"dataframe\">\n",
       "  <thead>\n",
       "    <tr style=\"text-align: right;\">\n",
       "      <th></th>\n",
       "      <th>Feature_id</th>\n",
       "      <th>contig_id</th>\n",
       "      <th>position_start</th>\n",
       "      <th>position_end</th>\n",
       "      <th>ORF_location_on_contig</th>\n",
       "      <th>annotation_val</th>\n",
       "      <th>feature_number</th>\n",
       "    </tr>\n",
       "  </thead>\n",
       "  <tbody>\n",
       "    <tr>\n",
       "      <th>0</th>\n",
       "      <td>ENA_AY095314_AY095314.2_3724_3921_10</td>\n",
       "      <td>AY095314.2</td>\n",
       "      <td>3724</td>\n",
       "      <td>3921</td>\n",
       "      <td>10</td>\n",
       "      <td>Unknown</td>\n",
       "      <td>57065</td>\n",
       "    </tr>\n",
       "    <tr>\n",
       "      <th>1</th>\n",
       "      <td>ENA_JX889246_JX889246.1_45181_44900_68</td>\n",
       "      <td>JX889246.1</td>\n",
       "      <td>45181</td>\n",
       "      <td>44900</td>\n",
       "      <td>68</td>\n",
       "      <td>Uncharacterized protein</td>\n",
       "      <td>43194</td>\n",
       "    </tr>\n",
       "  </tbody>\n",
       "</table>\n",
       "</div>"
      ],
      "text/plain": [
       "                               Feature_id   contig_id  position_start  \\\n",
       "0    ENA_AY095314_AY095314.2_3724_3921_10  AY095314.2            3724   \n",
       "1  ENA_JX889246_JX889246.1_45181_44900_68  JX889246.1           45181   \n",
       "\n",
       "   position_end  ORF_location_on_contig           annotation_val  \\\n",
       "0          3921                      10                  Unknown   \n",
       "1         44900                      68  Uncharacterized protein   \n",
       "\n",
       "   feature_number  \n",
       "0           57065  \n",
       "1           43194  "
      ]
     },
     "execution_count": 331,
     "metadata": {},
     "output_type": "execute_result"
    }
   ],
   "source": [
    "## Add a column to show the cluster to which each feature_id belongs\n",
    "data[\"feature_number\"] = replace_val(data.Feature_id, seq_to_clust)\n",
    "data.feature_number = data.feature_number.astype(int)\n",
    "data.head(2)\n",
    "\n"
   ]
  },
  {
   "cell_type": "code",
   "execution_count": 332,
   "id": "73741b92",
   "metadata": {},
   "outputs": [
    {
     "data": {
      "text/html": [
       "<div>\n",
       "<style scoped>\n",
       "    .dataframe tbody tr th:only-of-type {\n",
       "        vertical-align: middle;\n",
       "    }\n",
       "\n",
       "    .dataframe tbody tr th {\n",
       "        vertical-align: top;\n",
       "    }\n",
       "\n",
       "    .dataframe thead th {\n",
       "        text-align: right;\n",
       "    }\n",
       "</style>\n",
       "<table border=\"1\" class=\"dataframe\">\n",
       "  <thead>\n",
       "    <tr style=\"text-align: right;\">\n",
       "      <th></th>\n",
       "      <th>Feature_id</th>\n",
       "      <th>contig_id</th>\n",
       "      <th>position_start</th>\n",
       "      <th>position_end</th>\n",
       "      <th>ORF_location_on_contig</th>\n",
       "      <th>annotation_val</th>\n",
       "      <th>feature_number</th>\n",
       "      <th>contig_number</th>\n",
       "    </tr>\n",
       "  </thead>\n",
       "  <tbody>\n",
       "    <tr>\n",
       "      <th>0</th>\n",
       "      <td>ENA_AY095314_AY095314.2_3724_3921_10</td>\n",
       "      <td>AY095314.2</td>\n",
       "      <td>3724</td>\n",
       "      <td>3921</td>\n",
       "      <td>10</td>\n",
       "      <td>Unknown</td>\n",
       "      <td>57065</td>\n",
       "      <td>237296</td>\n",
       "    </tr>\n",
       "    <tr>\n",
       "      <th>1</th>\n",
       "      <td>ENA_JX889246_JX889246.1_45181_44900_68</td>\n",
       "      <td>JX889246.1</td>\n",
       "      <td>45181</td>\n",
       "      <td>44900</td>\n",
       "      <td>68</td>\n",
       "      <td>Uncharacterized protein</td>\n",
       "      <td>43194</td>\n",
       "      <td>234989</td>\n",
       "    </tr>\n",
       "  </tbody>\n",
       "</table>\n",
       "</div>"
      ],
      "text/plain": [
       "                               Feature_id   contig_id  position_start  \\\n",
       "0    ENA_AY095314_AY095314.2_3724_3921_10  AY095314.2            3724   \n",
       "1  ENA_JX889246_JX889246.1_45181_44900_68  JX889246.1           45181   \n",
       "\n",
       "   position_end  ORF_location_on_contig           annotation_val  \\\n",
       "0          3921                      10                  Unknown   \n",
       "1         44900                      68  Uncharacterized protein   \n",
       "\n",
       "   feature_number  contig_number  \n",
       "0           57065         237296  \n",
       "1           43194         234989  "
      ]
     },
     "execution_count": 332,
     "metadata": {},
     "output_type": "execute_result"
    }
   ],
   "source": [
    "# Add a contig sequential number in addition to contig id.\n",
    "contig_id_to_int = {y:x for x,y in enumerate(data.contig_id.tolist())}\n",
    "#### data.replace({'contig_id': contig_id_to_int})\n",
    "data[\"contig_number\"] = replace_val(data.contig_id, contig_id_to_int)\n",
    "data.head(2)"
   ]
  },
  {
   "cell_type": "markdown",
   "id": "a286c3b6",
   "metadata": {},
   "source": [
    "* Generate a table with all the features per contig\n"
   ]
  },
  {
   "cell_type": "code",
   "execution_count": 333,
   "id": "b6f4865d",
   "metadata": {},
   "outputs": [
    {
     "data": {
      "text/html": [
       "<div>\n",
       "<style scoped>\n",
       "    .dataframe tbody tr th:only-of-type {\n",
       "        vertical-align: middle;\n",
       "    }\n",
       "\n",
       "    .dataframe tbody tr th {\n",
       "        vertical-align: top;\n",
       "    }\n",
       "\n",
       "    .dataframe thead th {\n",
       "        text-align: right;\n",
       "    }\n",
       "</style>\n",
       "<table border=\"1\" class=\"dataframe\">\n",
       "  <thead>\n",
       "    <tr style=\"text-align: right;\">\n",
       "      <th></th>\n",
       "      <th>contig_id</th>\n",
       "      <th>features</th>\n",
       "    </tr>\n",
       "  </thead>\n",
       "  <tbody>\n",
       "    <tr>\n",
       "      <th>0</th>\n",
       "      <td>82638</td>\n",
       "      <td>{21058, 6051, 57763, 8867, 3929, 25595}</td>\n",
       "    </tr>\n",
       "    <tr>\n",
       "      <th>1</th>\n",
       "      <td>106079</td>\n",
       "      <td>{3490, 18722, 6292, 30149}</td>\n",
       "    </tr>\n",
       "  </tbody>\n",
       "</table>\n",
       "</div>"
      ],
      "text/plain": [
       "   contig_id                                 features\n",
       "0      82638  {21058, 6051, 57763, 8867, 3929, 25595}\n",
       "1     106079               {3490, 18722, 6292, 30149}"
      ]
     },
     "execution_count": 333,
     "metadata": {},
     "output_type": "execute_result"
    }
   ],
   "source": [
    "temp = data.groupby(\"contig_number\").apply(lambda x: set(x[\"feature_number\"].values))\n",
    "subsets = pd.DataFrame({\"contig_id\": temp.index, \"features\": temp.values})\n",
    "subsets.head(2)"
   ]
  },
  {
   "cell_type": "code",
   "execution_count": 347,
   "id": "721555a6",
   "metadata": {},
   "outputs": [
    {
     "data": {
      "text/html": [
       "<div>\n",
       "<style scoped>\n",
       "    .dataframe tbody tr th:only-of-type {\n",
       "        vertical-align: middle;\n",
       "    }\n",
       "\n",
       "    .dataframe tbody tr th {\n",
       "        vertical-align: top;\n",
       "    }\n",
       "\n",
       "    .dataframe thead th {\n",
       "        text-align: right;\n",
       "    }\n",
       "</style>\n",
       "<table border=\"1\" class=\"dataframe\">\n",
       "  <thead>\n",
       "    <tr style=\"text-align: right;\">\n",
       "      <th></th>\n",
       "      <th>Feature_id</th>\n",
       "      <th>contig_id</th>\n",
       "      <th>position_start</th>\n",
       "      <th>position_end</th>\n",
       "      <th>ORF_location_on_contig</th>\n",
       "      <th>annotation_val</th>\n",
       "      <th>feature_number</th>\n",
       "      <th>contig_number</th>\n",
       "    </tr>\n",
       "  </thead>\n",
       "  <tbody>\n",
       "    <tr>\n",
       "      <th>71244</th>\n",
       "      <td>ENA_KJ645900_KJ645900.1_12716_13486_14</td>\n",
       "      <td>KJ645900.1</td>\n",
       "      <td>12716</td>\n",
       "      <td>13486</td>\n",
       "      <td>14</td>\n",
       "      <td>Unknown</td>\n",
       "      <td>10118</td>\n",
       "      <td>237307</td>\n",
       "    </tr>\n",
       "    <tr>\n",
       "      <th>81712</th>\n",
       "      <td>ENA_KJ645900_KJ645900.1_18285_19043_21</td>\n",
       "      <td>KJ645900.1</td>\n",
       "      <td>18285</td>\n",
       "      <td>19043</td>\n",
       "      <td>21</td>\n",
       "      <td>Unknown</td>\n",
       "      <td>10118</td>\n",
       "      <td>237307</td>\n",
       "    </tr>\n",
       "    <tr>\n",
       "      <th>123848</th>\n",
       "      <td>ENA_KJ645900_KJ645900.1_5716_6642_7</td>\n",
       "      <td>KJ645900.1</td>\n",
       "      <td>5716</td>\n",
       "      <td>6642</td>\n",
       "      <td>7</td>\n",
       "      <td>Unknown</td>\n",
       "      <td>10118</td>\n",
       "      <td>237307</td>\n",
       "    </tr>\n",
       "    <tr>\n",
       "      <th>152686</th>\n",
       "      <td>ENA_KJ645900_KJ645900.1_14999_15829_17</td>\n",
       "      <td>KJ645900.1</td>\n",
       "      <td>14999</td>\n",
       "      <td>15829</td>\n",
       "      <td>17</td>\n",
       "      <td>Putative E3 ubiquitin ligase</td>\n",
       "      <td>10118</td>\n",
       "      <td>237307</td>\n",
       "    </tr>\n",
       "    <tr>\n",
       "      <th>159326</th>\n",
       "      <td>ENA_KJ645900_KJ645900.1_336560_337399_360</td>\n",
       "      <td>KJ645900.1</td>\n",
       "      <td>336560</td>\n",
       "      <td>337399</td>\n",
       "      <td>360</td>\n",
       "      <td>Membrane_associated lipoprotein</td>\n",
       "      <td>10118</td>\n",
       "      <td>237307</td>\n",
       "    </tr>\n",
       "    <tr>\n",
       "      <th>167461</th>\n",
       "      <td>ENA_KJ645900_KJ645900.1_11745_12623_13</td>\n",
       "      <td>KJ645900.1</td>\n",
       "      <td>11745</td>\n",
       "      <td>12623</td>\n",
       "      <td>13</td>\n",
       "      <td>Unknown</td>\n",
       "      <td>10118</td>\n",
       "      <td>237307</td>\n",
       "    </tr>\n",
       "    <tr>\n",
       "      <th>227347</th>\n",
       "      <td>ENA_KJ645900_KJ645900.1_295633_294791_312</td>\n",
       "      <td>KJ645900.1</td>\n",
       "      <td>295633</td>\n",
       "      <td>294791</td>\n",
       "      <td>312</td>\n",
       "      <td>Membrane_associated lipoprotein</td>\n",
       "      <td>10118</td>\n",
       "      <td>237307</td>\n",
       "    </tr>\n",
       "    <tr>\n",
       "      <th>232545</th>\n",
       "      <td>ENA_KJ645900_KJ645900.1_6771_7586_8</td>\n",
       "      <td>KJ645900.1</td>\n",
       "      <td>6771</td>\n",
       "      <td>7586</td>\n",
       "      <td>8</td>\n",
       "      <td>Unknown</td>\n",
       "      <td>10118</td>\n",
       "      <td>237307</td>\n",
       "    </tr>\n",
       "  </tbody>\n",
       "</table>\n",
       "</div>"
      ],
      "text/plain": [
       "                                       Feature_id   contig_id  position_start  \\\n",
       "71244      ENA_KJ645900_KJ645900.1_12716_13486_14  KJ645900.1           12716   \n",
       "81712      ENA_KJ645900_KJ645900.1_18285_19043_21  KJ645900.1           18285   \n",
       "123848        ENA_KJ645900_KJ645900.1_5716_6642_7  KJ645900.1            5716   \n",
       "152686     ENA_KJ645900_KJ645900.1_14999_15829_17  KJ645900.1           14999   \n",
       "159326  ENA_KJ645900_KJ645900.1_336560_337399_360  KJ645900.1          336560   \n",
       "167461     ENA_KJ645900_KJ645900.1_11745_12623_13  KJ645900.1           11745   \n",
       "227347  ENA_KJ645900_KJ645900.1_295633_294791_312  KJ645900.1          295633   \n",
       "232545        ENA_KJ645900_KJ645900.1_6771_7586_8  KJ645900.1            6771   \n",
       "\n",
       "        position_end  ORF_location_on_contig                   annotation_val  \\\n",
       "71244          13486                      14                          Unknown   \n",
       "81712          19043                      21                          Unknown   \n",
       "123848          6642                       7                          Unknown   \n",
       "152686         15829                      17     Putative E3 ubiquitin ligase   \n",
       "159326        337399                     360  Membrane_associated lipoprotein   \n",
       "167461         12623                      13                          Unknown   \n",
       "227347        294791                     312  Membrane_associated lipoprotein   \n",
       "232545          7586                       8                          Unknown   \n",
       "\n",
       "        feature_number  contig_number  \n",
       "71244            10118         237307  \n",
       "81712            10118         237307  \n",
       "123848           10118         237307  \n",
       "152686           10118         237307  \n",
       "159326           10118         237307  \n",
       "167461           10118         237307  \n",
       "227347           10118         237307  \n",
       "232545           10118         237307  "
      ]
     },
     "execution_count": 347,
     "metadata": {},
     "output_type": "execute_result"
    }
   ],
   "source": [
    "data[data.feature_number == 10118]"
   ]
  },
  {
   "cell_type": "code",
   "execution_count": 334,
   "id": "2cb33c12",
   "metadata": {},
   "outputs": [
    {
     "data": {
      "text/plain": [
       "339"
      ]
     },
     "execution_count": 334,
     "metadata": {},
     "output_type": "execute_result"
    }
   ],
   "source": [
    "# temp\n",
    "len(set(subsets[subsets.contig_id == 237307].features.values[0]))"
   ]
  },
  {
   "cell_type": "markdown",
   "id": "cc9ee470",
   "metadata": {},
   "source": [
    "* count the occurrences of each feature in all the contigs. \n",
    "  * Needed to compute the probability of a pair"
   ]
  },
  {
   "cell_type": "code",
   "execution_count": 335,
   "id": "3a8491d9",
   "metadata": {
    "scrolled": true
   },
   "outputs": [
    {
     "data": {
      "text/html": [
       "<div>\n",
       "<style scoped>\n",
       "    .dataframe tbody tr th:only-of-type {\n",
       "        vertical-align: middle;\n",
       "    }\n",
       "\n",
       "    .dataframe tbody tr th {\n",
       "        vertical-align: top;\n",
       "    }\n",
       "\n",
       "    .dataframe thead th {\n",
       "        text-align: right;\n",
       "    }\n",
       "</style>\n",
       "<table border=\"1\" class=\"dataframe\">\n",
       "  <thead>\n",
       "    <tr style=\"text-align: right;\">\n",
       "      <th></th>\n",
       "      <th>nb_occurrences</th>\n",
       "    </tr>\n",
       "    <tr>\n",
       "      <th>feature</th>\n",
       "      <th></th>\n",
       "    </tr>\n",
       "  </thead>\n",
       "  <tbody>\n",
       "    <tr>\n",
       "      <th>21058</th>\n",
       "      <td>122</td>\n",
       "    </tr>\n",
       "    <tr>\n",
       "      <th>6051</th>\n",
       "      <td>134</td>\n",
       "    </tr>\n",
       "    <tr>\n",
       "      <th>57763</th>\n",
       "      <td>25</td>\n",
       "    </tr>\n",
       "    <tr>\n",
       "      <th>8867</th>\n",
       "      <td>135</td>\n",
       "    </tr>\n",
       "    <tr>\n",
       "      <th>3929</th>\n",
       "      <td>135</td>\n",
       "    </tr>\n",
       "    <tr>\n",
       "      <th>...</th>\n",
       "      <td>...</td>\n",
       "    </tr>\n",
       "    <tr>\n",
       "      <th>10480</th>\n",
       "      <td>1</td>\n",
       "    </tr>\n",
       "    <tr>\n",
       "      <th>60147</th>\n",
       "      <td>1</td>\n",
       "    </tr>\n",
       "    <tr>\n",
       "      <th>29940</th>\n",
       "      <td>1</td>\n",
       "    </tr>\n",
       "    <tr>\n",
       "      <th>60148</th>\n",
       "      <td>1</td>\n",
       "    </tr>\n",
       "    <tr>\n",
       "      <th>35449</th>\n",
       "      <td>1</td>\n",
       "    </tr>\n",
       "  </tbody>\n",
       "</table>\n",
       "<p>65336 rows × 1 columns</p>\n",
       "</div>"
      ],
      "text/plain": [
       "         nb_occurrences\n",
       "feature                \n",
       "21058               122\n",
       "6051                134\n",
       "57763                25\n",
       "8867                135\n",
       "3929                135\n",
       "...                 ...\n",
       "10480                 1\n",
       "60147                 1\n",
       "29940                 1\n",
       "60148                 1\n",
       "35449                 1\n",
       "\n",
       "[65336 rows x 1 columns]"
      ]
     },
     "execution_count": 335,
     "metadata": {},
     "output_type": "execute_result"
    }
   ],
   "source": [
    "feature_counts = pd.DataFrame(Counter(itertools.chain(*subsets.features.values)).items())\n",
    "feature_counts.columns = [\"feature\", \"nb_occurrences\"]\n",
    "feature_counts = feature_counts.set_index(\"feature\")\n",
    "feature_counts"
   ]
  },
  {
   "cell_type": "markdown",
   "id": "f164578c",
   "metadata": {},
   "source": [
    "* Count the occurrences of each pair of features that occur on at least 1 contig\n",
    "* We generate generate all the possible pairs (tuples) of features \n"
   ]
  },
  {
   "cell_type": "code",
   "execution_count": 336,
   "id": "d0095e84",
   "metadata": {},
   "outputs": [
    {
     "data": {
      "text/plain": [
       "contig_number\n",
       "82638     [(3929, 6051), (3929, 21058), (3929, 8867), (3...\n",
       "106079    [(18722, 6292), (18722, 30149), (18722, 3490),...\n",
       "dtype: object"
      ]
     },
     "execution_count": 336,
     "metadata": {},
     "output_type": "execute_result"
    }
   ],
   "source": [
    "# Generate all the subset of size 2 for each contig\n",
    "subsets_size_2 = data.groupby(\"contig_number\").apply(lambda x: list(itertools.combinations(x[\"feature_number\"].values, 2)))\n",
    "subsets_size_2.head(2)\n"
   ]
  },
  {
   "cell_type": "code",
   "execution_count": 337,
   "id": "bfff53ce",
   "metadata": {},
   "outputs": [
    {
     "data": {
      "text/plain": [
       "[(18722, 6292),\n",
       " (18722, 30149),\n",
       " (18722, 3490),\n",
       " (6292, 30149),\n",
       " (6292, 3490),\n",
       " (30149, 3490)]"
      ]
     },
     "execution_count": 337,
     "metadata": {},
     "output_type": "execute_result"
    }
   ],
   "source": [
    "subsets_size_2.iloc[1]"
   ]
  },
  {
   "cell_type": "markdown",
   "id": "6eb9822d",
   "metadata": {},
   "source": [
    "* We make sure the tuple is sorted so it's easy to compute frequencies"
   ]
  },
  {
   "cell_type": "code",
   "execution_count": 338,
   "id": "1ce04368",
   "metadata": {},
   "outputs": [
    {
     "data": {
      "text/plain": [
       "[(3929, 6051),\n",
       " (3929, 21058),\n",
       " (3929, 8867),\n",
       " (3929, 57763),\n",
       " (3929, 25595),\n",
       " (6051, 21058),\n",
       " (6051, 8867),\n",
       " (6051, 57763),\n",
       " (6051, 25595),\n",
       " (8867, 21058)]"
      ]
     },
     "execution_count": 338,
     "metadata": {},
     "output_type": "execute_result"
    }
   ],
   "source": [
    "co_occurences_2 = []\n",
    "for item in list(itertools.chain(*subsets_size_2.values)):\n",
    "    if item[0] > item[1]:\n",
    "        co_occurences_2.append((item[1], item[0]))\n",
    "    else:\n",
    "        co_occurences_2.append((item[0], item[1]))  \n",
    "co_occurences_2[:10]    "
   ]
  },
  {
   "cell_type": "markdown",
   "id": "3e66df78",
   "metadata": {},
   "source": [
    "* Count the number of occurrences of each pair of features"
   ]
  },
  {
   "cell_type": "code",
   "execution_count": 339,
   "id": "e2c87b55",
   "metadata": {},
   "outputs": [
    {
     "data": {
      "text/html": [
       "<div>\n",
       "<style scoped>\n",
       "    .dataframe tbody tr th:only-of-type {\n",
       "        vertical-align: middle;\n",
       "    }\n",
       "\n",
       "    .dataframe tbody tr th {\n",
       "        vertical-align: top;\n",
       "    }\n",
       "\n",
       "    .dataframe thead th {\n",
       "        text-align: right;\n",
       "    }\n",
       "</style>\n",
       "<table border=\"1\" class=\"dataframe\">\n",
       "  <thead>\n",
       "    <tr style=\"text-align: right;\">\n",
       "      <th></th>\n",
       "      <th>combination</th>\n",
       "      <th>nb_occurrences</th>\n",
       "    </tr>\n",
       "  </thead>\n",
       "  <tbody>\n",
       "    <tr>\n",
       "      <th>524534</th>\n",
       "      <td>(1937, 6879)</td>\n",
       "      <td>178</td>\n",
       "    </tr>\n",
       "    <tr>\n",
       "      <th>523141</th>\n",
       "      <td>(5188, 9330)</td>\n",
       "      <td>175</td>\n",
       "    </tr>\n",
       "  </tbody>\n",
       "</table>\n",
       "</div>"
      ],
      "text/plain": [
       "         combination  nb_occurrences\n",
       "524534  (1937, 6879)             178\n",
       "523141  (5188, 9330)             175"
      ]
     },
     "execution_count": 339,
     "metadata": {},
     "output_type": "execute_result"
    }
   ],
   "source": [
    "co_occurences__2_counts = pd.DataFrame(Counter(co_occurences_2).items())\n",
    "co_occurences__2_counts.columns = [\"combination\", \"nb_occurrences\"]\n",
    "co_occurences__2_counts = co_occurences__2_counts.sort_values(by=\"nb_occurrences\", ascending=False)\n",
    "co_occurences__2_counts.head(2)"
   ]
  },
  {
   "cell_type": "code",
   "execution_count": 340,
   "id": "80a4f326",
   "metadata": {},
   "outputs": [
    {
     "data": {
      "text/plain": [
       "(6988165, 2)"
      ]
     },
     "execution_count": 340,
     "metadata": {},
     "output_type": "execute_result"
    }
   ],
   "source": [
    "co_occurences__2_counts.shape"
   ]
  },
  {
   "cell_type": "markdown",
   "id": "e589a4dd",
   "metadata": {},
   "source": [
    "* Only keep those that occur frequently\n",
    "```python\n",
    ">>> sum(co_occurences__2_counts.nb_occurrences > 10)\n",
    "263730\n",
    "```\n"
   ]
  },
  {
   "cell_type": "code",
   "execution_count": 342,
   "id": "5382dd25",
   "metadata": {},
   "outputs": [
    {
     "data": {
      "text/plain": [
       "(263730, 2)"
      ]
     },
     "execution_count": 342,
     "metadata": {},
     "output_type": "execute_result"
    }
   ],
   "source": [
    "co_occurences__2_counts = co_occurences__2_counts[co_occurences__2_counts.nb_occurrences > 10]\n",
    "co_occurences__2_counts.shape"
   ]
  },
  {
   "cell_type": "code",
   "execution_count": 343,
   "id": "53aea3b7",
   "metadata": {},
   "outputs": [
    {
     "data": {
      "text/html": [
       "<div>\n",
       "<style scoped>\n",
       "    .dataframe tbody tr th:only-of-type {\n",
       "        vertical-align: middle;\n",
       "    }\n",
       "\n",
       "    .dataframe tbody tr th {\n",
       "        vertical-align: top;\n",
       "    }\n",
       "\n",
       "    .dataframe thead th {\n",
       "        text-align: right;\n",
       "    }\n",
       "</style>\n",
       "<table border=\"1\" class=\"dataframe\">\n",
       "  <thead>\n",
       "    <tr style=\"text-align: right;\">\n",
       "      <th></th>\n",
       "      <th>combination</th>\n",
       "      <th>nb_occurrences</th>\n",
       "      <th>item_0</th>\n",
       "      <th>item_1</th>\n",
       "    </tr>\n",
       "  </thead>\n",
       "  <tbody>\n",
       "    <tr>\n",
       "      <th>524534</th>\n",
       "      <td>(1937, 6879)</td>\n",
       "      <td>178</td>\n",
       "      <td>264</td>\n",
       "      <td>183</td>\n",
       "    </tr>\n",
       "    <tr>\n",
       "      <th>523141</th>\n",
       "      <td>(5188, 9330)</td>\n",
       "      <td>175</td>\n",
       "      <td>175</td>\n",
       "      <td>175</td>\n",
       "    </tr>\n",
       "    <tr>\n",
       "      <th>523140</th>\n",
       "      <td>(5188, 5262)</td>\n",
       "      <td>175</td>\n",
       "      <td>175</td>\n",
       "      <td>175</td>\n",
       "    </tr>\n",
       "    <tr>\n",
       "      <th>528811</th>\n",
       "      <td>(5262, 9330)</td>\n",
       "      <td>175</td>\n",
       "      <td>175</td>\n",
       "      <td>175</td>\n",
       "    </tr>\n",
       "    <tr>\n",
       "      <th>511640</th>\n",
       "      <td>(3671, 5262)</td>\n",
       "      <td>174</td>\n",
       "      <td>174</td>\n",
       "      <td>175</td>\n",
       "    </tr>\n",
       "    <tr>\n",
       "      <th>522610</th>\n",
       "      <td>(3797, 5188)</td>\n",
       "      <td>174</td>\n",
       "      <td>174</td>\n",
       "      <td>175</td>\n",
       "    </tr>\n",
       "    <tr>\n",
       "      <th>528721</th>\n",
       "      <td>(9330, 14120)</td>\n",
       "      <td>174</td>\n",
       "      <td>175</td>\n",
       "      <td>174</td>\n",
       "    </tr>\n",
       "    <tr>\n",
       "      <th>528720</th>\n",
       "      <td>(5262, 14120)</td>\n",
       "      <td>174</td>\n",
       "      <td>175</td>\n",
       "      <td>174</td>\n",
       "    </tr>\n",
       "    <tr>\n",
       "      <th>523136</th>\n",
       "      <td>(5188, 14120)</td>\n",
       "      <td>174</td>\n",
       "      <td>175</td>\n",
       "      <td>174</td>\n",
       "    </tr>\n",
       "    <tr>\n",
       "      <th>511641</th>\n",
       "      <td>(3671, 9330)</td>\n",
       "      <td>174</td>\n",
       "      <td>174</td>\n",
       "      <td>175</td>\n",
       "    </tr>\n",
       "  </tbody>\n",
       "</table>\n",
       "</div>"
      ],
      "text/plain": [
       "          combination  nb_occurrences  item_0  item_1\n",
       "524534   (1937, 6879)             178     264     183\n",
       "523141   (5188, 9330)             175     175     175\n",
       "523140   (5188, 5262)             175     175     175\n",
       "528811   (5262, 9330)             175     175     175\n",
       "511640   (3671, 5262)             174     174     175\n",
       "522610   (3797, 5188)             174     174     175\n",
       "528721  (9330, 14120)             174     175     174\n",
       "528720  (5262, 14120)             174     175     174\n",
       "523136  (5188, 14120)             174     175     174\n",
       "511641   (3671, 9330)             174     174     175"
      ]
     },
     "execution_count": 343,
     "metadata": {},
     "output_type": "execute_result"
    }
   ],
   "source": [
    "subset_size = len(co_occurences__2_counts.iloc[0].combination)\n",
    "for i in range(subset_size):\n",
    "    a = co_occurences__2_counts.combination.apply(lambda x: x[i])\n",
    "    co_occurences__2_counts.loc[:, f\"item_{i}\"] = feature_counts.loc[a].nb_occurrences.values\n",
    "\n",
    "co_occurences__2_counts.head(10)"
   ]
  },
  {
   "cell_type": "code",
   "execution_count": 344,
   "id": "c098b4e9",
   "metadata": {},
   "outputs": [
    {
     "data": {
      "text/html": [
       "<div>\n",
       "<style scoped>\n",
       "    .dataframe tbody tr th:only-of-type {\n",
       "        vertical-align: middle;\n",
       "    }\n",
       "\n",
       "    .dataframe tbody tr th {\n",
       "        vertical-align: top;\n",
       "    }\n",
       "\n",
       "    .dataframe thead th {\n",
       "        text-align: right;\n",
       "    }\n",
       "</style>\n",
       "<table border=\"1\" class=\"dataframe\">\n",
       "  <thead>\n",
       "    <tr style=\"text-align: right;\">\n",
       "      <th></th>\n",
       "      <th>combination</th>\n",
       "      <th>nb_occurrences</th>\n",
       "      <th>item_0</th>\n",
       "      <th>item_1</th>\n",
       "    </tr>\n",
       "  </thead>\n",
       "  <tbody>\n",
       "    <tr>\n",
       "      <th>3564221</th>\n",
       "      <td>(47994, 58305)</td>\n",
       "      <td>11</td>\n",
       "      <td>6</td>\n",
       "      <td>6</td>\n",
       "    </tr>\n",
       "    <tr>\n",
       "      <th>1127922</th>\n",
       "      <td>(17842, 38805)</td>\n",
       "      <td>11</td>\n",
       "      <td>17</td>\n",
       "      <td>11</td>\n",
       "    </tr>\n",
       "    <tr>\n",
       "      <th>3564301</th>\n",
       "      <td>(30626, 58305)</td>\n",
       "      <td>11</td>\n",
       "      <td>6</td>\n",
       "      <td>6</td>\n",
       "    </tr>\n",
       "    <tr>\n",
       "      <th>3564218</th>\n",
       "      <td>(24404, 58305)</td>\n",
       "      <td>11</td>\n",
       "      <td>6</td>\n",
       "      <td>6</td>\n",
       "    </tr>\n",
       "    <tr>\n",
       "      <th>1146342</th>\n",
       "      <td>(15225, 43863)</td>\n",
       "      <td>11</td>\n",
       "      <td>12</td>\n",
       "      <td>11</td>\n",
       "    </tr>\n",
       "    <tr>\n",
       "      <th>1127923</th>\n",
       "      <td>(35515, 38805)</td>\n",
       "      <td>11</td>\n",
       "      <td>13</td>\n",
       "      <td>11</td>\n",
       "    </tr>\n",
       "    <tr>\n",
       "      <th>3564305</th>\n",
       "      <td>(46694, 58305)</td>\n",
       "      <td>11</td>\n",
       "      <td>6</td>\n",
       "      <td>6</td>\n",
       "    </tr>\n",
       "    <tr>\n",
       "      <th>1145396</th>\n",
       "      <td>(49606, 58207)</td>\n",
       "      <td>11</td>\n",
       "      <td>66</td>\n",
       "      <td>14</td>\n",
       "    </tr>\n",
       "    <tr>\n",
       "      <th>1127926</th>\n",
       "      <td>(21292, 38805)</td>\n",
       "      <td>11</td>\n",
       "      <td>20</td>\n",
       "      <td>11</td>\n",
       "    </tr>\n",
       "    <tr>\n",
       "      <th>3564294</th>\n",
       "      <td>(47092, 58305)</td>\n",
       "      <td>11</td>\n",
       "      <td>6</td>\n",
       "      <td>6</td>\n",
       "    </tr>\n",
       "  </tbody>\n",
       "</table>\n",
       "</div>"
      ],
      "text/plain": [
       "            combination  nb_occurrences  item_0  item_1\n",
       "3564221  (47994, 58305)              11       6       6\n",
       "1127922  (17842, 38805)              11      17      11\n",
       "3564301  (30626, 58305)              11       6       6\n",
       "3564218  (24404, 58305)              11       6       6\n",
       "1146342  (15225, 43863)              11      12      11\n",
       "1127923  (35515, 38805)              11      13      11\n",
       "3564305  (46694, 58305)              11       6       6\n",
       "1145396  (49606, 58207)              11      66      14\n",
       "1127926  (21292, 38805)              11      20      11\n",
       "3564294  (47092, 58305)              11       6       6"
      ]
     },
     "execution_count": 344,
     "metadata": {},
     "output_type": "execute_result"
    }
   ],
   "source": [
    "co_occurences__2_counts.tail(10)"
   ]
  },
  {
   "cell_type": "markdown",
   "id": "4afc51f9",
   "metadata": {},
   "source": [
    "* Compute the Dice Coefficient"
   ]
  },
  {
   "cell_type": "code",
   "execution_count": 346,
   "id": "33a83a7d",
   "metadata": {},
   "outputs": [
    {
     "data": {
      "text/html": [
       "<div>\n",
       "<style scoped>\n",
       "    .dataframe tbody tr th:only-of-type {\n",
       "        vertical-align: middle;\n",
       "    }\n",
       "\n",
       "    .dataframe tbody tr th {\n",
       "        vertical-align: top;\n",
       "    }\n",
       "\n",
       "    .dataframe thead th {\n",
       "        text-align: right;\n",
       "    }\n",
       "</style>\n",
       "<table border=\"1\" class=\"dataframe\">\n",
       "  <thead>\n",
       "    <tr style=\"text-align: right;\">\n",
       "      <th></th>\n",
       "      <th>combination</th>\n",
       "      <th>nb_occurrences</th>\n",
       "      <th>item_0</th>\n",
       "      <th>item_1</th>\n",
       "      <th>Dice</th>\n",
       "    </tr>\n",
       "  </thead>\n",
       "  <tbody>\n",
       "    <tr>\n",
       "      <th>6814005</th>\n",
       "      <td>(10118, 17210)</td>\n",
       "      <td>96</td>\n",
       "      <td>1</td>\n",
       "      <td>1</td>\n",
       "      <td>96.000000</td>\n",
       "    </tr>\n",
       "    <tr>\n",
       "      <th>6814027</th>\n",
       "      <td>(7075, 17210)</td>\n",
       "      <td>84</td>\n",
       "      <td>1</td>\n",
       "      <td>1</td>\n",
       "      <td>84.000000</td>\n",
       "    </tr>\n",
       "    <tr>\n",
       "      <th>6813956</th>\n",
       "      <td>(6083, 17210)</td>\n",
       "      <td>72</td>\n",
       "      <td>1</td>\n",
       "      <td>1</td>\n",
       "      <td>72.000000</td>\n",
       "    </tr>\n",
       "    <tr>\n",
       "      <th>6811021</th>\n",
       "      <td>(13032, 17210)</td>\n",
       "      <td>72</td>\n",
       "      <td>1</td>\n",
       "      <td>1</td>\n",
       "      <td>72.000000</td>\n",
       "    </tr>\n",
       "    <tr>\n",
       "      <th>6813932</th>\n",
       "      <td>(17210, 17210)</td>\n",
       "      <td>66</td>\n",
       "      <td>1</td>\n",
       "      <td>1</td>\n",
       "      <td>66.000000</td>\n",
       "    </tr>\n",
       "    <tr>\n",
       "      <th>...</th>\n",
       "      <td>...</td>\n",
       "      <td>...</td>\n",
       "      <td>...</td>\n",
       "      <td>...</td>\n",
       "      <td>...</td>\n",
       "    </tr>\n",
       "    <tr>\n",
       "      <th>2073476</th>\n",
       "      <td>(5188, 31897)</td>\n",
       "      <td>15</td>\n",
       "      <td>175</td>\n",
       "      <td>96</td>\n",
       "      <td>0.000893</td>\n",
       "    </tr>\n",
       "    <tr>\n",
       "      <th>2072220</th>\n",
       "      <td>(14044, 31897)</td>\n",
       "      <td>15</td>\n",
       "      <td>177</td>\n",
       "      <td>96</td>\n",
       "      <td>0.000883</td>\n",
       "    </tr>\n",
       "    <tr>\n",
       "      <th>2072276</th>\n",
       "      <td>(7889, 31897)</td>\n",
       "      <td>15</td>\n",
       "      <td>179</td>\n",
       "      <td>96</td>\n",
       "      <td>0.000873</td>\n",
       "    </tr>\n",
       "    <tr>\n",
       "      <th>2073500</th>\n",
       "      <td>(31897, 41336)</td>\n",
       "      <td>14</td>\n",
       "      <td>96</td>\n",
       "      <td>170</td>\n",
       "      <td>0.000858</td>\n",
       "    </tr>\n",
       "    <tr>\n",
       "      <th>2073508</th>\n",
       "      <td>(13017, 31897)</td>\n",
       "      <td>14</td>\n",
       "      <td>172</td>\n",
       "      <td>96</td>\n",
       "      <td>0.000848</td>\n",
       "    </tr>\n",
       "  </tbody>\n",
       "</table>\n",
       "<p>263730 rows × 5 columns</p>\n",
       "</div>"
      ],
      "text/plain": [
       "            combination  nb_occurrences  item_0  item_1       Dice\n",
       "6814005  (10118, 17210)              96       1       1  96.000000\n",
       "6814027   (7075, 17210)              84       1       1  84.000000\n",
       "6813956   (6083, 17210)              72       1       1  72.000000\n",
       "6811021  (13032, 17210)              72       1       1  72.000000\n",
       "6813932  (17210, 17210)              66       1       1  66.000000\n",
       "...                 ...             ...     ...     ...        ...\n",
       "2073476   (5188, 31897)              15     175      96   0.000893\n",
       "2072220  (14044, 31897)              15     177      96   0.000883\n",
       "2072276   (7889, 31897)              15     179      96   0.000873\n",
       "2073500  (31897, 41336)              14      96     170   0.000858\n",
       "2073508  (13017, 31897)              14     172      96   0.000848\n",
       "\n",
       "[263730 rows x 5 columns]"
      ]
     },
     "execution_count": 346,
     "metadata": {},
     "output_type": "execute_result"
    }
   ],
   "source": [
    "co_occurences__2_counts[\"Dice\"] = co_occurences__2_counts[\"nb_occurrences\"] / co_occurences__2_counts.iloc[:,[2,3]].product(axis=1)\n",
    "co_occurences__2_counts.sort_values(by=\"Dice\", ascending=False)\n",
    "\n"
   ]
  },
  {
   "cell_type": "markdown",
   "id": "492c4065",
   "metadata": {},
   "source": [
    "* What is the top hit?\n",
    "  (1937, 6879) has  an occurrence rate of 0.9726"
   ]
  },
  {
   "cell_type": "code",
   "execution_count": 183,
   "id": "b966082f",
   "metadata": {},
   "outputs": [
    {
     "data": {
      "text/plain": [
       "662     Ribonucleoside_diphosphate reductase\n",
       "1063    Ribonucleoside_diphosphate reductase\n",
       "1069    Ribonucleoside_diphosphate reductase\n",
       "1335    Ribonucleoside_diphosphate reductase\n",
       "1912    Ribonucleoside_diphosphate reductase\n",
       "Name: annotation_val, dtype: object"
      ]
     },
     "execution_count": 183,
     "metadata": {},
     "output_type": "execute_result"
    }
   ],
   "source": [
    "data[data.feature_number == 1937]['annotation_val'].head(5)"
   ]
  },
  {
   "cell_type": "code",
   "execution_count": 185,
   "id": "ff6a3dcc",
   "metadata": {},
   "outputs": [
    {
     "data": {
      "text/plain": [
       "170       Unknown\n",
       "755       Unknown\n",
       "2764      Unknown\n",
       "5850      Unknown\n",
       "7642      Unknown\n",
       "           ...   \n",
       "228043    Unknown\n",
       "233414    Unknown\n",
       "233774    Unknown\n",
       "233929    Unknown\n",
       "234767    Unknown\n",
       "Name: annotation_val, Length: 183, dtype: object"
      ]
     },
     "execution_count": 185,
     "metadata": {},
     "output_type": "execute_result"
    }
   ],
   "source": [
    "data[data.feature_number == 6879]['annotation_val']"
   ]
  },
  {
   "cell_type": "markdown",
   "id": "1936286d",
   "metadata": {},
   "source": [
    "* If 6879 is unknown, are any of the other features associated with 1937 konw"
   ]
  },
  {
   "cell_type": "code",
   "execution_count": 195,
   "id": "511a8b75",
   "metadata": {},
   "outputs": [
    {
     "data": {
      "text/html": [
       "<div>\n",
       "<style scoped>\n",
       "    .dataframe tbody tr th:only-of-type {\n",
       "        vertical-align: middle;\n",
       "    }\n",
       "\n",
       "    .dataframe tbody tr th {\n",
       "        vertical-align: top;\n",
       "    }\n",
       "\n",
       "    .dataframe thead th {\n",
       "        text-align: right;\n",
       "    }\n",
       "</style>\n",
       "<table border=\"1\" class=\"dataframe\">\n",
       "  <thead>\n",
       "    <tr style=\"text-align: right;\">\n",
       "      <th></th>\n",
       "      <th>combination</th>\n",
       "      <th>nb_occurrences</th>\n",
       "      <th>item_0</th>\n",
       "      <th>item_1</th>\n",
       "      <th>Dice</th>\n",
       "    </tr>\n",
       "  </thead>\n",
       "  <tbody>\n",
       "    <tr>\n",
       "      <th>524534</th>\n",
       "      <td>(1937, 6879)</td>\n",
       "      <td>178</td>\n",
       "      <td>264</td>\n",
       "      <td>183</td>\n",
       "      <td>0.972678</td>\n",
       "    </tr>\n",
       "    <tr>\n",
       "      <th>527895</th>\n",
       "      <td>(1937, 5262)</td>\n",
       "      <td>172</td>\n",
       "      <td>264</td>\n",
       "      <td>175</td>\n",
       "      <td>0.982857</td>\n",
       "    </tr>\n",
       "    <tr>\n",
       "      <th>523113</th>\n",
       "      <td>(1937, 5188)</td>\n",
       "      <td>172</td>\n",
       "      <td>264</td>\n",
       "      <td>175</td>\n",
       "      <td>0.982857</td>\n",
       "    </tr>\n",
       "    <tr>\n",
       "      <th>527896</th>\n",
       "      <td>(1937, 9330)</td>\n",
       "      <td>172</td>\n",
       "      <td>264</td>\n",
       "      <td>175</td>\n",
       "      <td>0.982857</td>\n",
       "    </tr>\n",
       "    <tr>\n",
       "      <th>515638</th>\n",
       "      <td>(1937, 8643)</td>\n",
       "      <td>171</td>\n",
       "      <td>264</td>\n",
       "      <td>172</td>\n",
       "      <td>0.994186</td>\n",
       "    </tr>\n",
       "    <tr>\n",
       "      <th>522671</th>\n",
       "      <td>(1937, 3797)</td>\n",
       "      <td>171</td>\n",
       "      <td>264</td>\n",
       "      <td>174</td>\n",
       "      <td>0.982759</td>\n",
       "    </tr>\n",
       "    <tr>\n",
       "      <th>527670</th>\n",
       "      <td>(1937, 14438)</td>\n",
       "      <td>171</td>\n",
       "      <td>264</td>\n",
       "      <td>173</td>\n",
       "      <td>0.988439</td>\n",
       "    </tr>\n",
       "    <tr>\n",
       "      <th>527891</th>\n",
       "      <td>(1937, 14120)</td>\n",
       "      <td>171</td>\n",
       "      <td>264</td>\n",
       "      <td>174</td>\n",
       "      <td>0.982759</td>\n",
       "    </tr>\n",
       "    <tr>\n",
       "      <th>511613</th>\n",
       "      <td>(1937, 3671)</td>\n",
       "      <td>171</td>\n",
       "      <td>264</td>\n",
       "      <td>174</td>\n",
       "      <td>0.982759</td>\n",
       "    </tr>\n",
       "    <tr>\n",
       "      <th>515309</th>\n",
       "      <td>(1937, 19807)</td>\n",
       "      <td>170</td>\n",
       "      <td>264</td>\n",
       "      <td>171</td>\n",
       "      <td>0.994152</td>\n",
       "    </tr>\n",
       "  </tbody>\n",
       "</table>\n",
       "</div>"
      ],
      "text/plain": [
       "          combination  nb_occurrences  item_0  item_1      Dice\n",
       "524534   (1937, 6879)             178     264     183  0.972678\n",
       "527895   (1937, 5262)             172     264     175  0.982857\n",
       "523113   (1937, 5188)             172     264     175  0.982857\n",
       "527896   (1937, 9330)             172     264     175  0.982857\n",
       "515638   (1937, 8643)             171     264     172  0.994186\n",
       "522671   (1937, 3797)             171     264     174  0.982759\n",
       "527670  (1937, 14438)             171     264     173  0.988439\n",
       "527891  (1937, 14120)             171     264     174  0.982759\n",
       "511613   (1937, 3671)             171     264     174  0.982759\n",
       "515309  (1937, 19807)             170     264     171  0.994152"
      ]
     },
     "execution_count": 195,
     "metadata": {},
     "output_type": "execute_result"
    }
   ],
   "source": [
    "co_occurences__2_counts[co_occurences__2_counts.combination.apply(lambda x: 1937 in  x)].head(10)"
   ]
  },
  {
   "cell_type": "code",
   "execution_count": 326,
   "id": "519f184e",
   "metadata": {},
   "outputs": [
    {
     "ename": "AttributeError",
     "evalue": "'DataFrame' object has no attribute 'feature_number'",
     "output_type": "error",
     "traceback": [
      "\u001b[0;31m---------------------------------------------------------------------------\u001b[0m",
      "\u001b[0;31mAttributeError\u001b[0m                            Traceback (most recent call last)",
      "\u001b[0;32m/var/folders/6m/188vj34d6nv8qsnxqt6plydw0000gn/T/ipykernel_32865/3464568149.py\u001b[0m in \u001b[0;36m<module>\u001b[0;34m\u001b[0m\n\u001b[0;32m----> 1\u001b[0;31m \u001b[0mdata\u001b[0m\u001b[0;34m[\u001b[0m\u001b[0mdata\u001b[0m\u001b[0;34m.\u001b[0m\u001b[0mfeature_number\u001b[0m \u001b[0;34m==\u001b[0m \u001b[0;36m5262\u001b[0m\u001b[0;34m]\u001b[0m\u001b[0;34m[\u001b[0m\u001b[0;34m'annotation_val'\u001b[0m\u001b[0;34m]\u001b[0m\u001b[0;34m\u001b[0m\u001b[0;34m\u001b[0m\u001b[0m\n\u001b[0m",
      "\u001b[0;32m~/mambaforge/lib/python3.9/site-packages/pandas/core/generic.py\u001b[0m in \u001b[0;36m__getattr__\u001b[0;34m(self, name)\u001b[0m\n\u001b[1;32m   5485\u001b[0m         ):\n\u001b[1;32m   5486\u001b[0m             \u001b[0;32mreturn\u001b[0m \u001b[0mself\u001b[0m\u001b[0;34m[\u001b[0m\u001b[0mname\u001b[0m\u001b[0;34m]\u001b[0m\u001b[0;34m\u001b[0m\u001b[0;34m\u001b[0m\u001b[0m\n\u001b[0;32m-> 5487\u001b[0;31m         \u001b[0;32mreturn\u001b[0m \u001b[0mobject\u001b[0m\u001b[0;34m.\u001b[0m\u001b[0m__getattribute__\u001b[0m\u001b[0;34m(\u001b[0m\u001b[0mself\u001b[0m\u001b[0;34m,\u001b[0m \u001b[0mname\u001b[0m\u001b[0;34m)\u001b[0m\u001b[0;34m\u001b[0m\u001b[0;34m\u001b[0m\u001b[0m\n\u001b[0m\u001b[1;32m   5488\u001b[0m \u001b[0;34m\u001b[0m\u001b[0m\n\u001b[1;32m   5489\u001b[0m     \u001b[0;32mdef\u001b[0m \u001b[0m__setattr__\u001b[0m\u001b[0;34m(\u001b[0m\u001b[0mself\u001b[0m\u001b[0;34m,\u001b[0m \u001b[0mname\u001b[0m\u001b[0;34m:\u001b[0m \u001b[0mstr\u001b[0m\u001b[0;34m,\u001b[0m \u001b[0mvalue\u001b[0m\u001b[0;34m)\u001b[0m \u001b[0;34m->\u001b[0m \u001b[0;32mNone\u001b[0m\u001b[0;34m:\u001b[0m\u001b[0;34m\u001b[0m\u001b[0;34m\u001b[0m\u001b[0m\n",
      "\u001b[0;31mAttributeError\u001b[0m: 'DataFrame' object has no attribute 'feature_number'"
     ]
    }
   ],
   "source": [
    "data[data.feature_number == 5262]['annotation_val']"
   ]
  },
  {
   "cell_type": "code",
   "execution_count": 325,
   "id": "91e432ef",
   "metadata": {},
   "outputs": [
    {
     "ename": "AttributeError",
     "evalue": "'DataFrame' object has no attribute 'feature_number'",
     "output_type": "error",
     "traceback": [
      "\u001b[0;31m---------------------------------------------------------------------------\u001b[0m",
      "\u001b[0;31mAttributeError\u001b[0m                            Traceback (most recent call last)",
      "\u001b[0;32m/var/folders/6m/188vj34d6nv8qsnxqt6plydw0000gn/T/ipykernel_32865/2177313269.py\u001b[0m in \u001b[0;36m<module>\u001b[0;34m\u001b[0m\n\u001b[0;32m----> 1\u001b[0;31m \u001b[0mdata\u001b[0m\u001b[0;34m[\u001b[0m\u001b[0mdata\u001b[0m\u001b[0;34m.\u001b[0m\u001b[0mfeature_number\u001b[0m \u001b[0;34m==\u001b[0m \u001b[0;36m8643\u001b[0m\u001b[0;34m]\u001b[0m\u001b[0;34m[\u001b[0m\u001b[0;34m'annotation_val'\u001b[0m\u001b[0;34m]\u001b[0m\u001b[0;34m\u001b[0m\u001b[0;34m\u001b[0m\u001b[0m\n\u001b[0m",
      "\u001b[0;32m~/mambaforge/lib/python3.9/site-packages/pandas/core/generic.py\u001b[0m in \u001b[0;36m__getattr__\u001b[0;34m(self, name)\u001b[0m\n\u001b[1;32m   5485\u001b[0m         ):\n\u001b[1;32m   5486\u001b[0m             \u001b[0;32mreturn\u001b[0m \u001b[0mself\u001b[0m\u001b[0;34m[\u001b[0m\u001b[0mname\u001b[0m\u001b[0;34m]\u001b[0m\u001b[0;34m\u001b[0m\u001b[0;34m\u001b[0m\u001b[0m\n\u001b[0;32m-> 5487\u001b[0;31m         \u001b[0;32mreturn\u001b[0m \u001b[0mobject\u001b[0m\u001b[0;34m.\u001b[0m\u001b[0m__getattribute__\u001b[0m\u001b[0;34m(\u001b[0m\u001b[0mself\u001b[0m\u001b[0;34m,\u001b[0m \u001b[0mname\u001b[0m\u001b[0;34m)\u001b[0m\u001b[0;34m\u001b[0m\u001b[0;34m\u001b[0m\u001b[0m\n\u001b[0m\u001b[1;32m   5488\u001b[0m \u001b[0;34m\u001b[0m\u001b[0m\n\u001b[1;32m   5489\u001b[0m     \u001b[0;32mdef\u001b[0m \u001b[0m__setattr__\u001b[0m\u001b[0;34m(\u001b[0m\u001b[0mself\u001b[0m\u001b[0;34m,\u001b[0m \u001b[0mname\u001b[0m\u001b[0;34m:\u001b[0m \u001b[0mstr\u001b[0m\u001b[0;34m,\u001b[0m \u001b[0mvalue\u001b[0m\u001b[0;34m)\u001b[0m \u001b[0;34m->\u001b[0m \u001b[0;32mNone\u001b[0m\u001b[0;34m:\u001b[0m\u001b[0;34m\u001b[0m\u001b[0;34m\u001b[0m\u001b[0m\n",
      "\u001b[0;31mAttributeError\u001b[0m: 'DataFrame' object has no attribute 'feature_number'"
     ]
    }
   ],
   "source": [
    "data[data.feature_number == 8643]['annotation_val']"
   ]
  },
  {
   "cell_type": "code",
   "execution_count": 324,
   "id": "22217df8",
   "metadata": {},
   "outputs": [
    {
     "ename": "AttributeError",
     "evalue": "'DataFrame' object has no attribute 'feature_number'",
     "output_type": "error",
     "traceback": [
      "\u001b[0;31m---------------------------------------------------------------------------\u001b[0m",
      "\u001b[0;31mAttributeError\u001b[0m                            Traceback (most recent call last)",
      "\u001b[0;32m/var/folders/6m/188vj34d6nv8qsnxqt6plydw0000gn/T/ipykernel_32865/3622459214.py\u001b[0m in \u001b[0;36m<module>\u001b[0;34m\u001b[0m\n\u001b[0;32m----> 1\u001b[0;31m \u001b[0mdata\u001b[0m\u001b[0;34m[\u001b[0m\u001b[0mdata\u001b[0m\u001b[0;34m.\u001b[0m\u001b[0mfeature_number\u001b[0m \u001b[0;34m==\u001b[0m \u001b[0;36m3797\u001b[0m\u001b[0;34m]\u001b[0m\u001b[0;34m[\u001b[0m\u001b[0;34m'annotation_val'\u001b[0m\u001b[0;34m]\u001b[0m\u001b[0;34m\u001b[0m\u001b[0;34m\u001b[0m\u001b[0m\n\u001b[0m",
      "\u001b[0;32m~/mambaforge/lib/python3.9/site-packages/pandas/core/generic.py\u001b[0m in \u001b[0;36m__getattr__\u001b[0;34m(self, name)\u001b[0m\n\u001b[1;32m   5485\u001b[0m         ):\n\u001b[1;32m   5486\u001b[0m             \u001b[0;32mreturn\u001b[0m \u001b[0mself\u001b[0m\u001b[0;34m[\u001b[0m\u001b[0mname\u001b[0m\u001b[0;34m]\u001b[0m\u001b[0;34m\u001b[0m\u001b[0;34m\u001b[0m\u001b[0m\n\u001b[0;32m-> 5487\u001b[0;31m         \u001b[0;32mreturn\u001b[0m \u001b[0mobject\u001b[0m\u001b[0;34m.\u001b[0m\u001b[0m__getattribute__\u001b[0m\u001b[0;34m(\u001b[0m\u001b[0mself\u001b[0m\u001b[0;34m,\u001b[0m \u001b[0mname\u001b[0m\u001b[0;34m)\u001b[0m\u001b[0;34m\u001b[0m\u001b[0;34m\u001b[0m\u001b[0m\n\u001b[0m\u001b[1;32m   5488\u001b[0m \u001b[0;34m\u001b[0m\u001b[0m\n\u001b[1;32m   5489\u001b[0m     \u001b[0;32mdef\u001b[0m \u001b[0m__setattr__\u001b[0m\u001b[0;34m(\u001b[0m\u001b[0mself\u001b[0m\u001b[0;34m,\u001b[0m \u001b[0mname\u001b[0m\u001b[0;34m:\u001b[0m \u001b[0mstr\u001b[0m\u001b[0;34m,\u001b[0m \u001b[0mvalue\u001b[0m\u001b[0;34m)\u001b[0m \u001b[0;34m->\u001b[0m \u001b[0;32mNone\u001b[0m\u001b[0;34m:\u001b[0m\u001b[0;34m\u001b[0m\u001b[0;34m\u001b[0m\u001b[0m\n",
      "\u001b[0;31mAttributeError\u001b[0m: 'DataFrame' object has no attribute 'feature_number'"
     ]
    }
   ],
   "source": [
    "data[data.feature_number == 3797]['annotation_val']"
   ]
  },
  {
   "cell_type": "markdown",
   "id": "120efd77",
   "metadata": {},
   "source": [
    "* Repeating the analysis work for larger subsets of features\n",
    "  * Start with paird what have surprise factor, by either\n",
    "  1. merging most frequent pairs iterative  add another item   \n",
    "  2. Start from seed and extending to include all pairs and finding the frequent items\n"
   ]
  },
  {
   "cell_type": "code",
   "execution_count": 233,
   "id": "b914d5f0",
   "metadata": {},
   "outputs": [
    {
     "data": {
      "text/html": [
       "<div>\n",
       "<style scoped>\n",
       "    .dataframe tbody tr th:only-of-type {\n",
       "        vertical-align: middle;\n",
       "    }\n",
       "\n",
       "    .dataframe tbody tr th {\n",
       "        vertical-align: top;\n",
       "    }\n",
       "\n",
       "    .dataframe thead th {\n",
       "        text-align: right;\n",
       "    }\n",
       "</style>\n",
       "<table border=\"1\" class=\"dataframe\">\n",
       "  <thead>\n",
       "    <tr style=\"text-align: right;\">\n",
       "      <th></th>\n",
       "      <th>combination</th>\n",
       "      <th>nb_occurrences</th>\n",
       "      <th>item_0</th>\n",
       "      <th>item_1</th>\n",
       "      <th>Dice</th>\n",
       "    </tr>\n",
       "  </thead>\n",
       "  <tbody>\n",
       "    <tr>\n",
       "      <th>6807705</th>\n",
       "      <td>(12777, 17210)</td>\n",
       "      <td>12</td>\n",
       "      <td>1</td>\n",
       "      <td>12</td>\n",
       "      <td>12.000000</td>\n",
       "    </tr>\n",
       "    <tr>\n",
       "      <th>6814109</th>\n",
       "      <td>(15279, 17210)</td>\n",
       "      <td>12</td>\n",
       "      <td>1</td>\n",
       "      <td>12</td>\n",
       "      <td>12.000000</td>\n",
       "    </tr>\n",
       "    <tr>\n",
       "      <th>6814111</th>\n",
       "      <td>(4221, 17210)</td>\n",
       "      <td>12</td>\n",
       "      <td>1</td>\n",
       "      <td>12</td>\n",
       "      <td>12.000000</td>\n",
       "    </tr>\n",
       "    <tr>\n",
       "      <th>6814162</th>\n",
       "      <td>(1071, 17210)</td>\n",
       "      <td>12</td>\n",
       "      <td>1</td>\n",
       "      <td>12</td>\n",
       "      <td>12.000000</td>\n",
       "    </tr>\n",
       "    <tr>\n",
       "      <th>6814163</th>\n",
       "      <td>(17210, 51489)</td>\n",
       "      <td>12</td>\n",
       "      <td>12</td>\n",
       "      <td>1</td>\n",
       "      <td>12.000000</td>\n",
       "    </tr>\n",
       "    <tr>\n",
       "      <th>...</th>\n",
       "      <td>...</td>\n",
       "      <td>...</td>\n",
       "      <td>...</td>\n",
       "      <td>...</td>\n",
       "      <td>...</td>\n",
       "    </tr>\n",
       "    <tr>\n",
       "      <th>2073227</th>\n",
       "      <td>(31897, 46049)</td>\n",
       "      <td>14</td>\n",
       "      <td>96</td>\n",
       "      <td>158</td>\n",
       "      <td>0.145833</td>\n",
       "    </tr>\n",
       "    <tr>\n",
       "      <th>2073521</th>\n",
       "      <td>(15458, 31897)</td>\n",
       "      <td>14</td>\n",
       "      <td>155</td>\n",
       "      <td>96</td>\n",
       "      <td>0.145833</td>\n",
       "    </tr>\n",
       "    <tr>\n",
       "      <th>2071791</th>\n",
       "      <td>(5941, 31897)</td>\n",
       "      <td>14</td>\n",
       "      <td>156</td>\n",
       "      <td>96</td>\n",
       "      <td>0.145833</td>\n",
       "    </tr>\n",
       "    <tr>\n",
       "      <th>2072904</th>\n",
       "      <td>(31897, 58348)</td>\n",
       "      <td>13</td>\n",
       "      <td>96</td>\n",
       "      <td>95</td>\n",
       "      <td>0.136842</td>\n",
       "    </tr>\n",
       "    <tr>\n",
       "      <th>2072859</th>\n",
       "      <td>(8105, 31897)</td>\n",
       "      <td>13</td>\n",
       "      <td>117</td>\n",
       "      <td>96</td>\n",
       "      <td>0.135417</td>\n",
       "    </tr>\n",
       "  </tbody>\n",
       "</table>\n",
       "<p>263730 rows × 5 columns</p>\n",
       "</div>"
      ],
      "text/plain": [
       "            combination  nb_occurrences  item_0  item_1       Dice\n",
       "6807705  (12777, 17210)              12       1      12  12.000000\n",
       "6814109  (15279, 17210)              12       1      12  12.000000\n",
       "6814111   (4221, 17210)              12       1      12  12.000000\n",
       "6814162   (1071, 17210)              12       1      12  12.000000\n",
       "6814163  (17210, 51489)              12      12       1  12.000000\n",
       "...                 ...             ...     ...     ...        ...\n",
       "2073227  (31897, 46049)              14      96     158   0.145833\n",
       "2073521  (15458, 31897)              14     155      96   0.145833\n",
       "2071791   (5941, 31897)              14     156      96   0.145833\n",
       "2072904  (31897, 58348)              13      96      95   0.136842\n",
       "2072859   (8105, 31897)              13     117      96   0.135417\n",
       "\n",
       "[263730 rows x 5 columns]"
      ]
     },
     "execution_count": 233,
     "metadata": {},
     "output_type": "execute_result"
    }
   ],
   "source": [
    "co_occurences__2_counts.sort_values(by=\"Dice\", ascending=False)"
   ]
  },
  {
   "cell_type": "code",
   "execution_count": 230,
   "id": "d2172fda",
   "metadata": {},
   "outputs": [
    {
     "name": "stderr",
     "output_type": "stream",
     "text": [
      "Exception ignored in: <function tqdm.__del__ at 0x44e216280>\n",
      "Traceback (most recent call last):\n",
      "  File \"/Users/mahdi/mambaforge/lib/python3.9/site-packages/tqdm/std.py\", line 1147, in __del__\n",
      "    self.close()\n",
      "  File \"/Users/mahdi/mambaforge/lib/python3.9/site-packages/tqdm/notebook.py\", line 286, in close\n",
      "    self.disp(bar_style='danger', check_delay=False)\n",
      "AttributeError: 'tqdm_notebook' object has no attribute 'disp'\n"
     ]
    },
    {
     "name": "stdout",
     "output_type": "stream",
     "text": [
      "100\n",
      "200\n",
      "300\n",
      "400\n",
      "500\n",
      "600\n",
      "700\n",
      "800\n",
      "900\n",
      "1000\n",
      "1100\n",
      "1200\n",
      "1300\n",
      "1400\n",
      "1500\n",
      "1600\n",
      "1700\n",
      "1800\n",
      "1900\n",
      "2000\n",
      "2100\n",
      "2200\n",
      "2300\n",
      "2400\n",
      "2500\n",
      "2600\n",
      "2700\n",
      "2800\n",
      "2900\n",
      "3000\n"
     ]
    },
    {
     "ename": "KeyboardInterrupt",
     "evalue": "",
     "output_type": "error",
     "traceback": [
      "\u001b[0;31m---------------------------------------------------------------------------\u001b[0m",
      "\u001b[0;31mKeyboardInterrupt\u001b[0m                         Traceback (most recent call last)",
      "\u001b[0;32m/var/folders/6m/188vj34d6nv8qsnxqt6plydw0000gn/T/ipykernel_32865/3007365627.py\u001b[0m in \u001b[0;36m<module>\u001b[0;34m\u001b[0m\n\u001b[1;32m      3\u001b[0m \u001b[0;32mfor\u001b[0m \u001b[0msubset\u001b[0m \u001b[0;32min\u001b[0m \u001b[0mco_occurences__2_counts\u001b[0m\u001b[0;34m.\u001b[0m\u001b[0mcombination\u001b[0m\u001b[0;34m.\u001b[0m\u001b[0mvalues\u001b[0m\u001b[0;34m:\u001b[0m\u001b[0;34m\u001b[0m\u001b[0;34m\u001b[0m\u001b[0m\n\u001b[1;32m      4\u001b[0m     \u001b[0mi\u001b[0m\u001b[0;34m+=\u001b[0m\u001b[0;36m1\u001b[0m\u001b[0;34m\u001b[0m\u001b[0;34m\u001b[0m\u001b[0m\n\u001b[0;32m----> 5\u001b[0;31m     \u001b[0;32mfor\u001b[0m \u001b[0mfeature_group\u001b[0m \u001b[0;32min\u001b[0m \u001b[0msubsets\u001b[0m\u001b[0;34m.\u001b[0m\u001b[0mfeatures\u001b[0m\u001b[0;34m.\u001b[0m\u001b[0mvalues\u001b[0m\u001b[0;34m:\u001b[0m\u001b[0;34m\u001b[0m\u001b[0;34m\u001b[0m\u001b[0m\n\u001b[0m\u001b[1;32m      6\u001b[0m         \u001b[0;32mif\u001b[0m \u001b[0msubset\u001b[0m\u001b[0;34m[\u001b[0m\u001b[0;36m0\u001b[0m\u001b[0;34m]\u001b[0m  \u001b[0;32min\u001b[0m \u001b[0mfeature_group\u001b[0m \u001b[0;32mand\u001b[0m  \u001b[0msubset\u001b[0m\u001b[0;34m[\u001b[0m\u001b[0;36m1\u001b[0m\u001b[0;34m]\u001b[0m \u001b[0;32min\u001b[0m \u001b[0mfeature_group\u001b[0m\u001b[0;34m:\u001b[0m\u001b[0;34m\u001b[0m\u001b[0;34m\u001b[0m\u001b[0m\n\u001b[1;32m      7\u001b[0m             \u001b[0;32mfor\u001b[0m \u001b[0mfeature\u001b[0m \u001b[0;32min\u001b[0m \u001b[0mfeature_group\u001b[0m\u001b[0;34m:\u001b[0m\u001b[0;34m\u001b[0m\u001b[0;34m\u001b[0m\u001b[0m\n",
      "\u001b[0;31mKeyboardInterrupt\u001b[0m: "
     ]
    }
   ],
   "source": [
    "co_occurences_3 = []\n",
    "\n",
    "i = 0\n",
    "for subset in co_occurences__2_counts.combination.values:\n",
    "    i+=1\n",
    "    for feature_group in subsets.features.values:\n",
    "        if subset[0]  in feature_group and  subset[1] in feature_group:\n",
    "            for feature in feature_group:\n",
    "                if feature not in subset:\n",
    "                    temp_group = sorted(list(subset) + [feature])\n",
    "                    co_occurences_3.append(temp_group)            \n",
    "    if i%100==0:\n",
    "        print(i)"
   ]
  },
  {
   "cell_type": "code",
   "execution_count": null,
   "id": "d8a2c9c7",
   "metadata": {},
   "outputs": [],
   "source": []
  }
 ],
 "metadata": {
  "kernelspec": {
   "display_name": "Python 3 (ipykernel)",
   "language": "python",
   "name": "python3"
  },
  "language_info": {
   "codemirror_mode": {
    "name": "ipython",
    "version": 3
   },
   "file_extension": ".py",
   "mimetype": "text/x-python",
   "name": "python",
   "nbconvert_exporter": "python",
   "pygments_lexer": "ipython3",
   "version": "3.9.7"
  }
 },
 "nbformat": 4,
 "nbformat_minor": 5
}
