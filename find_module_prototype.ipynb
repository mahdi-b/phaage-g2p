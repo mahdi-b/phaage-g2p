{
 "cells": [
  {
   "cell_type": "code",
   "execution_count": 42,
   "id": "00719626",
   "metadata": {},
   "outputs": [],
   "source": [
    "import pandas as pd\n",
    "from collections import Counter\n",
    "from utils import parse_cdhit, replace_val\n",
    "import itertools\n",
    "import numpy as np\n"
   ]
  },
  {
   "cell_type": "code",
   "execution_count": 176,
   "id": "e7c516a8",
   "metadata": {},
   "outputs": [],
   "source": [
    "data = pd.read_table(\"data/ENA_ML_input_ORFs\")\n"
   ]
  },
  {
   "cell_type": "code",
   "execution_count": 177,
   "id": "1f10df5f",
   "metadata": {},
   "outputs": [
    {
     "data": {
      "text/html": [
       "<div>\n",
       "<style scoped>\n",
       "    .dataframe tbody tr th:only-of-type {\n",
       "        vertical-align: middle;\n",
       "    }\n",
       "\n",
       "    .dataframe tbody tr th {\n",
       "        vertical-align: top;\n",
       "    }\n",
       "\n",
       "    .dataframe thead th {\n",
       "        text-align: right;\n",
       "    }\n",
       "</style>\n",
       "<table border=\"1\" class=\"dataframe\">\n",
       "  <thead>\n",
       "    <tr style=\"text-align: right;\">\n",
       "      <th></th>\n",
       "      <th>Feature_id</th>\n",
       "      <th>contig_id</th>\n",
       "      <th>position_start</th>\n",
       "      <th>position_end</th>\n",
       "      <th>ORF_location_on_contig</th>\n",
       "      <th>annotation_val</th>\n",
       "    </tr>\n",
       "  </thead>\n",
       "  <tbody>\n",
       "    <tr>\n",
       "      <th>0</th>\n",
       "      <td>ENA_AY095314_AY095314.2_3724_3921_10</td>\n",
       "      <td>AY095314.2</td>\n",
       "      <td>3724</td>\n",
       "      <td>3921</td>\n",
       "      <td>10</td>\n",
       "      <td>Unknown</td>\n",
       "    </tr>\n",
       "    <tr>\n",
       "      <th>1</th>\n",
       "      <td>ENA_JX889246_JX889246.1_45181_44900_68</td>\n",
       "      <td>JX889246.1</td>\n",
       "      <td>45181</td>\n",
       "      <td>44900</td>\n",
       "      <td>68</td>\n",
       "      <td>Uncharacterized protein</td>\n",
       "    </tr>\n",
       "  </tbody>\n",
       "</table>\n",
       "</div>"
      ],
      "text/plain": [
       "                               Feature_id   contig_id  position_start  \\\n",
       "0    ENA_AY095314_AY095314.2_3724_3921_10  AY095314.2            3724   \n",
       "1  ENA_JX889246_JX889246.1_45181_44900_68  JX889246.1           45181   \n",
       "\n",
       "   position_end  ORF_location_on_contig           annotation_val  \n",
       "0          3921                      10                  Unknown  \n",
       "1         44900                      68  Uncharacterized protein  "
      ]
     },
     "execution_count": 177,
     "metadata": {},
     "output_type": "execute_result"
    }
   ],
   "source": [
    "data.head(2)"
   ]
  },
  {
   "cell_type": "code",
   "execution_count": 178,
   "id": "1e4b669f",
   "metadata": {},
   "outputs": [
    {
     "data": {
      "text/plain": [
       "[('ENA_KP211958_KP211958.1_65082_87137_88', '0'),\n",
       " ('ENA_AY940168_AY940168.2_57144_79082_90', '1')]"
      ]
     },
     "execution_count": 178,
     "metadata": {},
     "output_type": "execute_result"
    }
   ],
   "source": [
    "seq_to_clust = parse_cdhit(\"data/ENA.40.clstr\")\n",
    "\n",
    "# what does it look like\n",
    "list(seq_to_clust.items())[0:2]"
   ]
  },
  {
   "cell_type": "code",
   "execution_count": 179,
   "id": "6da7a1dc",
   "metadata": {},
   "outputs": [
    {
     "data": {
      "text/html": [
       "<div>\n",
       "<style scoped>\n",
       "    .dataframe tbody tr th:only-of-type {\n",
       "        vertical-align: middle;\n",
       "    }\n",
       "\n",
       "    .dataframe tbody tr th {\n",
       "        vertical-align: top;\n",
       "    }\n",
       "\n",
       "    .dataframe thead th {\n",
       "        text-align: right;\n",
       "    }\n",
       "</style>\n",
       "<table border=\"1\" class=\"dataframe\">\n",
       "  <thead>\n",
       "    <tr style=\"text-align: right;\">\n",
       "      <th></th>\n",
       "      <th>Feature_id</th>\n",
       "      <th>contig_id</th>\n",
       "      <th>position_start</th>\n",
       "      <th>position_end</th>\n",
       "      <th>ORF_location_on_contig</th>\n",
       "      <th>annotation_val</th>\n",
       "      <th>feature_number</th>\n",
       "    </tr>\n",
       "  </thead>\n",
       "  <tbody>\n",
       "    <tr>\n",
       "      <th>0</th>\n",
       "      <td>ENA_AY095314_AY095314.2_3724_3921_10</td>\n",
       "      <td>AY095314.2</td>\n",
       "      <td>3724</td>\n",
       "      <td>3921</td>\n",
       "      <td>10</td>\n",
       "      <td>Unknown</td>\n",
       "      <td>57065</td>\n",
       "    </tr>\n",
       "    <tr>\n",
       "      <th>1</th>\n",
       "      <td>ENA_JX889246_JX889246.1_45181_44900_68</td>\n",
       "      <td>JX889246.1</td>\n",
       "      <td>45181</td>\n",
       "      <td>44900</td>\n",
       "      <td>68</td>\n",
       "      <td>Uncharacterized protein</td>\n",
       "      <td>43194</td>\n",
       "    </tr>\n",
       "  </tbody>\n",
       "</table>\n",
       "</div>"
      ],
      "text/plain": [
       "                               Feature_id   contig_id  position_start  \\\n",
       "0    ENA_AY095314_AY095314.2_3724_3921_10  AY095314.2            3724   \n",
       "1  ENA_JX889246_JX889246.1_45181_44900_68  JX889246.1           45181   \n",
       "\n",
       "   position_end  ORF_location_on_contig           annotation_val  \\\n",
       "0          3921                      10                  Unknown   \n",
       "1         44900                      68  Uncharacterized protein   \n",
       "\n",
       "   feature_number  \n",
       "0           57065  \n",
       "1           43194  "
      ]
     },
     "execution_count": 179,
     "metadata": {},
     "output_type": "execute_result"
    }
   ],
   "source": [
    "## Add a column to show the cluster to which each feature_id belongs\n",
    "data[\"feature_number\"] = replace_val(data.Feature_id, seq_to_clust)\n",
    "data.feature_number = data.feature_number.astype(int)\n",
    "data.head(2)\n",
    "\n"
   ]
  },
  {
   "cell_type": "code",
   "execution_count": 180,
   "id": "73741b92",
   "metadata": {},
   "outputs": [
    {
     "data": {
      "text/html": [
       "<div>\n",
       "<style scoped>\n",
       "    .dataframe tbody tr th:only-of-type {\n",
       "        vertical-align: middle;\n",
       "    }\n",
       "\n",
       "    .dataframe tbody tr th {\n",
       "        vertical-align: top;\n",
       "    }\n",
       "\n",
       "    .dataframe thead th {\n",
       "        text-align: right;\n",
       "    }\n",
       "</style>\n",
       "<table border=\"1\" class=\"dataframe\">\n",
       "  <thead>\n",
       "    <tr style=\"text-align: right;\">\n",
       "      <th></th>\n",
       "      <th>Feature_id</th>\n",
       "      <th>contig_id</th>\n",
       "      <th>position_start</th>\n",
       "      <th>position_end</th>\n",
       "      <th>ORF_location_on_contig</th>\n",
       "      <th>annotation_val</th>\n",
       "      <th>feature_number</th>\n",
       "      <th>contig_number</th>\n",
       "    </tr>\n",
       "  </thead>\n",
       "  <tbody>\n",
       "    <tr>\n",
       "      <th>0</th>\n",
       "      <td>ENA_AY095314_AY095314.2_3724_3921_10</td>\n",
       "      <td>AY095314.2</td>\n",
       "      <td>3724</td>\n",
       "      <td>3921</td>\n",
       "      <td>10</td>\n",
       "      <td>Unknown</td>\n",
       "      <td>57065</td>\n",
       "      <td>237296</td>\n",
       "    </tr>\n",
       "    <tr>\n",
       "      <th>1</th>\n",
       "      <td>ENA_JX889246_JX889246.1_45181_44900_68</td>\n",
       "      <td>JX889246.1</td>\n",
       "      <td>45181</td>\n",
       "      <td>44900</td>\n",
       "      <td>68</td>\n",
       "      <td>Uncharacterized protein</td>\n",
       "      <td>43194</td>\n",
       "      <td>234989</td>\n",
       "    </tr>\n",
       "  </tbody>\n",
       "</table>\n",
       "</div>"
      ],
      "text/plain": [
       "                               Feature_id   contig_id  position_start  \\\n",
       "0    ENA_AY095314_AY095314.2_3724_3921_10  AY095314.2            3724   \n",
       "1  ENA_JX889246_JX889246.1_45181_44900_68  JX889246.1           45181   \n",
       "\n",
       "   position_end  ORF_location_on_contig           annotation_val  \\\n",
       "0          3921                      10                  Unknown   \n",
       "1         44900                      68  Uncharacterized protein   \n",
       "\n",
       "   feature_number  contig_number  \n",
       "0           57065         237296  \n",
       "1           43194         234989  "
      ]
     },
     "execution_count": 180,
     "metadata": {},
     "output_type": "execute_result"
    }
   ],
   "source": [
    "# Add a contig sequential number in addition to contig id.\n",
    "contig_id_to_int = {y:x for x,y in enumerate(data.contig_id.tolist())}\n",
    "#### data.replace({'contig_id': contig_id_to_int})\n",
    "data[\"contig_number\"] = replace_val(data.contig_id, contig_id_to_int)\n",
    "data.head(2)"
   ]
  },
  {
   "cell_type": "markdown",
   "id": "a286c3b6",
   "metadata": {},
   "source": [
    "* Generate a table with all the feature per contig\n"
   ]
  },
  {
   "cell_type": "code",
   "execution_count": 34,
   "id": "b6f4865d",
   "metadata": {},
   "outputs": [
    {
     "data": {
      "text/html": [
       "<div>\n",
       "<style scoped>\n",
       "    .dataframe tbody tr th:only-of-type {\n",
       "        vertical-align: middle;\n",
       "    }\n",
       "\n",
       "    .dataframe tbody tr th {\n",
       "        vertical-align: top;\n",
       "    }\n",
       "\n",
       "    .dataframe thead th {\n",
       "        text-align: right;\n",
       "    }\n",
       "</style>\n",
       "<table border=\"1\" class=\"dataframe\">\n",
       "  <thead>\n",
       "    <tr style=\"text-align: right;\">\n",
       "      <th></th>\n",
       "      <th>contig_id</th>\n",
       "      <th>features</th>\n",
       "    </tr>\n",
       "  </thead>\n",
       "  <tbody>\n",
       "    <tr>\n",
       "      <th>0</th>\n",
       "      <td>82638</td>\n",
       "      <td>[3929, 6051, 21058, 8867, 57763, 25595]</td>\n",
       "    </tr>\n",
       "    <tr>\n",
       "      <th>1</th>\n",
       "      <td>106079</td>\n",
       "      <td>[18722, 6292, 30149, 3490]</td>\n",
       "    </tr>\n",
       "  </tbody>\n",
       "</table>\n",
       "</div>"
      ],
      "text/plain": [
       "   contig_id                                 features\n",
       "0      82638  [3929, 6051, 21058, 8867, 57763, 25595]\n",
       "1     106079               [18722, 6292, 30149, 3490]"
      ]
     },
     "execution_count": 34,
     "metadata": {},
     "output_type": "execute_result"
    }
   ],
   "source": [
    "temp = data.groupby(\"contig_number\").apply(lambda x: x[\"feature_number\"].values)\n",
    "subsets = pd.DataFrame({\"contig_id\": temp.index, \"features\": temp.values})\n",
    "subsets.head(2)"
   ]
  },
  {
   "cell_type": "markdown",
   "id": "cc9ee470",
   "metadata": {},
   "source": [
    "* coun the occurrences of each feature in all the contigs. \n",
    "  * Needed to compute the probability of a pair"
   ]
  },
  {
   "cell_type": "code",
   "execution_count": 66,
   "id": "3a8491d9",
   "metadata": {},
   "outputs": [
    {
     "data": {
      "text/html": [
       "<div>\n",
       "<style scoped>\n",
       "    .dataframe tbody tr th:only-of-type {\n",
       "        vertical-align: middle;\n",
       "    }\n",
       "\n",
       "    .dataframe tbody tr th {\n",
       "        vertical-align: top;\n",
       "    }\n",
       "\n",
       "    .dataframe thead th {\n",
       "        text-align: right;\n",
       "    }\n",
       "</style>\n",
       "<table border=\"1\" class=\"dataframe\">\n",
       "  <thead>\n",
       "    <tr style=\"text-align: right;\">\n",
       "      <th></th>\n",
       "      <th>nb_occurrences</th>\n",
       "    </tr>\n",
       "    <tr>\n",
       "      <th>feature</th>\n",
       "      <th></th>\n",
       "    </tr>\n",
       "  </thead>\n",
       "  <tbody>\n",
       "    <tr>\n",
       "      <th>3929</th>\n",
       "      <td>135</td>\n",
       "    </tr>\n",
       "    <tr>\n",
       "      <th>6051</th>\n",
       "      <td>134</td>\n",
       "    </tr>\n",
       "    <tr>\n",
       "      <th>21058</th>\n",
       "      <td>122</td>\n",
       "    </tr>\n",
       "    <tr>\n",
       "      <th>8867</th>\n",
       "      <td>135</td>\n",
       "    </tr>\n",
       "    <tr>\n",
       "      <th>57763</th>\n",
       "      <td>25</td>\n",
       "    </tr>\n",
       "    <tr>\n",
       "      <th>...</th>\n",
       "      <td>...</td>\n",
       "    </tr>\n",
       "    <tr>\n",
       "      <th>54550</th>\n",
       "      <td>1</td>\n",
       "    </tr>\n",
       "    <tr>\n",
       "      <th>43098</th>\n",
       "      <td>1</td>\n",
       "    </tr>\n",
       "    <tr>\n",
       "      <th>57365</th>\n",
       "      <td>1</td>\n",
       "    </tr>\n",
       "    <tr>\n",
       "      <th>11839</th>\n",
       "      <td>1</td>\n",
       "    </tr>\n",
       "    <tr>\n",
       "      <th>15426</th>\n",
       "      <td>1</td>\n",
       "    </tr>\n",
       "  </tbody>\n",
       "</table>\n",
       "<p>65336 rows × 1 columns</p>\n",
       "</div>"
      ],
      "text/plain": [
       "         nb_occurrences\n",
       "feature                \n",
       "3929                135\n",
       "6051                134\n",
       "21058               122\n",
       "8867                135\n",
       "57763                25\n",
       "...                 ...\n",
       "54550                 1\n",
       "43098                 1\n",
       "57365                 1\n",
       "11839                 1\n",
       "15426                 1\n",
       "\n",
       "[65336 rows x 1 columns]"
      ]
     },
     "execution_count": 66,
     "metadata": {},
     "output_type": "execute_result"
    }
   ],
   "source": [
    "feature_counts = pd.DataFrame(Counter(itertools.chain(*subsets.features.values)).items())\n",
    "feature_counts.columns = [\"feature\", \"nb_occurrences\"]\n",
    "feature_counts = feature_counts.set_index(\"feature\")\n",
    "feature_counts"
   ]
  },
  {
   "cell_type": "markdown",
   "id": "f164578c",
   "metadata": {},
   "source": [
    "* Count the occurrences of each pair of features that occur on at least 1 contig\n",
    "* We generate generate all the possible pairs (tuples) of features \n"
   ]
  },
  {
   "cell_type": "code",
   "execution_count": 54,
   "id": "d0095e84",
   "metadata": {},
   "outputs": [
    {
     "data": {
      "text/plain": [
       "contig_number\n",
       "82638     [(3929, 6051), (3929, 21058), (3929, 8867), (3...\n",
       "106079    [(18722, 6292), (18722, 30149), (18722, 3490),...\n",
       "dtype: object"
      ]
     },
     "execution_count": 54,
     "metadata": {},
     "output_type": "execute_result"
    }
   ],
   "source": [
    "# Generate all the subset of size 2 for each contig\n",
    "subsets_size_2 = data.groupby(\"contig_number\").apply(lambda x: list(itertools.combinations(x[\"feature_number\"].values, 2)))\n",
    "subsets_size_2.head(2)\n"
   ]
  },
  {
   "cell_type": "code",
   "execution_count": 56,
   "id": "bfff53ce",
   "metadata": {},
   "outputs": [
    {
     "data": {
      "text/plain": [
       "[(18722, 6292),\n",
       " (18722, 30149),\n",
       " (18722, 3490),\n",
       " (6292, 30149),\n",
       " (6292, 3490),\n",
       " (30149, 3490)]"
      ]
     },
     "execution_count": 56,
     "metadata": {},
     "output_type": "execute_result"
    }
   ],
   "source": [
    "subsets_size_2.iloc[1]"
   ]
  },
  {
   "cell_type": "markdown",
   "id": "6eb9822d",
   "metadata": {},
   "source": [
    "* We make sure the tuple is sorted so it's easy to compute frequencies"
   ]
  },
  {
   "cell_type": "code",
   "execution_count": 59,
   "id": "1ce04368",
   "metadata": {},
   "outputs": [
    {
     "data": {
      "text/plain": [
       "[(3929, 6051),\n",
       " (3929, 21058),\n",
       " (3929, 8867),\n",
       " (3929, 57763),\n",
       " (3929, 25595),\n",
       " (6051, 21058),\n",
       " (6051, 8867),\n",
       " (6051, 57763),\n",
       " (6051, 25595),\n",
       " (8867, 21058)]"
      ]
     },
     "execution_count": 59,
     "metadata": {},
     "output_type": "execute_result"
    }
   ],
   "source": [
    "co_occurences_2 = []\n",
    "for item in list(itertools.chain(*subsets_size_2.values)):\n",
    "    if item[0] > item[1]:\n",
    "        co_occurences_2.append((item[1], item[0]))\n",
    "    else:\n",
    "        co_occurences_2.append((item[0], item[1]))  \n",
    "co_occurences_2[:10]    "
   ]
  },
  {
   "cell_type": "markdown",
   "id": "3e66df78",
   "metadata": {},
   "source": [
    "* Count the number of occurrences of each pair of features"
   ]
  },
  {
   "cell_type": "code",
   "execution_count": 64,
   "id": "e2c87b55",
   "metadata": {},
   "outputs": [
    {
     "data": {
      "text/html": [
       "<div>\n",
       "<style scoped>\n",
       "    .dataframe tbody tr th:only-of-type {\n",
       "        vertical-align: middle;\n",
       "    }\n",
       "\n",
       "    .dataframe tbody tr th {\n",
       "        vertical-align: top;\n",
       "    }\n",
       "\n",
       "    .dataframe thead th {\n",
       "        text-align: right;\n",
       "    }\n",
       "</style>\n",
       "<table border=\"1\" class=\"dataframe\">\n",
       "  <thead>\n",
       "    <tr style=\"text-align: right;\">\n",
       "      <th></th>\n",
       "      <th>combination</th>\n",
       "      <th>nb_occurrences</th>\n",
       "    </tr>\n",
       "  </thead>\n",
       "  <tbody>\n",
       "    <tr>\n",
       "      <th>524534</th>\n",
       "      <td>(1937, 6879)</td>\n",
       "      <td>178</td>\n",
       "    </tr>\n",
       "    <tr>\n",
       "      <th>523141</th>\n",
       "      <td>(5188, 9330)</td>\n",
       "      <td>175</td>\n",
       "    </tr>\n",
       "  </tbody>\n",
       "</table>\n",
       "</div>"
      ],
      "text/plain": [
       "         combination  nb_occurrences\n",
       "524534  (1937, 6879)             178\n",
       "523141  (5188, 9330)             175"
      ]
     },
     "execution_count": 64,
     "metadata": {},
     "output_type": "execute_result"
    }
   ],
   "source": [
    "co_occurences__2_counts = pd.DataFrame(Counter(co_occurences_2).items())\n",
    "co_occurences__2_counts.columns = [\"combination\", \"nb_occurrences\"]\n",
    "co_occurences__2_counts = co_occurences__2_counts.sort_values(by=\"nb_occurrences\", ascending=False)\n",
    "co_occurences__2_counts.head(2)"
   ]
  },
  {
   "cell_type": "code",
   "execution_count": 88,
   "id": "80a4f326",
   "metadata": {},
   "outputs": [
    {
     "data": {
      "text/plain": [
       "(6988165, 2)"
      ]
     },
     "execution_count": 88,
     "metadata": {},
     "output_type": "execute_result"
    }
   ],
   "source": [
    "co_occurences__2_counts.shape"
   ]
  },
  {
   "cell_type": "markdown",
   "id": "e589a4dd",
   "metadata": {},
   "source": [
    "* Only keep those that occur frequently\n",
    "```python\n",
    ">>> sum(co_occurences__2_counts.nb_occurrences > 10)\n",
    "263730\n",
    "```\n"
   ]
  },
  {
   "cell_type": "code",
   "execution_count": 155,
   "id": "c3092f33",
   "metadata": {},
   "outputs": [
    {
     "data": {
      "text/plain": [
       "(263730, 4)"
      ]
     },
     "execution_count": 155,
     "metadata": {},
     "output_type": "execute_result"
    }
   ],
   "source": [
    "co_occurences__2_counts = co_occurences__2_counts[co_occurences__2_counts.nb_occurrences > 10]\n",
    "co_occurences__2_counts.shape"
   ]
  },
  {
   "cell_type": "code",
   "execution_count": 156,
   "id": "53aea3b7",
   "metadata": {},
   "outputs": [
    {
     "data": {
      "text/html": [
       "<div>\n",
       "<style scoped>\n",
       "    .dataframe tbody tr th:only-of-type {\n",
       "        vertical-align: middle;\n",
       "    }\n",
       "\n",
       "    .dataframe tbody tr th {\n",
       "        vertical-align: top;\n",
       "    }\n",
       "\n",
       "    .dataframe thead th {\n",
       "        text-align: right;\n",
       "    }\n",
       "</style>\n",
       "<table border=\"1\" class=\"dataframe\">\n",
       "  <thead>\n",
       "    <tr style=\"text-align: right;\">\n",
       "      <th></th>\n",
       "      <th>combination</th>\n",
       "      <th>nb_occurrences</th>\n",
       "      <th>item_0</th>\n",
       "      <th>item_1</th>\n",
       "    </tr>\n",
       "  </thead>\n",
       "  <tbody>\n",
       "    <tr>\n",
       "      <th>524534</th>\n",
       "      <td>(1937, 6879)</td>\n",
       "      <td>178</td>\n",
       "      <td>264</td>\n",
       "      <td>183</td>\n",
       "    </tr>\n",
       "    <tr>\n",
       "      <th>523141</th>\n",
       "      <td>(5188, 9330)</td>\n",
       "      <td>175</td>\n",
       "      <td>175</td>\n",
       "      <td>175</td>\n",
       "    </tr>\n",
       "    <tr>\n",
       "      <th>523140</th>\n",
       "      <td>(5188, 5262)</td>\n",
       "      <td>175</td>\n",
       "      <td>175</td>\n",
       "      <td>175</td>\n",
       "    </tr>\n",
       "    <tr>\n",
       "      <th>528811</th>\n",
       "      <td>(5262, 9330)</td>\n",
       "      <td>175</td>\n",
       "      <td>175</td>\n",
       "      <td>175</td>\n",
       "    </tr>\n",
       "    <tr>\n",
       "      <th>511640</th>\n",
       "      <td>(3671, 5262)</td>\n",
       "      <td>174</td>\n",
       "      <td>174</td>\n",
       "      <td>175</td>\n",
       "    </tr>\n",
       "    <tr>\n",
       "      <th>522610</th>\n",
       "      <td>(3797, 5188)</td>\n",
       "      <td>174</td>\n",
       "      <td>174</td>\n",
       "      <td>175</td>\n",
       "    </tr>\n",
       "    <tr>\n",
       "      <th>528721</th>\n",
       "      <td>(9330, 14120)</td>\n",
       "      <td>174</td>\n",
       "      <td>175</td>\n",
       "      <td>174</td>\n",
       "    </tr>\n",
       "    <tr>\n",
       "      <th>528720</th>\n",
       "      <td>(5262, 14120)</td>\n",
       "      <td>174</td>\n",
       "      <td>175</td>\n",
       "      <td>174</td>\n",
       "    </tr>\n",
       "    <tr>\n",
       "      <th>523136</th>\n",
       "      <td>(5188, 14120)</td>\n",
       "      <td>174</td>\n",
       "      <td>175</td>\n",
       "      <td>174</td>\n",
       "    </tr>\n",
       "    <tr>\n",
       "      <th>511641</th>\n",
       "      <td>(3671, 9330)</td>\n",
       "      <td>174</td>\n",
       "      <td>174</td>\n",
       "      <td>175</td>\n",
       "    </tr>\n",
       "  </tbody>\n",
       "</table>\n",
       "</div>"
      ],
      "text/plain": [
       "          combination  nb_occurrences  item_0  item_1\n",
       "524534   (1937, 6879)             178     264     183\n",
       "523141   (5188, 9330)             175     175     175\n",
       "523140   (5188, 5262)             175     175     175\n",
       "528811   (5262, 9330)             175     175     175\n",
       "511640   (3671, 5262)             174     174     175\n",
       "522610   (3797, 5188)             174     174     175\n",
       "528721  (9330, 14120)             174     175     174\n",
       "528720  (5262, 14120)             174     175     174\n",
       "523136  (5188, 14120)             174     175     174\n",
       "511641   (3671, 9330)             174     174     175"
      ]
     },
     "execution_count": 156,
     "metadata": {},
     "output_type": "execute_result"
    }
   ],
   "source": [
    "subset_size = len(co_occurences__2_counts.iloc[0].combination)\n",
    "for i in range(subset_size):\n",
    "    a = co_occurences__2_counts.combination.apply(lambda x: x[i])\n",
    "    co_occurences__2_counts.loc[:, f\"item_{i}\"] = feature_counts.loc[a].nb_occurrences.values\n",
    "\n",
    "co_occurences__2_counts.head(10)"
   ]
  },
  {
   "cell_type": "code",
   "execution_count": 112,
   "id": "7a536ca5",
   "metadata": {},
   "outputs": [
    {
     "data": {
      "text/html": [
       "<div>\n",
       "<style scoped>\n",
       "    .dataframe tbody tr th:only-of-type {\n",
       "        vertical-align: middle;\n",
       "    }\n",
       "\n",
       "    .dataframe tbody tr th {\n",
       "        vertical-align: top;\n",
       "    }\n",
       "\n",
       "    .dataframe thead th {\n",
       "        text-align: right;\n",
       "    }\n",
       "</style>\n",
       "<table border=\"1\" class=\"dataframe\">\n",
       "  <thead>\n",
       "    <tr style=\"text-align: right;\">\n",
       "      <th></th>\n",
       "      <th>combination</th>\n",
       "      <th>nb_occurrences</th>\n",
       "      <th>item_0</th>\n",
       "      <th>item_1</th>\n",
       "    </tr>\n",
       "  </thead>\n",
       "  <tbody>\n",
       "    <tr>\n",
       "      <th>3564221</th>\n",
       "      <td>(47994, 58305)</td>\n",
       "      <td>11</td>\n",
       "      <td>6</td>\n",
       "      <td>11</td>\n",
       "    </tr>\n",
       "    <tr>\n",
       "      <th>1127922</th>\n",
       "      <td>(17842, 38805)</td>\n",
       "      <td>11</td>\n",
       "      <td>17</td>\n",
       "      <td>11</td>\n",
       "    </tr>\n",
       "    <tr>\n",
       "      <th>3564301</th>\n",
       "      <td>(30626, 58305)</td>\n",
       "      <td>11</td>\n",
       "      <td>6</td>\n",
       "      <td>11</td>\n",
       "    </tr>\n",
       "    <tr>\n",
       "      <th>3564218</th>\n",
       "      <td>(24404, 58305)</td>\n",
       "      <td>11</td>\n",
       "      <td>6</td>\n",
       "      <td>11</td>\n",
       "    </tr>\n",
       "    <tr>\n",
       "      <th>1146342</th>\n",
       "      <td>(15225, 43863)</td>\n",
       "      <td>11</td>\n",
       "      <td>12</td>\n",
       "      <td>11</td>\n",
       "    </tr>\n",
       "    <tr>\n",
       "      <th>1127923</th>\n",
       "      <td>(35515, 38805)</td>\n",
       "      <td>11</td>\n",
       "      <td>13</td>\n",
       "      <td>11</td>\n",
       "    </tr>\n",
       "    <tr>\n",
       "      <th>3564305</th>\n",
       "      <td>(46694, 58305)</td>\n",
       "      <td>11</td>\n",
       "      <td>6</td>\n",
       "      <td>11</td>\n",
       "    </tr>\n",
       "    <tr>\n",
       "      <th>1145396</th>\n",
       "      <td>(49606, 58207)</td>\n",
       "      <td>11</td>\n",
       "      <td>66</td>\n",
       "      <td>14</td>\n",
       "    </tr>\n",
       "    <tr>\n",
       "      <th>1127926</th>\n",
       "      <td>(21292, 38805)</td>\n",
       "      <td>11</td>\n",
       "      <td>20</td>\n",
       "      <td>11</td>\n",
       "    </tr>\n",
       "    <tr>\n",
       "      <th>3564294</th>\n",
       "      <td>(47092, 58305)</td>\n",
       "      <td>11</td>\n",
       "      <td>6</td>\n",
       "      <td>11</td>\n",
       "    </tr>\n",
       "  </tbody>\n",
       "</table>\n",
       "</div>"
      ],
      "text/plain": [
       "            combination  nb_occurrences  item_0  item_1\n",
       "3564221  (47994, 58305)              11       6      11\n",
       "1127922  (17842, 38805)              11      17      11\n",
       "3564301  (30626, 58305)              11       6      11\n",
       "3564218  (24404, 58305)              11       6      11\n",
       "1146342  (15225, 43863)              11      12      11\n",
       "1127923  (35515, 38805)              11      13      11\n",
       "3564305  (46694, 58305)              11       6      11\n",
       "1145396  (49606, 58207)              11      66      14\n",
       "1127926  (21292, 38805)              11      20      11\n",
       "3564294  (47092, 58305)              11       6      11"
      ]
     },
     "execution_count": 112,
     "metadata": {},
     "output_type": "execute_result"
    }
   ],
   "source": [
    "co_occurences__2_counts.tail(10)"
   ]
  },
  {
   "cell_type": "markdown",
   "id": "1d24907b",
   "metadata": {},
   "source": [
    "* compute the Dice Coefficient"
   ]
  },
  {
   "cell_type": "code",
   "execution_count": 170,
   "id": "054bca9a",
   "metadata": {},
   "outputs": [
    {
     "data": {
      "text/plain": [
       "524534     183\n",
       "523141     175\n",
       "523140     175\n",
       "528811     175\n",
       "511640     174\n",
       "          ... \n",
       "1127923     11\n",
       "3564305      6\n",
       "1145396     14\n",
       "1127926     11\n",
       "3564294      6\n",
       "Length: 263730, dtype: int64"
      ]
     },
     "execution_count": 170,
     "metadata": {},
     "output_type": "execute_result"
    }
   ],
   "source": [
    "co_occurences__2_counts.iloc[:,[2,3]].min(axis=1)"
   ]
  },
  {
   "cell_type": "code",
   "execution_count": 174,
   "id": "003a0c26",
   "metadata": {},
   "outputs": [
    {
     "data": {
      "text/html": [
       "<div>\n",
       "<style scoped>\n",
       "    .dataframe tbody tr th:only-of-type {\n",
       "        vertical-align: middle;\n",
       "    }\n",
       "\n",
       "    .dataframe tbody tr th {\n",
       "        vertical-align: top;\n",
       "    }\n",
       "\n",
       "    .dataframe thead th {\n",
       "        text-align: right;\n",
       "    }\n",
       "</style>\n",
       "<table border=\"1\" class=\"dataframe\">\n",
       "  <thead>\n",
       "    <tr style=\"text-align: right;\">\n",
       "      <th></th>\n",
       "      <th>combination</th>\n",
       "      <th>nb_occurrences</th>\n",
       "      <th>item_0</th>\n",
       "      <th>item_1</th>\n",
       "      <th>Dice</th>\n",
       "    </tr>\n",
       "  </thead>\n",
       "  <tbody>\n",
       "    <tr>\n",
       "      <th>524534</th>\n",
       "      <td>(1937, 6879)</td>\n",
       "      <td>178</td>\n",
       "      <td>264</td>\n",
       "      <td>183</td>\n",
       "      <td>0.972678</td>\n",
       "    </tr>\n",
       "    <tr>\n",
       "      <th>523141</th>\n",
       "      <td>(5188, 9330)</td>\n",
       "      <td>175</td>\n",
       "      <td>175</td>\n",
       "      <td>175</td>\n",
       "      <td>1.000000</td>\n",
       "    </tr>\n",
       "    <tr>\n",
       "      <th>523140</th>\n",
       "      <td>(5188, 5262)</td>\n",
       "      <td>175</td>\n",
       "      <td>175</td>\n",
       "      <td>175</td>\n",
       "      <td>1.000000</td>\n",
       "    </tr>\n",
       "    <tr>\n",
       "      <th>528811</th>\n",
       "      <td>(5262, 9330)</td>\n",
       "      <td>175</td>\n",
       "      <td>175</td>\n",
       "      <td>175</td>\n",
       "      <td>1.000000</td>\n",
       "    </tr>\n",
       "    <tr>\n",
       "      <th>511640</th>\n",
       "      <td>(3671, 5262)</td>\n",
       "      <td>174</td>\n",
       "      <td>174</td>\n",
       "      <td>175</td>\n",
       "      <td>1.000000</td>\n",
       "    </tr>\n",
       "    <tr>\n",
       "      <th>522610</th>\n",
       "      <td>(3797, 5188)</td>\n",
       "      <td>174</td>\n",
       "      <td>174</td>\n",
       "      <td>175</td>\n",
       "      <td>1.000000</td>\n",
       "    </tr>\n",
       "    <tr>\n",
       "      <th>528721</th>\n",
       "      <td>(9330, 14120)</td>\n",
       "      <td>174</td>\n",
       "      <td>175</td>\n",
       "      <td>174</td>\n",
       "      <td>1.000000</td>\n",
       "    </tr>\n",
       "    <tr>\n",
       "      <th>528720</th>\n",
       "      <td>(5262, 14120)</td>\n",
       "      <td>174</td>\n",
       "      <td>175</td>\n",
       "      <td>174</td>\n",
       "      <td>1.000000</td>\n",
       "    </tr>\n",
       "    <tr>\n",
       "      <th>523136</th>\n",
       "      <td>(5188, 14120)</td>\n",
       "      <td>174</td>\n",
       "      <td>175</td>\n",
       "      <td>174</td>\n",
       "      <td>1.000000</td>\n",
       "    </tr>\n",
       "    <tr>\n",
       "      <th>511641</th>\n",
       "      <td>(3671, 9330)</td>\n",
       "      <td>174</td>\n",
       "      <td>174</td>\n",
       "      <td>175</td>\n",
       "      <td>1.000000</td>\n",
       "    </tr>\n",
       "  </tbody>\n",
       "</table>\n",
       "</div>"
      ],
      "text/plain": [
       "          combination  nb_occurrences  item_0  item_1      Dice\n",
       "524534   (1937, 6879)             178     264     183  0.972678\n",
       "523141   (5188, 9330)             175     175     175  1.000000\n",
       "523140   (5188, 5262)             175     175     175  1.000000\n",
       "528811   (5262, 9330)             175     175     175  1.000000\n",
       "511640   (3671, 5262)             174     174     175  1.000000\n",
       "522610   (3797, 5188)             174     174     175  1.000000\n",
       "528721  (9330, 14120)             174     175     174  1.000000\n",
       "528720  (5262, 14120)             174     175     174  1.000000\n",
       "523136  (5188, 14120)             174     175     174  1.000000\n",
       "511641   (3671, 9330)             174     174     175  1.000000"
      ]
     },
     "execution_count": 174,
     "metadata": {},
     "output_type": "execute_result"
    }
   ],
   "source": [
    "co_occurences__2_counts[\"Dice\"] = co_occurences__2_counts[\"nb_occurrences\"] / co_occurences__2_counts.iloc[:,[2,3]].min(axis=1)\n",
    "co_occurences__2_counts.head(10)"
   ]
  },
  {
   "cell_type": "markdown",
   "id": "f1829e87",
   "metadata": {},
   "source": [
    "* What is the top hit?\n",
    "  (1937, 6879) has  an occurrence rate of 0.9726"
   ]
  },
  {
   "cell_type": "code",
   "execution_count": 183,
   "id": "2d7ca6a8",
   "metadata": {},
   "outputs": [
    {
     "data": {
      "text/plain": [
       "662     Ribonucleoside_diphosphate reductase\n",
       "1063    Ribonucleoside_diphosphate reductase\n",
       "1069    Ribonucleoside_diphosphate reductase\n",
       "1335    Ribonucleoside_diphosphate reductase\n",
       "1912    Ribonucleoside_diphosphate reductase\n",
       "Name: annotation_val, dtype: object"
      ]
     },
     "execution_count": 183,
     "metadata": {},
     "output_type": "execute_result"
    }
   ],
   "source": [
    "data[data.feature_number == 1937]['annotation_val'].head(5)"
   ]
  },
  {
   "cell_type": "code",
   "execution_count": 185,
   "id": "5b7d06a2",
   "metadata": {},
   "outputs": [
    {
     "data": {
      "text/plain": [
       "170       Unknown\n",
       "755       Unknown\n",
       "2764      Unknown\n",
       "5850      Unknown\n",
       "7642      Unknown\n",
       "           ...   \n",
       "228043    Unknown\n",
       "233414    Unknown\n",
       "233774    Unknown\n",
       "233929    Unknown\n",
       "234767    Unknown\n",
       "Name: annotation_val, Length: 183, dtype: object"
      ]
     },
     "execution_count": 185,
     "metadata": {},
     "output_type": "execute_result"
    }
   ],
   "source": [
    "data[data.feature_number == 6879]['annotation_val']"
   ]
  },
  {
   "cell_type": "markdown",
   "id": "333a8aca",
   "metadata": {},
   "source": [
    "* If 6879 is unknown, are any of the other features associated with 1937 konw"
   ]
  },
  {
   "cell_type": "code",
   "execution_count": 195,
   "id": "bbb5cbef",
   "metadata": {},
   "outputs": [
    {
     "data": {
      "text/html": [
       "<div>\n",
       "<style scoped>\n",
       "    .dataframe tbody tr th:only-of-type {\n",
       "        vertical-align: middle;\n",
       "    }\n",
       "\n",
       "    .dataframe tbody tr th {\n",
       "        vertical-align: top;\n",
       "    }\n",
       "\n",
       "    .dataframe thead th {\n",
       "        text-align: right;\n",
       "    }\n",
       "</style>\n",
       "<table border=\"1\" class=\"dataframe\">\n",
       "  <thead>\n",
       "    <tr style=\"text-align: right;\">\n",
       "      <th></th>\n",
       "      <th>combination</th>\n",
       "      <th>nb_occurrences</th>\n",
       "      <th>item_0</th>\n",
       "      <th>item_1</th>\n",
       "      <th>Dice</th>\n",
       "    </tr>\n",
       "  </thead>\n",
       "  <tbody>\n",
       "    <tr>\n",
       "      <th>524534</th>\n",
       "      <td>(1937, 6879)</td>\n",
       "      <td>178</td>\n",
       "      <td>264</td>\n",
       "      <td>183</td>\n",
       "      <td>0.972678</td>\n",
       "    </tr>\n",
       "    <tr>\n",
       "      <th>527895</th>\n",
       "      <td>(1937, 5262)</td>\n",
       "      <td>172</td>\n",
       "      <td>264</td>\n",
       "      <td>175</td>\n",
       "      <td>0.982857</td>\n",
       "    </tr>\n",
       "    <tr>\n",
       "      <th>523113</th>\n",
       "      <td>(1937, 5188)</td>\n",
       "      <td>172</td>\n",
       "      <td>264</td>\n",
       "      <td>175</td>\n",
       "      <td>0.982857</td>\n",
       "    </tr>\n",
       "    <tr>\n",
       "      <th>527896</th>\n",
       "      <td>(1937, 9330)</td>\n",
       "      <td>172</td>\n",
       "      <td>264</td>\n",
       "      <td>175</td>\n",
       "      <td>0.982857</td>\n",
       "    </tr>\n",
       "    <tr>\n",
       "      <th>515638</th>\n",
       "      <td>(1937, 8643)</td>\n",
       "      <td>171</td>\n",
       "      <td>264</td>\n",
       "      <td>172</td>\n",
       "      <td>0.994186</td>\n",
       "    </tr>\n",
       "    <tr>\n",
       "      <th>522671</th>\n",
       "      <td>(1937, 3797)</td>\n",
       "      <td>171</td>\n",
       "      <td>264</td>\n",
       "      <td>174</td>\n",
       "      <td>0.982759</td>\n",
       "    </tr>\n",
       "    <tr>\n",
       "      <th>527670</th>\n",
       "      <td>(1937, 14438)</td>\n",
       "      <td>171</td>\n",
       "      <td>264</td>\n",
       "      <td>173</td>\n",
       "      <td>0.988439</td>\n",
       "    </tr>\n",
       "    <tr>\n",
       "      <th>527891</th>\n",
       "      <td>(1937, 14120)</td>\n",
       "      <td>171</td>\n",
       "      <td>264</td>\n",
       "      <td>174</td>\n",
       "      <td>0.982759</td>\n",
       "    </tr>\n",
       "    <tr>\n",
       "      <th>511613</th>\n",
       "      <td>(1937, 3671)</td>\n",
       "      <td>171</td>\n",
       "      <td>264</td>\n",
       "      <td>174</td>\n",
       "      <td>0.982759</td>\n",
       "    </tr>\n",
       "    <tr>\n",
       "      <th>515309</th>\n",
       "      <td>(1937, 19807)</td>\n",
       "      <td>170</td>\n",
       "      <td>264</td>\n",
       "      <td>171</td>\n",
       "      <td>0.994152</td>\n",
       "    </tr>\n",
       "  </tbody>\n",
       "</table>\n",
       "</div>"
      ],
      "text/plain": [
       "          combination  nb_occurrences  item_0  item_1      Dice\n",
       "524534   (1937, 6879)             178     264     183  0.972678\n",
       "527895   (1937, 5262)             172     264     175  0.982857\n",
       "523113   (1937, 5188)             172     264     175  0.982857\n",
       "527896   (1937, 9330)             172     264     175  0.982857\n",
       "515638   (1937, 8643)             171     264     172  0.994186\n",
       "522671   (1937, 3797)             171     264     174  0.982759\n",
       "527670  (1937, 14438)             171     264     173  0.988439\n",
       "527891  (1937, 14120)             171     264     174  0.982759\n",
       "511613   (1937, 3671)             171     264     174  0.982759\n",
       "515309  (1937, 19807)             170     264     171  0.994152"
      ]
     },
     "execution_count": 195,
     "metadata": {},
     "output_type": "execute_result"
    }
   ],
   "source": [
    "co_occurences__2_counts[co_occurences__2_counts.combination.apply(lambda x: 1937 in  x)].head(10)"
   ]
  },
  {
   "cell_type": "code",
   "execution_count": 191,
   "id": "b20faeb8",
   "metadata": {},
   "outputs": [
    {
     "data": {
      "text/plain": [
       "1944      DNA primase_helicase\n",
       "3300      DNA primase_helicase\n",
       "3366      DNA primase_helicase\n",
       "4688      DNA primase_helicase\n",
       "5660      DNA primase_helicase\n",
       "                  ...         \n",
       "227452    DNA primase_helicase\n",
       "227640    DNA primase_helicase\n",
       "229896    DNA primase_helicase\n",
       "234640    DNA primase_helicase\n",
       "235863    DNA primase_helicase\n",
       "Name: annotation_val, Length: 175, dtype: object"
      ]
     },
     "execution_count": 191,
     "metadata": {},
     "output_type": "execute_result"
    }
   ],
   "source": [
    "data[data.feature_number == 5262]['annotation_val']"
   ]
  },
  {
   "cell_type": "code",
   "execution_count": 194,
   "id": "c3a55fd1",
   "metadata": {},
   "outputs": [
    {
     "data": {
      "text/plain": [
       "226       RecA_like protein\n",
       "1239                Unknown\n",
       "1443      RecA_like protein\n",
       "4673      RecA_like protein\n",
       "6829      RecA_like protein\n",
       "                ...        \n",
       "217832              Unknown\n",
       "218224    RecA_like protein\n",
       "223380    RecA_like protein\n",
       "229546              Unknown\n",
       "230338    RecA_like protein\n",
       "Name: annotation_val, Length: 172, dtype: object"
      ]
     },
     "execution_count": 194,
     "metadata": {},
     "output_type": "execute_result"
    }
   ],
   "source": [
    "data[data.feature_number == 8643]['annotation_val']"
   ]
  },
  {
   "cell_type": "code",
   "execution_count": 196,
   "id": "bd42c099",
   "metadata": {},
   "outputs": [
    {
     "data": {
      "text/plain": [
       "24        Gp17 terminase large subunit\n",
       "3796      Gp17 terminase large subunit\n",
       "3927                           Unknown\n",
       "4671      Gp17 terminase large subunit\n",
       "4747      Gp17 terminase large subunit\n",
       "                      ...             \n",
       "232512    Gp17 terminase large subunit\n",
       "233211    Gp17 terminase large subunit\n",
       "233997    Gp17 terminase large subunit\n",
       "235142    Gp17 terminase large subunit\n",
       "236928    Gp17 terminase large subunit\n",
       "Name: annotation_val, Length: 174, dtype: object"
      ]
     },
     "execution_count": 196,
     "metadata": {},
     "output_type": "execute_result"
    }
   ],
   "source": [
    "data[data.feature_number == 3797]['annotation_val']"
   ]
  },
  {
   "cell_type": "markdown",
   "id": "abcd3b58",
   "metadata": {},
   "source": [
    "* Repeating the analysis work for larger subsets of features\n",
    "  * Start with paird what have surprise factor, by either\n",
    "  1. merging most frequent pairs iterative  add another item   \n",
    "  2. Start from seed and extending to include all pairs and finding the frequent items\n"
   ]
  },
  {
   "cell_type": "code",
   "execution_count": null,
   "id": "b008d33a",
   "metadata": {},
   "outputs": [],
   "source": []
  }
 ],
 "metadata": {
  "kernelspec": {
   "display_name": "Python 3 (ipykernel)",
   "language": "python",
   "name": "python3"
  },
  "language_info": {
   "codemirror_mode": {
    "name": "ipython",
    "version": 3
   },
   "file_extension": ".py",
   "mimetype": "text/x-python",
   "name": "python",
   "nbconvert_exporter": "python",
   "pygments_lexer": "ipython3",
   "version": "3.9.7"
  }
 },
 "nbformat": 4,
 "nbformat_minor": 5
}
