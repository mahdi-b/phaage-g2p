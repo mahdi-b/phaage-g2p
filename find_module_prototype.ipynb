{
 "cells": [
  {
   "cell_type": "markdown",
   "id": "bc4f71f7",
   "metadata": {},
   "source": [
    "* Issue of multiple feature on one location \n",
    "  * Had to apply set to avoid this issue"
   ]
  },
  {
   "cell_type": "code",
   "execution_count": 327,
   "id": "00719626",
   "metadata": {},
   "outputs": [],
   "source": [
    "import pandas as pd\n",
    "from collections import Counter\n",
    "from utils import parse_cdhit, replace_val\n",
    "import itertools\n",
    "import numpy as np\n",
    "from tqdm.notebook import tqdm"
   ]
  },
  {
   "cell_type": "code",
   "execution_count": 328,
   "id": "e7c516a8",
   "metadata": {},
   "outputs": [],
   "source": [
    "data = pd.read_table(\"data/ENA_ML_input_ORFs\")"
   ]
  },
  {
   "cell_type": "code",
   "execution_count": 329,
   "id": "1f10df5f",
   "metadata": {},
   "outputs": [
    {
     "data": {
      "text/html": [
       "<div>\n",
       "<style scoped>\n",
       "    .dataframe tbody tr th:only-of-type {\n",
       "        vertical-align: middle;\n",
       "    }\n",
       "\n",
       "    .dataframe tbody tr th {\n",
       "        vertical-align: top;\n",
       "    }\n",
       "\n",
       "    .dataframe thead th {\n",
       "        text-align: right;\n",
       "    }\n",
       "</style>\n",
       "<table border=\"1\" class=\"dataframe\">\n",
       "  <thead>\n",
       "    <tr style=\"text-align: right;\">\n",
       "      <th></th>\n",
       "      <th>Feature_id</th>\n",
       "      <th>contig_id</th>\n",
       "      <th>position_start</th>\n",
       "      <th>position_end</th>\n",
       "      <th>ORF_location_on_contig</th>\n",
       "      <th>annotation_val</th>\n",
       "    </tr>\n",
       "  </thead>\n",
       "  <tbody>\n",
       "    <tr>\n",
       "      <th>0</th>\n",
       "      <td>ENA_AY095314_AY095314.2_3724_3921_10</td>\n",
       "      <td>AY095314.2</td>\n",
       "      <td>3724</td>\n",
       "      <td>3921</td>\n",
       "      <td>10</td>\n",
       "      <td>Unknown</td>\n",
       "    </tr>\n",
       "    <tr>\n",
       "      <th>1</th>\n",
       "      <td>ENA_JX889246_JX889246.1_45181_44900_68</td>\n",
       "      <td>JX889246.1</td>\n",
       "      <td>45181</td>\n",
       "      <td>44900</td>\n",
       "      <td>68</td>\n",
       "      <td>Uncharacterized protein</td>\n",
       "    </tr>\n",
       "  </tbody>\n",
       "</table>\n",
       "</div>"
      ],
      "text/plain": [
       "                               Feature_id   contig_id  position_start  \\\n",
       "0    ENA_AY095314_AY095314.2_3724_3921_10  AY095314.2            3724   \n",
       "1  ENA_JX889246_JX889246.1_45181_44900_68  JX889246.1           45181   \n",
       "\n",
       "   position_end  ORF_location_on_contig           annotation_val  \n",
       "0          3921                      10                  Unknown  \n",
       "1         44900                      68  Uncharacterized protein  "
      ]
     },
     "execution_count": 329,
     "metadata": {},
     "output_type": "execute_result"
    }
   ],
   "source": [
    "data.head(2)"
   ]
  },
  {
   "cell_type": "code",
   "execution_count": 330,
   "id": "1e4b669f",
   "metadata": {},
   "outputs": [
    {
     "data": {
      "text/plain": [
       "[('ENA_KP211958_KP211958.1_65082_87137_88', '0'),\n",
       " ('ENA_AY940168_AY940168.2_57144_79082_90', '1')]"
      ]
     },
     "execution_count": 330,
     "metadata": {},
     "output_type": "execute_result"
    }
   ],
   "source": [
    "seq_to_clust = parse_cdhit(\"data/ENA.40.clstr\")\n",
    "\n",
    "# what does it look like\n",
    "list(seq_to_clust.items())[0:2]"
   ]
  },
  {
   "cell_type": "code",
   "execution_count": 331,
   "id": "6da7a1dc",
   "metadata": {},
   "outputs": [
    {
     "data": {
      "text/html": [
       "<div>\n",
       "<style scoped>\n",
       "    .dataframe tbody tr th:only-of-type {\n",
       "        vertical-align: middle;\n",
       "    }\n",
       "\n",
       "    .dataframe tbody tr th {\n",
       "        vertical-align: top;\n",
       "    }\n",
       "\n",
       "    .dataframe thead th {\n",
       "        text-align: right;\n",
       "    }\n",
       "</style>\n",
       "<table border=\"1\" class=\"dataframe\">\n",
       "  <thead>\n",
       "    <tr style=\"text-align: right;\">\n",
       "      <th></th>\n",
       "      <th>Feature_id</th>\n",
       "      <th>contig_id</th>\n",
       "      <th>position_start</th>\n",
       "      <th>position_end</th>\n",
       "      <th>ORF_location_on_contig</th>\n",
       "      <th>annotation_val</th>\n",
       "      <th>feature_number</th>\n",
       "    </tr>\n",
       "  </thead>\n",
       "  <tbody>\n",
       "    <tr>\n",
       "      <th>0</th>\n",
       "      <td>ENA_AY095314_AY095314.2_3724_3921_10</td>\n",
       "      <td>AY095314.2</td>\n",
       "      <td>3724</td>\n",
       "      <td>3921</td>\n",
       "      <td>10</td>\n",
       "      <td>Unknown</td>\n",
       "      <td>57065</td>\n",
       "    </tr>\n",
       "    <tr>\n",
       "      <th>1</th>\n",
       "      <td>ENA_JX889246_JX889246.1_45181_44900_68</td>\n",
       "      <td>JX889246.1</td>\n",
       "      <td>45181</td>\n",
       "      <td>44900</td>\n",
       "      <td>68</td>\n",
       "      <td>Uncharacterized protein</td>\n",
       "      <td>43194</td>\n",
       "    </tr>\n",
       "  </tbody>\n",
       "</table>\n",
       "</div>"
      ],
      "text/plain": [
       "                               Feature_id   contig_id  position_start  \\\n",
       "0    ENA_AY095314_AY095314.2_3724_3921_10  AY095314.2            3724   \n",
       "1  ENA_JX889246_JX889246.1_45181_44900_68  JX889246.1           45181   \n",
       "\n",
       "   position_end  ORF_location_on_contig           annotation_val  \\\n",
       "0          3921                      10                  Unknown   \n",
       "1         44900                      68  Uncharacterized protein   \n",
       "\n",
       "   feature_number  \n",
       "0           57065  \n",
       "1           43194  "
      ]
     },
     "execution_count": 331,
     "metadata": {},
     "output_type": "execute_result"
    }
   ],
   "source": [
    "## Add a column to show the cluster to which each feature_id belongs\n",
    "data[\"feature_number\"] = replace_val(data.Feature_id, seq_to_clust)\n",
    "data.feature_number = data.feature_number.astype(int)\n",
    "data.head(2)\n",
    "\n"
   ]
  },
  {
   "cell_type": "code",
   "execution_count": 332,
   "id": "73741b92",
   "metadata": {},
   "outputs": [
    {
     "data": {
      "text/html": [
       "<div>\n",
       "<style scoped>\n",
       "    .dataframe tbody tr th:only-of-type {\n",
       "        vertical-align: middle;\n",
       "    }\n",
       "\n",
       "    .dataframe tbody tr th {\n",
       "        vertical-align: top;\n",
       "    }\n",
       "\n",
       "    .dataframe thead th {\n",
       "        text-align: right;\n",
       "    }\n",
       "</style>\n",
       "<table border=\"1\" class=\"dataframe\">\n",
       "  <thead>\n",
       "    <tr style=\"text-align: right;\">\n",
       "      <th></th>\n",
       "      <th>Feature_id</th>\n",
       "      <th>contig_id</th>\n",
       "      <th>position_start</th>\n",
       "      <th>position_end</th>\n",
       "      <th>ORF_location_on_contig</th>\n",
       "      <th>annotation_val</th>\n",
       "      <th>feature_number</th>\n",
       "      <th>contig_number</th>\n",
       "    </tr>\n",
       "  </thead>\n",
       "  <tbody>\n",
       "    <tr>\n",
       "      <th>0</th>\n",
       "      <td>ENA_AY095314_AY095314.2_3724_3921_10</td>\n",
       "      <td>AY095314.2</td>\n",
       "      <td>3724</td>\n",
       "      <td>3921</td>\n",
       "      <td>10</td>\n",
       "      <td>Unknown</td>\n",
       "      <td>57065</td>\n",
       "      <td>237296</td>\n",
       "    </tr>\n",
       "    <tr>\n",
       "      <th>1</th>\n",
       "      <td>ENA_JX889246_JX889246.1_45181_44900_68</td>\n",
       "      <td>JX889246.1</td>\n",
       "      <td>45181</td>\n",
       "      <td>44900</td>\n",
       "      <td>68</td>\n",
       "      <td>Uncharacterized protein</td>\n",
       "      <td>43194</td>\n",
       "      <td>234989</td>\n",
       "    </tr>\n",
       "  </tbody>\n",
       "</table>\n",
       "</div>"
      ],
      "text/plain": [
       "                               Feature_id   contig_id  position_start  \\\n",
       "0    ENA_AY095314_AY095314.2_3724_3921_10  AY095314.2            3724   \n",
       "1  ENA_JX889246_JX889246.1_45181_44900_68  JX889246.1           45181   \n",
       "\n",
       "   position_end  ORF_location_on_contig           annotation_val  \\\n",
       "0          3921                      10                  Unknown   \n",
       "1         44900                      68  Uncharacterized protein   \n",
       "\n",
       "   feature_number  contig_number  \n",
       "0           57065         237296  \n",
       "1           43194         234989  "
      ]
     },
     "execution_count": 332,
     "metadata": {},
     "output_type": "execute_result"
    }
   ],
   "source": [
    "# Add a contig sequential number in addition to contig id.\n",
    "contig_id_to_int = {y:x for x,y in enumerate(data.contig_id.tolist())}\n",
    "#### data.replace({'contig_id': contig_id_to_int})\n",
    "data[\"contig_number\"] = replace_val(data.contig_id, contig_id_to_int)\n",
    "data.head(2)"
   ]
  },
  {
   "cell_type": "markdown",
   "id": "a286c3b6",
   "metadata": {},
   "source": [
    "* Generate a table with all the features per contig\n"
   ]
  },
  {
   "cell_type": "code",
   "execution_count": 59,
   "id": "23e98060",
   "metadata": {},
   "outputs": [
    {
     "data": {
      "text/plain": [
       "9109      ENA_KJ645900_KJ645900.1_246857_246081_265\n",
       "33694        ENA_KJ645900_KJ645900.1_16565_17224_19\n",
       "34898        ENA_KJ645900_KJ645900.1_13577_14275_15\n",
       "140728    ENA_KJ645900_KJ645900.1_133148_132465_136\n",
       "142078    ENA_KJ645900_KJ645900.1_330172_330837_352\n",
       "179374    ENA_KJ645900_KJ645900.1_335709_336482_359\n",
       "Name: Feature_id, dtype: object"
      ]
     },
     "execution_count": 59,
     "metadata": {},
     "output_type": "execute_result"
    }
   ],
   "source": [
    "# temp cell\n",
    "data[data.feature_number == 13032].Feature_id"
   ]
  },
  {
   "cell_type": "code",
   "execution_count": 374,
   "id": "b6f4865d",
   "metadata": {},
   "outputs": [
    {
     "data": {
      "text/html": [
       "<div>\n",
       "<style scoped>\n",
       "    .dataframe tbody tr th:only-of-type {\n",
       "        vertical-align: middle;\n",
       "    }\n",
       "\n",
       "    .dataframe tbody tr th {\n",
       "        vertical-align: top;\n",
       "    }\n",
       "\n",
       "    .dataframe thead th {\n",
       "        text-align: right;\n",
       "    }\n",
       "</style>\n",
       "<table border=\"1\" class=\"dataframe\">\n",
       "  <thead>\n",
       "    <tr style=\"text-align: right;\">\n",
       "      <th></th>\n",
       "      <th>contig_id</th>\n",
       "      <th>features</th>\n",
       "    </tr>\n",
       "  </thead>\n",
       "  <tbody>\n",
       "    <tr>\n",
       "      <th>0</th>\n",
       "      <td>82638</td>\n",
       "      <td>[3929, 6051, 8867, 21058, 25595, 57763]</td>\n",
       "    </tr>\n",
       "    <tr>\n",
       "      <th>1</th>\n",
       "      <td>106079</td>\n",
       "      <td>[3490, 6292, 18722, 30149]</td>\n",
       "    </tr>\n",
       "  </tbody>\n",
       "</table>\n",
       "</div>"
      ],
      "text/plain": [
       "   contig_id                                 features\n",
       "0      82638  [3929, 6051, 8867, 21058, 25595, 57763]\n",
       "1     106079               [3490, 6292, 18722, 30149]"
      ]
     },
     "execution_count": 374,
     "metadata": {},
     "output_type": "execute_result"
    }
   ],
   "source": [
    "temp = data.groupby(\"contig_number\").apply(lambda x: sorted(set(x[\"feature_number\"].values)))\n",
    "subsets = pd.DataFrame({\"contig_id\": temp.index, \"features\": temp.values})\n",
    "subsets.head(2)"
   ]
  },
  {
   "cell_type": "code",
   "execution_count": 375,
   "id": "5def1b6f",
   "metadata": {},
   "outputs": [
    {
     "data": {
      "text/plain": [
       "339"
      ]
     },
     "execution_count": 375,
     "metadata": {},
     "output_type": "execute_result"
    }
   ],
   "source": [
    "# temp\n",
    "len(subsets[subsets.contig_id == 237307].features.values[0])"
   ]
  },
  {
   "cell_type": "markdown",
   "id": "cc9ee470",
   "metadata": {},
   "source": [
    "* count the occurrences of each feature in all the contigs. \n",
    "  * Needed to compute the probability of a pair"
   ]
  },
  {
   "cell_type": "code",
   "execution_count": 376,
   "id": "3a8491d9",
   "metadata": {
    "scrolled": true
   },
   "outputs": [
    {
     "data": {
      "text/html": [
       "<div>\n",
       "<style scoped>\n",
       "    .dataframe tbody tr th:only-of-type {\n",
       "        vertical-align: middle;\n",
       "    }\n",
       "\n",
       "    .dataframe tbody tr th {\n",
       "        vertical-align: top;\n",
       "    }\n",
       "\n",
       "    .dataframe thead th {\n",
       "        text-align: right;\n",
       "    }\n",
       "</style>\n",
       "<table border=\"1\" class=\"dataframe\">\n",
       "  <thead>\n",
       "    <tr style=\"text-align: right;\">\n",
       "      <th></th>\n",
       "      <th>nb_occurrences</th>\n",
       "    </tr>\n",
       "    <tr>\n",
       "      <th>feature</th>\n",
       "      <th></th>\n",
       "    </tr>\n",
       "  </thead>\n",
       "  <tbody>\n",
       "    <tr>\n",
       "      <th>3929</th>\n",
       "      <td>135</td>\n",
       "    </tr>\n",
       "    <tr>\n",
       "      <th>6051</th>\n",
       "      <td>134</td>\n",
       "    </tr>\n",
       "    <tr>\n",
       "      <th>8867</th>\n",
       "      <td>135</td>\n",
       "    </tr>\n",
       "    <tr>\n",
       "      <th>21058</th>\n",
       "      <td>122</td>\n",
       "    </tr>\n",
       "    <tr>\n",
       "      <th>25595</th>\n",
       "      <td>135</td>\n",
       "    </tr>\n",
       "    <tr>\n",
       "      <th>...</th>\n",
       "      <td>...</td>\n",
       "    </tr>\n",
       "    <tr>\n",
       "      <th>59063</th>\n",
       "      <td>1</td>\n",
       "    </tr>\n",
       "    <tr>\n",
       "      <th>60147</th>\n",
       "      <td>1</td>\n",
       "    </tr>\n",
       "    <tr>\n",
       "      <th>60148</th>\n",
       "      <td>1</td>\n",
       "    </tr>\n",
       "    <tr>\n",
       "      <th>60622</th>\n",
       "      <td>1</td>\n",
       "    </tr>\n",
       "    <tr>\n",
       "      <th>63261</th>\n",
       "      <td>1</td>\n",
       "    </tr>\n",
       "  </tbody>\n",
       "</table>\n",
       "<p>65336 rows × 1 columns</p>\n",
       "</div>"
      ],
      "text/plain": [
       "         nb_occurrences\n",
       "feature                \n",
       "3929                135\n",
       "6051                134\n",
       "8867                135\n",
       "21058               122\n",
       "25595               135\n",
       "...                 ...\n",
       "59063                 1\n",
       "60147                 1\n",
       "60148                 1\n",
       "60622                 1\n",
       "63261                 1\n",
       "\n",
       "[65336 rows x 1 columns]"
      ]
     },
     "execution_count": 376,
     "metadata": {},
     "output_type": "execute_result"
    }
   ],
   "source": [
    "feature_counts = pd.DataFrame(Counter(itertools.chain(*subsets.features.values)).items())\n",
    "feature_counts.columns = [\"feature\", \"nb_occurrences\"]\n",
    "feature_counts = feature_counts.set_index(\"feature\")\n",
    "feature_counts"
   ]
  },
  {
   "cell_type": "markdown",
   "id": "f164578c",
   "metadata": {},
   "source": [
    "* Count the occurrences of each pair of features that occur on at least 1 contig\n",
    "* We generate generate all the possible pairs (tuples) of features \n"
   ]
  },
  {
   "cell_type": "code",
   "execution_count": 393,
   "id": "d0095e84",
   "metadata": {},
   "outputs": [
    {
     "data": {
      "text/plain": [
       "contig_id\n",
       "82638     [(3929, 6051), (3929, 8867), (3929, 21058), (3...\n",
       "106079    [(3490, 6292), (3490, 18722), (3490, 30149), (...\n",
       "dtype: object"
      ]
     },
     "execution_count": 393,
     "metadata": {},
     "output_type": "execute_result"
    }
   ],
   "source": [
    "# Generate all the subset of size 2 for each contig\n",
    "subsets_size_2 = subsets.apply(lambda x: list(itertools.combinations(x[\"features\"], 2)), axis=1)\n",
    "subsets_size_2.index = subsets.contig_id\n",
    "subsets_size_2.head(2)\n"
   ]
  },
  {
   "cell_type": "code",
   "execution_count": 394,
   "id": "bfff53ce",
   "metadata": {},
   "outputs": [
    {
     "data": {
      "text/plain": [
       "57291"
      ]
     },
     "execution_count": 394,
     "metadata": {},
     "output_type": "execute_result"
    }
   ],
   "source": [
    "#temp\n",
    "# subsets_size_2[subsets_size_2.apply(lambda x: (10118, 17210) in x ).values]\n",
    "len(subsets_size_2.loc[237307])"
   ]
  },
  {
   "cell_type": "markdown",
   "id": "6eb9822d",
   "metadata": {},
   "source": [
    "* We make sure the tuple is sorted so it's easy to compute frequencies"
   ]
  },
  {
   "cell_type": "code",
   "execution_count": 395,
   "id": "1ce04368",
   "metadata": {},
   "outputs": [
    {
     "data": {
      "text/plain": [
       "[(3929, 6051),\n",
       " (3929, 8867),\n",
       " (3929, 21058),\n",
       " (3929, 25595),\n",
       " (3929, 57763),\n",
       " (6051, 8867),\n",
       " (6051, 21058),\n",
       " (6051, 25595),\n",
       " (6051, 57763),\n",
       " (8867, 21058)]"
      ]
     },
     "execution_count": 395,
     "metadata": {},
     "output_type": "execute_result"
    }
   ],
   "source": [
    "co_occurences_2 = []\n",
    "for item in list(itertools.chain(*subsets_size_2.values)):\n",
    "    if item[0] > item[1]:\n",
    "        co_occurences_2.append((item[1], item[0]))\n",
    "    else:\n",
    "        co_occurences_2.append((item[0], item[1]))  \n",
    "co_occurences_2[:10]    "
   ]
  },
  {
   "cell_type": "markdown",
   "id": "3e66df78",
   "metadata": {},
   "source": [
    "* Count the number of occurrences of each pair of features"
   ]
  },
  {
   "cell_type": "code",
   "execution_count": 396,
   "id": "e2c87b55",
   "metadata": {},
   "outputs": [
    {
     "data": {
      "text/html": [
       "<div>\n",
       "<style scoped>\n",
       "    .dataframe tbody tr th:only-of-type {\n",
       "        vertical-align: middle;\n",
       "    }\n",
       "\n",
       "    .dataframe tbody tr th {\n",
       "        vertical-align: top;\n",
       "    }\n",
       "\n",
       "    .dataframe thead th {\n",
       "        text-align: right;\n",
       "    }\n",
       "</style>\n",
       "<table border=\"1\" class=\"dataframe\">\n",
       "  <thead>\n",
       "    <tr style=\"text-align: right;\">\n",
       "      <th></th>\n",
       "      <th>combination</th>\n",
       "      <th>nb_occurrences</th>\n",
       "    </tr>\n",
       "  </thead>\n",
       "  <tbody>\n",
       "    <tr>\n",
       "      <th>508135</th>\n",
       "      <td>(1937, 6879)</td>\n",
       "      <td>178</td>\n",
       "    </tr>\n",
       "    <tr>\n",
       "      <th>510515</th>\n",
       "      <td>(5188, 9330)</td>\n",
       "      <td>175</td>\n",
       "    </tr>\n",
       "  </tbody>\n",
       "</table>\n",
       "</div>"
      ],
      "text/plain": [
       "         combination  nb_occurrences\n",
       "508135  (1937, 6879)             178\n",
       "510515  (5188, 9330)             175"
      ]
     },
     "execution_count": 396,
     "metadata": {},
     "output_type": "execute_result"
    }
   ],
   "source": [
    "co_occurences__2_counts = pd.DataFrame(Counter(co_occurences_2).items())\n",
    "co_occurences__2_counts.columns = [\"combination\", \"nb_occurrences\"]\n",
    "co_occurences__2_counts = co_occurences__2_counts.sort_values(by=\"nb_occurrences\", ascending=False)\n",
    "co_occurences__2_counts.head(2)"
   ]
  },
  {
   "cell_type": "code",
   "execution_count": 397,
   "id": "80a4f326",
   "metadata": {},
   "outputs": [
    {
     "data": {
      "text/plain": [
       "(6987559, 2)"
      ]
     },
     "execution_count": 397,
     "metadata": {},
     "output_type": "execute_result"
    }
   ],
   "source": [
    "co_occurences__2_counts.shape"
   ]
  },
  {
   "cell_type": "markdown",
   "id": "e589a4dd",
   "metadata": {},
   "source": [
    "* Only keep those that occur frequently\n",
    "```python\n",
    ">>> sum(co_occurences__2_counts.nb_occurrences > 10)\n",
    "263730\n",
    "```\n"
   ]
  },
  {
   "cell_type": "code",
   "execution_count": 398,
   "id": "f7d2c0b8",
   "metadata": {},
   "outputs": [
    {
     "data": {
      "text/plain": [
       "(257945, 2)"
      ]
     },
     "execution_count": 398,
     "metadata": {},
     "output_type": "execute_result"
    }
   ],
   "source": [
    "co_occurences__2_counts = co_occurences__2_counts[co_occurences__2_counts.nb_occurrences > 10]\n",
    "co_occurences__2_counts.shape"
   ]
  },
  {
   "cell_type": "code",
   "execution_count": 399,
   "id": "53aea3b7",
   "metadata": {},
   "outputs": [
    {
     "data": {
      "text/html": [
       "<div>\n",
       "<style scoped>\n",
       "    .dataframe tbody tr th:only-of-type {\n",
       "        vertical-align: middle;\n",
       "    }\n",
       "\n",
       "    .dataframe tbody tr th {\n",
       "        vertical-align: top;\n",
       "    }\n",
       "\n",
       "    .dataframe thead th {\n",
       "        text-align: right;\n",
       "    }\n",
       "</style>\n",
       "<table border=\"1\" class=\"dataframe\">\n",
       "  <thead>\n",
       "    <tr style=\"text-align: right;\">\n",
       "      <th></th>\n",
       "      <th>combination</th>\n",
       "      <th>nb_occurrences</th>\n",
       "      <th>item_0</th>\n",
       "      <th>item_1</th>\n",
       "    </tr>\n",
       "  </thead>\n",
       "  <tbody>\n",
       "    <tr>\n",
       "      <th>508135</th>\n",
       "      <td>(1937, 6879)</td>\n",
       "      <td>178</td>\n",
       "      <td>264</td>\n",
       "      <td>183</td>\n",
       "    </tr>\n",
       "    <tr>\n",
       "      <th>510515</th>\n",
       "      <td>(5188, 9330)</td>\n",
       "      <td>175</td>\n",
       "      <td>175</td>\n",
       "      <td>175</td>\n",
       "    </tr>\n",
       "    <tr>\n",
       "      <th>510497</th>\n",
       "      <td>(5188, 5262)</td>\n",
       "      <td>175</td>\n",
       "      <td>175</td>\n",
       "      <td>175</td>\n",
       "    </tr>\n",
       "    <tr>\n",
       "      <th>510896</th>\n",
       "      <td>(5262, 9330)</td>\n",
       "      <td>175</td>\n",
       "      <td>175</td>\n",
       "      <td>175</td>\n",
       "    </tr>\n",
       "    <tr>\n",
       "      <th>509525</th>\n",
       "      <td>(3797, 5188)</td>\n",
       "      <td>174</td>\n",
       "      <td>174</td>\n",
       "      <td>175</td>\n",
       "    </tr>\n",
       "    <tr>\n",
       "      <th>509150</th>\n",
       "      <td>(3671, 9330)</td>\n",
       "      <td>174</td>\n",
       "      <td>174</td>\n",
       "      <td>175</td>\n",
       "    </tr>\n",
       "    <tr>\n",
       "      <th>510530</th>\n",
       "      <td>(5188, 14120)</td>\n",
       "      <td>174</td>\n",
       "      <td>175</td>\n",
       "      <td>174</td>\n",
       "    </tr>\n",
       "    <tr>\n",
       "      <th>509545</th>\n",
       "      <td>(3797, 9330)</td>\n",
       "      <td>174</td>\n",
       "      <td>174</td>\n",
       "      <td>175</td>\n",
       "    </tr>\n",
       "    <tr>\n",
       "      <th>509130</th>\n",
       "      <td>(3671, 5188)</td>\n",
       "      <td>174</td>\n",
       "      <td>174</td>\n",
       "      <td>175</td>\n",
       "    </tr>\n",
       "    <tr>\n",
       "      <th>509132</th>\n",
       "      <td>(3671, 5262)</td>\n",
       "      <td>174</td>\n",
       "      <td>174</td>\n",
       "      <td>175</td>\n",
       "    </tr>\n",
       "  </tbody>\n",
       "</table>\n",
       "</div>"
      ],
      "text/plain": [
       "          combination  nb_occurrences  item_0  item_1\n",
       "508135   (1937, 6879)             178     264     183\n",
       "510515   (5188, 9330)             175     175     175\n",
       "510497   (5188, 5262)             175     175     175\n",
       "510896   (5262, 9330)             175     175     175\n",
       "509525   (3797, 5188)             174     174     175\n",
       "509150   (3671, 9330)             174     174     175\n",
       "510530  (5188, 14120)             174     175     174\n",
       "509545   (3797, 9330)             174     174     175\n",
       "509130   (3671, 5188)             174     174     175\n",
       "509132   (3671, 5262)             174     174     175"
      ]
     },
     "execution_count": 399,
     "metadata": {},
     "output_type": "execute_result"
    }
   ],
   "source": [
    "subset_size = len(co_occurences__2_counts.iloc[0].combination)\n",
    "for i in range(subset_size):\n",
    "    a = co_occurences__2_counts.combination.apply(lambda x: x[i])\n",
    "    co_occurences__2_counts.loc[:, f\"item_{i}\"] = feature_counts.loc[a].nb_occurrences.values\n",
    "\n",
    "co_occurences__2_counts.head(10)"
   ]
  },
  {
   "cell_type": "code",
   "execution_count": 400,
   "id": "aa089fb6",
   "metadata": {},
   "outputs": [
    {
     "data": {
      "text/html": [
       "<div>\n",
       "<style scoped>\n",
       "    .dataframe tbody tr th:only-of-type {\n",
       "        vertical-align: middle;\n",
       "    }\n",
       "\n",
       "    .dataframe tbody tr th {\n",
       "        vertical-align: top;\n",
       "    }\n",
       "\n",
       "    .dataframe thead th {\n",
       "        text-align: right;\n",
       "    }\n",
       "</style>\n",
       "<table border=\"1\" class=\"dataframe\">\n",
       "  <thead>\n",
       "    <tr style=\"text-align: right;\">\n",
       "      <th></th>\n",
       "      <th>combination</th>\n",
       "      <th>nb_occurrences</th>\n",
       "      <th>item_0</th>\n",
       "      <th>item_1</th>\n",
       "    </tr>\n",
       "  </thead>\n",
       "  <tbody>\n",
       "    <tr>\n",
       "      <th>1422998</th>\n",
       "      <td>(45536, 61763)</td>\n",
       "      <td>11</td>\n",
       "      <td>12</td>\n",
       "      <td>16</td>\n",
       "    </tr>\n",
       "    <tr>\n",
       "      <th>1420845</th>\n",
       "      <td>(32314, 37658)</td>\n",
       "      <td>11</td>\n",
       "      <td>11</td>\n",
       "      <td>16</td>\n",
       "    </tr>\n",
       "    <tr>\n",
       "      <th>1143899</th>\n",
       "      <td>(5142, 32083)</td>\n",
       "      <td>11</td>\n",
       "      <td>73</td>\n",
       "      <td>11</td>\n",
       "    </tr>\n",
       "    <tr>\n",
       "      <th>1143952</th>\n",
       "      <td>(5482, 22035)</td>\n",
       "      <td>11</td>\n",
       "      <td>22</td>\n",
       "      <td>11</td>\n",
       "    </tr>\n",
       "    <tr>\n",
       "      <th>1423103</th>\n",
       "      <td>(47119, 49743)</td>\n",
       "      <td>11</td>\n",
       "      <td>12</td>\n",
       "      <td>16</td>\n",
       "    </tr>\n",
       "    <tr>\n",
       "      <th>1144486</th>\n",
       "      <td>(8144, 41206)</td>\n",
       "      <td>11</td>\n",
       "      <td>17</td>\n",
       "      <td>11</td>\n",
       "    </tr>\n",
       "    <tr>\n",
       "      <th>1422227</th>\n",
       "      <td>(38128, 48030)</td>\n",
       "      <td>11</td>\n",
       "      <td>11</td>\n",
       "      <td>19</td>\n",
       "    </tr>\n",
       "    <tr>\n",
       "      <th>1420909</th>\n",
       "      <td>(32401, 35715)</td>\n",
       "      <td>11</td>\n",
       "      <td>24</td>\n",
       "      <td>13</td>\n",
       "    </tr>\n",
       "    <tr>\n",
       "      <th>1422230</th>\n",
       "      <td>(38128, 49040)</td>\n",
       "      <td>11</td>\n",
       "      <td>11</td>\n",
       "      <td>16</td>\n",
       "    </tr>\n",
       "    <tr>\n",
       "      <th>1143954</th>\n",
       "      <td>(5482, 23207)</td>\n",
       "      <td>11</td>\n",
       "      <td>22</td>\n",
       "      <td>11</td>\n",
       "    </tr>\n",
       "  </tbody>\n",
       "</table>\n",
       "</div>"
      ],
      "text/plain": [
       "            combination  nb_occurrences  item_0  item_1\n",
       "1422998  (45536, 61763)              11      12      16\n",
       "1420845  (32314, 37658)              11      11      16\n",
       "1143899   (5142, 32083)              11      73      11\n",
       "1143952   (5482, 22035)              11      22      11\n",
       "1423103  (47119, 49743)              11      12      16\n",
       "1144486   (8144, 41206)              11      17      11\n",
       "1422227  (38128, 48030)              11      11      19\n",
       "1420909  (32401, 35715)              11      24      13\n",
       "1422230  (38128, 49040)              11      11      16\n",
       "1143954   (5482, 23207)              11      22      11"
      ]
     },
     "execution_count": 400,
     "metadata": {},
     "output_type": "execute_result"
    }
   ],
   "source": [
    "co_occurences__2_counts.tail(10)"
   ]
  },
  {
   "cell_type": "markdown",
   "id": "1702a1a1",
   "metadata": {},
   "source": [
    "* Compute the Dice Coefficient"
   ]
  },
  {
   "cell_type": "code",
   "execution_count": 403,
   "id": "52a3852c",
   "metadata": {},
   "outputs": [
    {
     "data": {
      "text/html": [
       "<div>\n",
       "<style scoped>\n",
       "    .dataframe tbody tr th:only-of-type {\n",
       "        vertical-align: middle;\n",
       "    }\n",
       "\n",
       "    .dataframe tbody tr th {\n",
       "        vertical-align: top;\n",
       "    }\n",
       "\n",
       "    .dataframe thead th {\n",
       "        text-align: right;\n",
       "    }\n",
       "</style>\n",
       "<table border=\"1\" class=\"dataframe\">\n",
       "  <thead>\n",
       "    <tr style=\"text-align: right;\">\n",
       "      <th></th>\n",
       "      <th>combination</th>\n",
       "      <th>nb_occurrences</th>\n",
       "      <th>item_0</th>\n",
       "      <th>item_1</th>\n",
       "      <th>Dice</th>\n",
       "    </tr>\n",
       "  </thead>\n",
       "  <tbody>\n",
       "    <tr>\n",
       "      <th>508135</th>\n",
       "      <td>(1937, 6879)</td>\n",
       "      <td>178</td>\n",
       "      <td>264</td>\n",
       "      <td>183</td>\n",
       "      <td>0.003684</td>\n",
       "    </tr>\n",
       "    <tr>\n",
       "      <th>510515</th>\n",
       "      <td>(5188, 9330)</td>\n",
       "      <td>175</td>\n",
       "      <td>175</td>\n",
       "      <td>175</td>\n",
       "      <td>0.005714</td>\n",
       "    </tr>\n",
       "    <tr>\n",
       "      <th>510497</th>\n",
       "      <td>(5188, 5262)</td>\n",
       "      <td>175</td>\n",
       "      <td>175</td>\n",
       "      <td>175</td>\n",
       "      <td>0.005714</td>\n",
       "    </tr>\n",
       "    <tr>\n",
       "      <th>510896</th>\n",
       "      <td>(5262, 9330)</td>\n",
       "      <td>175</td>\n",
       "      <td>175</td>\n",
       "      <td>175</td>\n",
       "      <td>0.005714</td>\n",
       "    </tr>\n",
       "    <tr>\n",
       "      <th>509525</th>\n",
       "      <td>(3797, 5188)</td>\n",
       "      <td>174</td>\n",
       "      <td>174</td>\n",
       "      <td>175</td>\n",
       "      <td>0.005714</td>\n",
       "    </tr>\n",
       "    <tr>\n",
       "      <th>...</th>\n",
       "      <td>...</td>\n",
       "      <td>...</td>\n",
       "      <td>...</td>\n",
       "      <td>...</td>\n",
       "      <td>...</td>\n",
       "    </tr>\n",
       "    <tr>\n",
       "      <th>2002712</th>\n",
       "      <td>(14667, 40947)</td>\n",
       "      <td>11</td>\n",
       "      <td>140</td>\n",
       "      <td>52</td>\n",
       "      <td>0.001511</td>\n",
       "    </tr>\n",
       "    <tr>\n",
       "      <th>1572165</th>\n",
       "      <td>(8440, 61607)</td>\n",
       "      <td>11</td>\n",
       "      <td>65</td>\n",
       "      <td>114</td>\n",
       "      <td>0.001484</td>\n",
       "    </tr>\n",
       "    <tr>\n",
       "      <th>1804394</th>\n",
       "      <td>(8440, 16356)</td>\n",
       "      <td>11</td>\n",
       "      <td>65</td>\n",
       "      <td>115</td>\n",
       "      <td>0.001472</td>\n",
       "    </tr>\n",
       "    <tr>\n",
       "      <th>1572078</th>\n",
       "      <td>(8440, 23265)</td>\n",
       "      <td>11</td>\n",
       "      <td>65</td>\n",
       "      <td>116</td>\n",
       "      <td>0.001459</td>\n",
       "    </tr>\n",
       "    <tr>\n",
       "      <th>1316499</th>\n",
       "      <td>(15538, 28686)</td>\n",
       "      <td>11</td>\n",
       "      <td>56</td>\n",
       "      <td>135</td>\n",
       "      <td>0.001455</td>\n",
       "    </tr>\n",
       "  </tbody>\n",
       "</table>\n",
       "<p>257945 rows × 5 columns</p>\n",
       "</div>"
      ],
      "text/plain": [
       "            combination  nb_occurrences  item_0  item_1      Dice\n",
       "508135     (1937, 6879)             178     264     183  0.003684\n",
       "510515     (5188, 9330)             175     175     175  0.005714\n",
       "510497     (5188, 5262)             175     175     175  0.005714\n",
       "510896     (5262, 9330)             175     175     175  0.005714\n",
       "509525     (3797, 5188)             174     174     175  0.005714\n",
       "...                 ...             ...     ...     ...       ...\n",
       "2002712  (14667, 40947)              11     140      52  0.001511\n",
       "1572165   (8440, 61607)              11      65     114  0.001484\n",
       "1804394   (8440, 16356)              11      65     115  0.001472\n",
       "1572078   (8440, 23265)              11      65     116  0.001459\n",
       "1316499  (15538, 28686)              11      56     135  0.001455\n",
       "\n",
       "[257945 rows x 5 columns]"
      ]
     },
     "execution_count": 403,
     "metadata": {},
     "output_type": "execute_result"
    }
   ],
   "source": [
    "co_occurences__2_counts[\"Dice\"] = co_occurences__2_counts[\"nb_occurrences\"] / co_occurences__2_counts.iloc[:,[2,3]].product(axis=1)\n",
    "co_occurences__2_counts.sort_values(by=[\"nb_occurrences\", \"Dice\"], ascending=False)\n",
    "\n"
   ]
  },
  {
   "cell_type": "markdown",
   "id": "75c82d63",
   "metadata": {},
   "source": [
    "* What is the top hit?\n",
    "  (1937, 6879) has  an occurrence rate of 0.9726"
   ]
  },
  {
   "cell_type": "code",
   "execution_count": 402,
   "id": "5618cdaf",
   "metadata": {},
   "outputs": [
    {
     "data": {
      "text/plain": [
       "662     Ribonucleoside_diphosphate reductase\n",
       "1063    Ribonucleoside_diphosphate reductase\n",
       "1069    Ribonucleoside_diphosphate reductase\n",
       "1335    Ribonucleoside_diphosphate reductase\n",
       "1912    Ribonucleoside_diphosphate reductase\n",
       "Name: annotation_val, dtype: object"
      ]
     },
     "execution_count": 402,
     "metadata": {},
     "output_type": "execute_result"
    }
   ],
   "source": [
    "data[data.feature_number == 1937]['annotation_val'].head(5)"
   ]
  },
  {
   "cell_type": "code",
   "execution_count": 185,
   "id": "1009af3d",
   "metadata": {},
   "outputs": [
    {
     "data": {
      "text/plain": [
       "170       Unknown\n",
       "755       Unknown\n",
       "2764      Unknown\n",
       "5850      Unknown\n",
       "7642      Unknown\n",
       "           ...   \n",
       "228043    Unknown\n",
       "233414    Unknown\n",
       "233774    Unknown\n",
       "233929    Unknown\n",
       "234767    Unknown\n",
       "Name: annotation_val, Length: 183, dtype: object"
      ]
     },
     "execution_count": 185,
     "metadata": {},
     "output_type": "execute_result"
    }
   ],
   "source": [
    "data[data.feature_number == 6879]['annotation_val']"
   ]
  },
  {
   "cell_type": "markdown",
   "id": "2002a3a9",
   "metadata": {},
   "source": [
    "* If 6879 is unknown, are any of the other features associated with 1937 konw"
   ]
  },
  {
   "cell_type": "code",
   "execution_count": 404,
   "id": "73554ecb",
   "metadata": {},
   "outputs": [
    {
     "data": {
      "text/html": [
       "<div>\n",
       "<style scoped>\n",
       "    .dataframe tbody tr th:only-of-type {\n",
       "        vertical-align: middle;\n",
       "    }\n",
       "\n",
       "    .dataframe tbody tr th {\n",
       "        vertical-align: top;\n",
       "    }\n",
       "\n",
       "    .dataframe thead th {\n",
       "        text-align: right;\n",
       "    }\n",
       "</style>\n",
       "<table border=\"1\" class=\"dataframe\">\n",
       "  <thead>\n",
       "    <tr style=\"text-align: right;\">\n",
       "      <th></th>\n",
       "      <th>combination</th>\n",
       "      <th>nb_occurrences</th>\n",
       "      <th>item_0</th>\n",
       "      <th>item_1</th>\n",
       "      <th>Dice</th>\n",
       "    </tr>\n",
       "  </thead>\n",
       "  <tbody>\n",
       "    <tr>\n",
       "      <th>508135</th>\n",
       "      <td>(1937, 6879)</td>\n",
       "      <td>178</td>\n",
       "      <td>264</td>\n",
       "      <td>183</td>\n",
       "      <td>0.003684</td>\n",
       "    </tr>\n",
       "    <tr>\n",
       "      <th>508145</th>\n",
       "      <td>(1937, 9330)</td>\n",
       "      <td>172</td>\n",
       "      <td>264</td>\n",
       "      <td>175</td>\n",
       "      <td>0.003723</td>\n",
       "    </tr>\n",
       "    <tr>\n",
       "      <th>508127</th>\n",
       "      <td>(1937, 5262)</td>\n",
       "      <td>172</td>\n",
       "      <td>264</td>\n",
       "      <td>175</td>\n",
       "      <td>0.003723</td>\n",
       "    </tr>\n",
       "    <tr>\n",
       "      <th>508125</th>\n",
       "      <td>(1937, 5188)</td>\n",
       "      <td>172</td>\n",
       "      <td>264</td>\n",
       "      <td>175</td>\n",
       "      <td>0.003723</td>\n",
       "    </tr>\n",
       "    <tr>\n",
       "      <th>508118</th>\n",
       "      <td>(1937, 3671)</td>\n",
       "      <td>171</td>\n",
       "      <td>264</td>\n",
       "      <td>174</td>\n",
       "      <td>0.003723</td>\n",
       "    </tr>\n",
       "    <tr>\n",
       "      <th>508120</th>\n",
       "      <td>(1937, 3797)</td>\n",
       "      <td>171</td>\n",
       "      <td>264</td>\n",
       "      <td>174</td>\n",
       "      <td>0.003723</td>\n",
       "    </tr>\n",
       "    <tr>\n",
       "      <th>508140</th>\n",
       "      <td>(1937, 8643)</td>\n",
       "      <td>171</td>\n",
       "      <td>264</td>\n",
       "      <td>172</td>\n",
       "      <td>0.003766</td>\n",
       "    </tr>\n",
       "    <tr>\n",
       "      <th>508160</th>\n",
       "      <td>(1937, 14120)</td>\n",
       "      <td>171</td>\n",
       "      <td>264</td>\n",
       "      <td>174</td>\n",
       "      <td>0.003723</td>\n",
       "    </tr>\n",
       "    <tr>\n",
       "      <th>508162</th>\n",
       "      <td>(1937, 14438)</td>\n",
       "      <td>171</td>\n",
       "      <td>264</td>\n",
       "      <td>173</td>\n",
       "      <td>0.003744</td>\n",
       "    </tr>\n",
       "    <tr>\n",
       "      <th>508158</th>\n",
       "      <td>(1937, 13017)</td>\n",
       "      <td>170</td>\n",
       "      <td>264</td>\n",
       "      <td>172</td>\n",
       "      <td>0.003744</td>\n",
       "    </tr>\n",
       "  </tbody>\n",
       "</table>\n",
       "</div>"
      ],
      "text/plain": [
       "          combination  nb_occurrences  item_0  item_1      Dice\n",
       "508135   (1937, 6879)             178     264     183  0.003684\n",
       "508145   (1937, 9330)             172     264     175  0.003723\n",
       "508127   (1937, 5262)             172     264     175  0.003723\n",
       "508125   (1937, 5188)             172     264     175  0.003723\n",
       "508118   (1937, 3671)             171     264     174  0.003723\n",
       "508120   (1937, 3797)             171     264     174  0.003723\n",
       "508140   (1937, 8643)             171     264     172  0.003766\n",
       "508160  (1937, 14120)             171     264     174  0.003723\n",
       "508162  (1937, 14438)             171     264     173  0.003744\n",
       "508158  (1937, 13017)             170     264     172  0.003744"
      ]
     },
     "execution_count": 404,
     "metadata": {},
     "output_type": "execute_result"
    }
   ],
   "source": [
    "co_occurences__2_counts[co_occurences__2_counts.combination.apply(lambda x: 1937 in  x)].head(10)"
   ]
  },
  {
   "cell_type": "code",
   "execution_count": 407,
   "id": "6bc5a793",
   "metadata": {},
   "outputs": [
    {
     "data": {
      "text/plain": [
       "1944      DNA primase_helicase\n",
       "3300      DNA primase_helicase\n",
       "3366      DNA primase_helicase\n",
       "4688      DNA primase_helicase\n",
       "5660      DNA primase_helicase\n",
       "                  ...         \n",
       "227452    DNA primase_helicase\n",
       "227640    DNA primase_helicase\n",
       "229896    DNA primase_helicase\n",
       "234640    DNA primase_helicase\n",
       "235863    DNA primase_helicase\n",
       "Name: annotation_val, Length: 175, dtype: object"
      ]
     },
     "execution_count": 407,
     "metadata": {},
     "output_type": "execute_result"
    }
   ],
   "source": [
    "data[data.feature_number == 5262]['annotation_val']"
   ]
  },
  {
   "cell_type": "code",
   "execution_count": 408,
   "id": "3cf8652b",
   "metadata": {},
   "outputs": [
    {
     "data": {
      "text/plain": [
       "226       RecA_like protein\n",
       "1239                Unknown\n",
       "1443      RecA_like protein\n",
       "4673      RecA_like protein\n",
       "6829      RecA_like protein\n",
       "                ...        \n",
       "217832              Unknown\n",
       "218224    RecA_like protein\n",
       "223380    RecA_like protein\n",
       "229546              Unknown\n",
       "230338    RecA_like protein\n",
       "Name: annotation_val, Length: 172, dtype: object"
      ]
     },
     "execution_count": 408,
     "metadata": {},
     "output_type": "execute_result"
    }
   ],
   "source": [
    "data[data.feature_number == 8643]['annotation_val']"
   ]
  },
  {
   "cell_type": "code",
   "execution_count": 409,
   "id": "3ace0e95",
   "metadata": {},
   "outputs": [
    {
     "data": {
      "text/plain": [
       "24        Gp17 terminase large subunit\n",
       "3796      Gp17 terminase large subunit\n",
       "3927                           Unknown\n",
       "4671      Gp17 terminase large subunit\n",
       "4747      Gp17 terminase large subunit\n",
       "                      ...             \n",
       "232512    Gp17 terminase large subunit\n",
       "233211    Gp17 terminase large subunit\n",
       "233997    Gp17 terminase large subunit\n",
       "235142    Gp17 terminase large subunit\n",
       "236928    Gp17 terminase large subunit\n",
       "Name: annotation_val, Length: 174, dtype: object"
      ]
     },
     "execution_count": 409,
     "metadata": {},
     "output_type": "execute_result"
    }
   ],
   "source": [
    "data[data.feature_number == 3797]['annotation_val']"
   ]
  },
  {
   "cell_type": "markdown",
   "id": "d1261bf1",
   "metadata": {},
   "source": [
    "* Repeating the analysis work for larger subsets of features\n",
    "  * Start with paird what have surprise factor, by either\n",
    "  1. merging most frequent pairs iterative  add another item   \n",
    "  2. Start from seed and extending to include all pairs and finding the frequent items\n"
   ]
  },
  {
   "cell_type": "code",
   "execution_count": 412,
   "id": "14c5fad0",
   "metadata": {},
   "outputs": [
    {
     "data": {
      "text/plain": [
       "(257945, 5)"
      ]
     },
     "execution_count": 412,
     "metadata": {},
     "output_type": "execute_result"
    }
   ],
   "source": [
    "co_occurences__2_counts.shape"
   ]
  },
  {
   "cell_type": "code",
   "execution_count": null,
   "id": "7ccad313",
   "metadata": {},
   "outputs": [
    {
     "name": "stdout",
     "output_type": "stream",
     "text": [
      "100\n",
      "200\n",
      "300\n",
      "400\n",
      "500\n",
      "600\n",
      "700\n",
      "800\n",
      "900\n",
      "1000\n",
      "1100\n",
      "1200\n",
      "1300\n",
      "1400\n",
      "1500\n",
      "1600\n",
      "1700\n",
      "1800\n",
      "1900\n",
      "2000\n",
      "2100\n",
      "2200\n",
      "2300\n",
      "2400\n",
      "2500\n",
      "2600\n",
      "2700\n",
      "2800\n",
      "2900\n",
      "3000\n",
      "3100\n",
      "3200\n",
      "3300\n",
      "3400\n",
      "3500\n",
      "3600\n",
      "3700\n",
      "3800\n",
      "3900\n"
     ]
    }
   ],
   "source": [
    "co_occurences_3 = []\n",
    "\n",
    "i = 0\n",
    "for subset in co_occurences__2_counts.combination.values:\n",
    "    i+=1\n",
    "    for feature_group in subsets.features.values:\n",
    "        if subset[0]  in feature_group and  subset[1] in feature_group:\n",
    "            for feature in feature_group:\n",
    "                if feature not in subset:\n",
    "                    temp_group = sorted(list(subset) + [feature])\n",
    "                    co_occurences_3.append(temp_group)            \n",
    "    if i%100==0:\n",
    "        print(i)"
   ]
  },
  {
   "cell_type": "code",
   "execution_count": null,
   "id": "e080e769",
   "metadata": {},
   "outputs": [],
   "source": []
  }
 ],
 "metadata": {
  "kernelspec": {
   "display_name": "Python 3 (ipykernel)",
   "language": "python",
   "name": "python3"
  },
  "language_info": {
   "codemirror_mode": {
    "name": "ipython",
    "version": 3
   },
   "file_extension": ".py",
   "mimetype": "text/x-python",
   "name": "python",
   "nbconvert_exporter": "python",
   "pygments_lexer": "ipython3",
   "version": "3.8.3"
  }
 },
 "nbformat": 4,
 "nbformat_minor": 5
}
