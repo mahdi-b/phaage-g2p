{
 "cells": [
  {
   "cell_type": "markdown",
   "id": "bc4f71f7",
   "metadata": {},
   "source": [
    "* Issue of multiple feature on one location \n",
    "  * Had to apply set to avoid this issue"
   ]
  },
  {
   "cell_type": "code",
   "execution_count": 1,
   "id": "00719626",
   "metadata": {},
   "outputs": [],
   "source": [
    "import pandas as pd\n",
    "from collections import Counter\n",
    "from utils import parse_cdhit, replace_val\n",
    "import itertools"
   ]
  },
  {
   "cell_type": "code",
   "execution_count": 2,
   "id": "e7c516a8",
   "metadata": {},
   "outputs": [],
   "source": [
    "data = pd.read_table(\"data/ENA_ML_input_ORFs\")"
   ]
  },
  {
   "cell_type": "code",
   "execution_count": 3,
   "id": "1f10df5f",
   "metadata": {},
   "outputs": [
    {
     "data": {
      "text/plain": "                               Feature_id   contig_id  position_start  \\\n0    ENA_AY095314_AY095314.2_3724_3921_10  AY095314.2            3724   \n1  ENA_JX889246_JX889246.1_45181_44900_68  JX889246.1           45181   \n\n   position_end  ORF_location_on_contig           annotation_val  \n0          3921                      10                  Unknown  \n1         44900                      68  Uncharacterized protein  ",
      "text/html": "<div>\n<style scoped>\n    .dataframe tbody tr th:only-of-type {\n        vertical-align: middle;\n    }\n\n    .dataframe tbody tr th {\n        vertical-align: top;\n    }\n\n    .dataframe thead th {\n        text-align: right;\n    }\n</style>\n<table border=\"1\" class=\"dataframe\">\n  <thead>\n    <tr style=\"text-align: right;\">\n      <th></th>\n      <th>Feature_id</th>\n      <th>contig_id</th>\n      <th>position_start</th>\n      <th>position_end</th>\n      <th>ORF_location_on_contig</th>\n      <th>annotation_val</th>\n    </tr>\n  </thead>\n  <tbody>\n    <tr>\n      <th>0</th>\n      <td>ENA_AY095314_AY095314.2_3724_3921_10</td>\n      <td>AY095314.2</td>\n      <td>3724</td>\n      <td>3921</td>\n      <td>10</td>\n      <td>Unknown</td>\n    </tr>\n    <tr>\n      <th>1</th>\n      <td>ENA_JX889246_JX889246.1_45181_44900_68</td>\n      <td>JX889246.1</td>\n      <td>45181</td>\n      <td>44900</td>\n      <td>68</td>\n      <td>Uncharacterized protein</td>\n    </tr>\n  </tbody>\n</table>\n</div>"
     },
     "execution_count": 3,
     "metadata": {},
     "output_type": "execute_result"
    }
   ],
   "source": [
    "data.head(2)"
   ]
  },
  {
   "cell_type": "code",
   "execution_count": 4,
   "id": "1e4b669f",
   "metadata": {},
   "outputs": [
    {
     "data": {
      "text/plain": "[('ENA_KP211958_KP211958.1_65082_87137_88', '0'),\n ('ENA_AY940168_AY940168.2_57144_79082_90', '1'),\n ('ENA_GU071099_GU071099.1_60366_80177_94', '2'),\n ('ENA_GU071103_GU071103.1_54052_75426_80', '2')]"
     },
     "execution_count": 4,
     "metadata": {},
     "output_type": "execute_result"
    }
   ],
   "source": [
    "seq_to_clust = parse_cdhit(\"data/ENA.40.clstr\")\n",
    "\n",
    "# key is the Feauture_id, value is the cluster to which it belongs.\n",
    "# what does it look like\n",
    "list(seq_to_clust.items())[0:4]"
   ]
  },
  {
   "cell_type": "code",
   "execution_count": 5,
   "id": "6da7a1dc",
   "metadata": {},
   "outputs": [
    {
     "data": {
      "text/plain": "                               Feature_id   contig_id  position_start  \\\n0    ENA_AY095314_AY095314.2_3724_3921_10  AY095314.2            3724   \n1  ENA_JX889246_JX889246.1_45181_44900_68  JX889246.1           45181   \n\n   position_end  ORF_location_on_contig           annotation_val  \\\n0          3921                      10                  Unknown   \n1         44900                      68  Uncharacterized protein   \n\n   cluster_number  \n0           57065  \n1           43194  ",
      "text/html": "<div>\n<style scoped>\n    .dataframe tbody tr th:only-of-type {\n        vertical-align: middle;\n    }\n\n    .dataframe tbody tr th {\n        vertical-align: top;\n    }\n\n    .dataframe thead th {\n        text-align: right;\n    }\n</style>\n<table border=\"1\" class=\"dataframe\">\n  <thead>\n    <tr style=\"text-align: right;\">\n      <th></th>\n      <th>Feature_id</th>\n      <th>contig_id</th>\n      <th>position_start</th>\n      <th>position_end</th>\n      <th>ORF_location_on_contig</th>\n      <th>annotation_val</th>\n      <th>cluster_number</th>\n    </tr>\n  </thead>\n  <tbody>\n    <tr>\n      <th>0</th>\n      <td>ENA_AY095314_AY095314.2_3724_3921_10</td>\n      <td>AY095314.2</td>\n      <td>3724</td>\n      <td>3921</td>\n      <td>10</td>\n      <td>Unknown</td>\n      <td>57065</td>\n    </tr>\n    <tr>\n      <th>1</th>\n      <td>ENA_JX889246_JX889246.1_45181_44900_68</td>\n      <td>JX889246.1</td>\n      <td>45181</td>\n      <td>44900</td>\n      <td>68</td>\n      <td>Uncharacterized protein</td>\n      <td>43194</td>\n    </tr>\n  </tbody>\n</table>\n</div>"
     },
     "execution_count": 5,
     "metadata": {},
     "output_type": "execute_result"
    }
   ],
   "source": [
    "## Add a column to show the cluster to which each feature_id belongs\n",
    "data[\"cluster_number\"] = replace_val(data.Feature_id, seq_to_clust)\n",
    "data.cluster_number = data.cluster_number.astype(int)\n",
    "data.head(2)\n",
    "\n"
   ]
  },
  {
   "cell_type": "code",
   "execution_count": 11,
   "id": "73741b92",
   "metadata": {},
   "outputs": [
    {
     "data": {
      "text/plain": "                               Feature_id   contig_id  position_start  \\\n0    ENA_AY095314_AY095314.2_3724_3921_10  AY095314.2            3724   \n1  ENA_JX889246_JX889246.1_45181_44900_68  JX889246.1           45181   \n\n   position_end  ORF_location_on_contig           annotation_val  \\\n0          3921                      10                  Unknown   \n1         44900                      68  Uncharacterized protein   \n\n   cluster_number  contig_number  \n0           57065         237296  \n1           43194         234989  ",
      "text/html": "<div>\n<style scoped>\n    .dataframe tbody tr th:only-of-type {\n        vertical-align: middle;\n    }\n\n    .dataframe tbody tr th {\n        vertical-align: top;\n    }\n\n    .dataframe thead th {\n        text-align: right;\n    }\n</style>\n<table border=\"1\" class=\"dataframe\">\n  <thead>\n    <tr style=\"text-align: right;\">\n      <th></th>\n      <th>Feature_id</th>\n      <th>contig_id</th>\n      <th>position_start</th>\n      <th>position_end</th>\n      <th>ORF_location_on_contig</th>\n      <th>annotation_val</th>\n      <th>cluster_number</th>\n      <th>contig_number</th>\n    </tr>\n  </thead>\n  <tbody>\n    <tr>\n      <th>0</th>\n      <td>ENA_AY095314_AY095314.2_3724_3921_10</td>\n      <td>AY095314.2</td>\n      <td>3724</td>\n      <td>3921</td>\n      <td>10</td>\n      <td>Unknown</td>\n      <td>57065</td>\n      <td>237296</td>\n    </tr>\n    <tr>\n      <th>1</th>\n      <td>ENA_JX889246_JX889246.1_45181_44900_68</td>\n      <td>JX889246.1</td>\n      <td>45181</td>\n      <td>44900</td>\n      <td>68</td>\n      <td>Uncharacterized protein</td>\n      <td>43194</td>\n      <td>234989</td>\n    </tr>\n  </tbody>\n</table>\n</div>"
     },
     "execution_count": 11,
     "metadata": {},
     "output_type": "execute_result"
    }
   ],
   "source": [
    "# Add a contig sequential number in addition to contig id to make it easier to work with the contig number\n",
    "contig_id_to_int = {y:x for x,y in enumerate(data.contig_id.tolist())}\n",
    "#### data.replace({'contig_id': contig_id_to_int})\n",
    "data[\"contig_number\"] = replace_val(data.contig_id, contig_id_to_int)\n",
    "data.head(2)"
   ]
  },
  {
   "cell_type": "markdown",
   "id": "a286c3b6",
   "metadata": {},
   "source": [
    "* Generate a table with all the features per contig\n"
   ]
  },
  {
   "cell_type": "code",
   "execution_count": 31,
   "id": "b6f4865d",
   "metadata": {},
   "outputs": [
    {
     "data": {
      "text/plain": "   contig_id                           cluster_number\n0      82638  [3929, 6051, 8867, 21058, 25595, 57763]\n1     106079               [3490, 6292, 18722, 30149]",
      "text/html": "<div>\n<style scoped>\n    .dataframe tbody tr th:only-of-type {\n        vertical-align: middle;\n    }\n\n    .dataframe tbody tr th {\n        vertical-align: top;\n    }\n\n    .dataframe thead th {\n        text-align: right;\n    }\n</style>\n<table border=\"1\" class=\"dataframe\">\n  <thead>\n    <tr style=\"text-align: right;\">\n      <th></th>\n      <th>contig_id</th>\n      <th>cluster_number</th>\n    </tr>\n  </thead>\n  <tbody>\n    <tr>\n      <th>0</th>\n      <td>82638</td>\n      <td>[3929, 6051, 8867, 21058, 25595, 57763]</td>\n    </tr>\n    <tr>\n      <th>1</th>\n      <td>106079</td>\n      <td>[3490, 6292, 18722, 30149]</td>\n    </tr>\n  </tbody>\n</table>\n</div>"
     },
     "execution_count": 31,
     "metadata": {},
     "output_type": "execute_result"
    }
   ],
   "source": [
    "temp = data.groupby(\"contig_number\").apply(lambda x: sorted(set(x[\"cluster_number\"].values)))\n",
    "subsets = pd.DataFrame({\"contig_id\": temp.index, \"cluster_number\": temp.values})\n",
    "subsets.head(2)"
   ]
  },
  {
   "cell_type": "markdown",
   "id": "cc9ee470",
   "metadata": {},
   "source": [
    "* count the occurrences of each feature in all the contigs. \n",
    "  * Needed to compute the probability of a pair"
   ]
  },
  {
   "cell_type": "code",
   "execution_count": 37,
   "id": "3a8491d9",
   "metadata": {
    "scrolled": true
   },
   "outputs": [
    {
     "data": {
      "text/plain": "                nb_occurrences\ncluster_number                \n3929                       135\n6051                       134\n8867                       135\n21058                      122\n25595                      135",
      "text/html": "<div>\n<style scoped>\n    .dataframe tbody tr th:only-of-type {\n        vertical-align: middle;\n    }\n\n    .dataframe tbody tr th {\n        vertical-align: top;\n    }\n\n    .dataframe thead th {\n        text-align: right;\n    }\n</style>\n<table border=\"1\" class=\"dataframe\">\n  <thead>\n    <tr style=\"text-align: right;\">\n      <th></th>\n      <th>nb_occurrences</th>\n    </tr>\n    <tr>\n      <th>cluster_number</th>\n      <th></th>\n    </tr>\n  </thead>\n  <tbody>\n    <tr>\n      <th>3929</th>\n      <td>135</td>\n    </tr>\n    <tr>\n      <th>6051</th>\n      <td>134</td>\n    </tr>\n    <tr>\n      <th>8867</th>\n      <td>135</td>\n    </tr>\n    <tr>\n      <th>21058</th>\n      <td>122</td>\n    </tr>\n    <tr>\n      <th>25595</th>\n      <td>135</td>\n    </tr>\n  </tbody>\n</table>\n</div>"
     },
     "execution_count": 37,
     "metadata": {},
     "output_type": "execute_result"
    }
   ],
   "source": [
    "feature_counts = pd.DataFrame(Counter(itertools.chain(*subsets.cluster_number.values)).items())\n",
    "feature_counts.columns = [\"cluster_number\", \"nb_occurrences\"]\n",
    "feature_counts = feature_counts.set_index(\"cluster_number\")\n",
    "feature_counts.head()"
   ]
  },
  {
   "cell_type": "code",
   "execution_count": 39,
   "outputs": [
    {
     "data": {
      "text/plain": "135"
     },
     "execution_count": 39,
     "metadata": {},
     "output_type": "execute_result"
    }
   ],
   "source": [
    "# temp\n",
    "sum([3929 in x for x in subsets.cluster_number.values])"
   ],
   "metadata": {
    "collapsed": false,
    "pycharm": {
     "name": "#%%\n"
    }
   }
  },
  {
   "cell_type": "markdown",
   "id": "f164578c",
   "metadata": {},
   "source": [
    "* Count the occurrences of each pair of cluster_id that occur on at least 1 contig\n",
    "* We generate generate all the possible pairs (tuples) of features \n"
   ]
  },
  {
   "cell_type": "code",
   "execution_count": 42,
   "id": "d0095e84",
   "metadata": {},
   "outputs": [
    {
     "data": {
      "text/plain": "contig_id\n82638     [(3929, 6051), (3929, 8867), (3929, 21058), (3...\n106079    [(3490, 6292), (3490, 18722), (3490, 30149), (...\ndtype: object"
     },
     "execution_count": 42,
     "metadata": {},
     "output_type": "execute_result"
    }
   ],
   "source": [
    "# Generate all the subset of size 2 for each contig\n",
    "subsets_size_2 = subsets.apply(lambda x: list(itertools.combinations(x[\"cluster_number\"], 2)), axis=1)\n",
    "subsets_size_2.index = subsets.contig_id\n",
    "subsets_size_2.head(2)\n"
   ]
  },
  {
   "cell_type": "markdown",
   "id": "6eb9822d",
   "metadata": {},
   "source": [
    "* We make sure the tuple is sorted so it's easy to compute frequencies"
   ]
  },
  {
   "cell_type": "code",
   "execution_count": 49,
   "id": "1ce04368",
   "metadata": {},
   "outputs": [
    {
     "data": {
      "text/plain": "[(3929, 6051), (3929, 8867), (3929, 21058), (3929, 25595), (3929, 57763)]"
     },
     "execution_count": 49,
     "metadata": {},
     "output_type": "execute_result"
    }
   ],
   "source": [
    "co_occurences_2 = []\n",
    "for item in list(itertools.chain(*subsets_size_2.values)):\n",
    "    if item[0] > item[1]:\n",
    "        co_occurences_2.append((item[1], item[0]))\n",
    "    else:\n",
    "        co_occurences_2.append((item[0], item[1]))  \n",
    "co_occurences_2[:5]"
   ]
  },
  {
   "cell_type": "markdown",
   "id": "3e66df78",
   "metadata": {},
   "source": [
    "* Count the number of occurrences of each pair of features"
   ]
  },
  {
   "cell_type": "code",
   "execution_count": 46,
   "id": "e2c87b55",
   "metadata": {},
   "outputs": [
    {
     "data": {
      "text/plain": "         combination  nb_occurrences\n508135  (1937, 6879)             178\n510515  (5188, 9330)             175",
      "text/html": "<div>\n<style scoped>\n    .dataframe tbody tr th:only-of-type {\n        vertical-align: middle;\n    }\n\n    .dataframe tbody tr th {\n        vertical-align: top;\n    }\n\n    .dataframe thead th {\n        text-align: right;\n    }\n</style>\n<table border=\"1\" class=\"dataframe\">\n  <thead>\n    <tr style=\"text-align: right;\">\n      <th></th>\n      <th>combination</th>\n      <th>nb_occurrences</th>\n    </tr>\n  </thead>\n  <tbody>\n    <tr>\n      <th>508135</th>\n      <td>(1937, 6879)</td>\n      <td>178</td>\n    </tr>\n    <tr>\n      <th>510515</th>\n      <td>(5188, 9330)</td>\n      <td>175</td>\n    </tr>\n  </tbody>\n</table>\n</div>"
     },
     "execution_count": 46,
     "metadata": {},
     "output_type": "execute_result"
    }
   ],
   "source": [
    "co_occurences__2_counts = pd.DataFrame(Counter(co_occurences_2).items())\n",
    "co_occurences__2_counts.columns = [\"combination\", \"nb_occurrences\"]\n",
    "co_occurences__2_counts = co_occurences__2_counts.sort_values(by=\"nb_occurrences\", ascending=False)\n",
    "co_occurences__2_counts.head(2)"
   ]
  },
  {
   "cell_type": "code",
   "execution_count": 50,
   "id": "80a4f326",
   "metadata": {},
   "outputs": [
    {
     "data": {
      "text/plain": "(6987559, 2)"
     },
     "execution_count": 50,
     "metadata": {},
     "output_type": "execute_result"
    }
   ],
   "source": [
    "co_occurences__2_counts.shape"
   ]
  },
  {
   "cell_type": "markdown",
   "id": "e589a4dd",
   "metadata": {},
   "source": [
    "* Only keep those that occur frequently\n",
    "\n",
    "```python\n",
    ">>> sum(co_occurences__2_counts.nb_occurrences > 10)\n",
    "257945\n",
    "```\n"
   ]
  },
  {
   "cell_type": "code",
   "execution_count": 52,
   "id": "f7d2c0b8",
   "metadata": {},
   "outputs": [
    {
     "data": {
      "text/plain": "(257945, 2)"
     },
     "execution_count": 52,
     "metadata": {},
     "output_type": "execute_result"
    }
   ],
   "source": [
    "co_occurences__2_counts = co_occurences__2_counts[co_occurences__2_counts.nb_occurrences > 10]\n",
    "co_occurences__2_counts.shape"
   ]
  },
  {
   "cell_type": "code",
   "execution_count": 57,
   "outputs": [
    {
     "data": {
      "text/plain": "combination       (1937, 6879)\nnb_occurrences             178\nName: 508135, dtype: object"
     },
     "execution_count": 57,
     "metadata": {},
     "output_type": "execute_result"
    }
   ],
   "source": [
    "co_occurences__2_counts.iloc[0]"
   ],
   "metadata": {
    "collapsed": false,
    "pycharm": {
     "name": "#%%\n"
    }
   }
  },
  {
   "cell_type": "code",
   "execution_count": 58,
   "id": "53aea3b7",
   "metadata": {},
   "outputs": [
    {
     "data": {
      "text/plain": "          combination  nb_occurrences  item_0  item_1\n508135   (1937, 6879)             178     264     183\n510515   (5188, 9330)             175     175     175\n510497   (5188, 5262)             175     175     175\n510896   (5262, 9330)             175     175     175\n509525   (3797, 5188)             174     174     175\n509150   (3671, 9330)             174     174     175\n510530  (5188, 14120)             174     175     174\n509545   (3797, 9330)             174     174     175\n509130   (3671, 5188)             174     174     175\n509132   (3671, 5262)             174     174     175",
      "text/html": "<div>\n<style scoped>\n    .dataframe tbody tr th:only-of-type {\n        vertical-align: middle;\n    }\n\n    .dataframe tbody tr th {\n        vertical-align: top;\n    }\n\n    .dataframe thead th {\n        text-align: right;\n    }\n</style>\n<table border=\"1\" class=\"dataframe\">\n  <thead>\n    <tr style=\"text-align: right;\">\n      <th></th>\n      <th>combination</th>\n      <th>nb_occurrences</th>\n      <th>item_0</th>\n      <th>item_1</th>\n    </tr>\n  </thead>\n  <tbody>\n    <tr>\n      <th>508135</th>\n      <td>(1937, 6879)</td>\n      <td>178</td>\n      <td>264</td>\n      <td>183</td>\n    </tr>\n    <tr>\n      <th>510515</th>\n      <td>(5188, 9330)</td>\n      <td>175</td>\n      <td>175</td>\n      <td>175</td>\n    </tr>\n    <tr>\n      <th>510497</th>\n      <td>(5188, 5262)</td>\n      <td>175</td>\n      <td>175</td>\n      <td>175</td>\n    </tr>\n    <tr>\n      <th>510896</th>\n      <td>(5262, 9330)</td>\n      <td>175</td>\n      <td>175</td>\n      <td>175</td>\n    </tr>\n    <tr>\n      <th>509525</th>\n      <td>(3797, 5188)</td>\n      <td>174</td>\n      <td>174</td>\n      <td>175</td>\n    </tr>\n    <tr>\n      <th>509150</th>\n      <td>(3671, 9330)</td>\n      <td>174</td>\n      <td>174</td>\n      <td>175</td>\n    </tr>\n    <tr>\n      <th>510530</th>\n      <td>(5188, 14120)</td>\n      <td>174</td>\n      <td>175</td>\n      <td>174</td>\n    </tr>\n    <tr>\n      <th>509545</th>\n      <td>(3797, 9330)</td>\n      <td>174</td>\n      <td>174</td>\n      <td>175</td>\n    </tr>\n    <tr>\n      <th>509130</th>\n      <td>(3671, 5188)</td>\n      <td>174</td>\n      <td>174</td>\n      <td>175</td>\n    </tr>\n    <tr>\n      <th>509132</th>\n      <td>(3671, 5262)</td>\n      <td>174</td>\n      <td>174</td>\n      <td>175</td>\n    </tr>\n  </tbody>\n</table>\n</div>"
     },
     "execution_count": 58,
     "metadata": {},
     "output_type": "execute_result"
    }
   ],
   "source": [
    "subset_size = len(co_occurences__2_counts.iloc[0].combination)\n",
    "\n",
    "for i in range(subset_size):\n",
    "    a = co_occurences__2_counts.combination.apply(lambda x: x[i])\n",
    "    co_occurences__2_counts.loc[:, f\"item_{i}\"] = feature_counts.loc[a].nb_occurrences.values\n",
    "\n",
    "co_occurences__2_counts.head(10)"
   ]
  },
  {
   "cell_type": "code",
   "execution_count": 59,
   "id": "aa089fb6",
   "metadata": {},
   "outputs": [
    {
     "data": {
      "text/plain": "            combination  nb_occurrences  item_0  item_1\n1422998  (45536, 61763)              11      12      16\n1420845  (32314, 37658)              11      11      16\n1143899   (5142, 32083)              11      73      11\n1143952   (5482, 22035)              11      22      11\n1423103  (47119, 49743)              11      12      16\n1144486   (8144, 41206)              11      17      11\n1422227  (38128, 48030)              11      11      19\n1420909  (32401, 35715)              11      24      13\n1422230  (38128, 49040)              11      11      16\n1143954   (5482, 23207)              11      22      11",
      "text/html": "<div>\n<style scoped>\n    .dataframe tbody tr th:only-of-type {\n        vertical-align: middle;\n    }\n\n    .dataframe tbody tr th {\n        vertical-align: top;\n    }\n\n    .dataframe thead th {\n        text-align: right;\n    }\n</style>\n<table border=\"1\" class=\"dataframe\">\n  <thead>\n    <tr style=\"text-align: right;\">\n      <th></th>\n      <th>combination</th>\n      <th>nb_occurrences</th>\n      <th>item_0</th>\n      <th>item_1</th>\n    </tr>\n  </thead>\n  <tbody>\n    <tr>\n      <th>1422998</th>\n      <td>(45536, 61763)</td>\n      <td>11</td>\n      <td>12</td>\n      <td>16</td>\n    </tr>\n    <tr>\n      <th>1420845</th>\n      <td>(32314, 37658)</td>\n      <td>11</td>\n      <td>11</td>\n      <td>16</td>\n    </tr>\n    <tr>\n      <th>1143899</th>\n      <td>(5142, 32083)</td>\n      <td>11</td>\n      <td>73</td>\n      <td>11</td>\n    </tr>\n    <tr>\n      <th>1143952</th>\n      <td>(5482, 22035)</td>\n      <td>11</td>\n      <td>22</td>\n      <td>11</td>\n    </tr>\n    <tr>\n      <th>1423103</th>\n      <td>(47119, 49743)</td>\n      <td>11</td>\n      <td>12</td>\n      <td>16</td>\n    </tr>\n    <tr>\n      <th>1144486</th>\n      <td>(8144, 41206)</td>\n      <td>11</td>\n      <td>17</td>\n      <td>11</td>\n    </tr>\n    <tr>\n      <th>1422227</th>\n      <td>(38128, 48030)</td>\n      <td>11</td>\n      <td>11</td>\n      <td>19</td>\n    </tr>\n    <tr>\n      <th>1420909</th>\n      <td>(32401, 35715)</td>\n      <td>11</td>\n      <td>24</td>\n      <td>13</td>\n    </tr>\n    <tr>\n      <th>1422230</th>\n      <td>(38128, 49040)</td>\n      <td>11</td>\n      <td>11</td>\n      <td>16</td>\n    </tr>\n    <tr>\n      <th>1143954</th>\n      <td>(5482, 23207)</td>\n      <td>11</td>\n      <td>22</td>\n      <td>11</td>\n    </tr>\n  </tbody>\n</table>\n</div>"
     },
     "execution_count": 59,
     "metadata": {},
     "output_type": "execute_result"
    }
   ],
   "source": [
    "co_occurences__2_counts.tail(10)"
   ]
  },
  {
   "cell_type": "markdown",
   "id": "1702a1a1",
   "metadata": {},
   "source": [
    "* Compute the Dice Coefficient"
   ]
  },
  {
   "cell_type": "code",
   "execution_count": 67,
   "id": "52a3852c",
   "metadata": {},
   "outputs": [
    {
     "data": {
      "text/plain": "          combination  nb_occurrences  item_0  item_1      Dice\n508135   (1937, 6879)             178     264     183  0.003684\n510515   (5188, 9330)             175     175     175  0.005714\n510497   (5188, 5262)             175     175     175  0.005714\n510896   (5262, 9330)             175     175     175  0.005714\n509525   (3797, 5188)             174     174     175  0.005714\n509150   (3671, 9330)             174     174     175  0.005714\n510530  (5188, 14120)             174     175     174  0.005714\n509545   (3797, 9330)             174     174     175  0.005714\n509130   (3671, 5188)             174     174     175  0.005714\n509132   (3671, 5262)             174     174     175  0.005714",
      "text/html": "<div>\n<style scoped>\n    .dataframe tbody tr th:only-of-type {\n        vertical-align: middle;\n    }\n\n    .dataframe tbody tr th {\n        vertical-align: top;\n    }\n\n    .dataframe thead th {\n        text-align: right;\n    }\n</style>\n<table border=\"1\" class=\"dataframe\">\n  <thead>\n    <tr style=\"text-align: right;\">\n      <th></th>\n      <th>combination</th>\n      <th>nb_occurrences</th>\n      <th>item_0</th>\n      <th>item_1</th>\n      <th>Dice</th>\n    </tr>\n  </thead>\n  <tbody>\n    <tr>\n      <th>508135</th>\n      <td>(1937, 6879)</td>\n      <td>178</td>\n      <td>264</td>\n      <td>183</td>\n      <td>0.003684</td>\n    </tr>\n    <tr>\n      <th>510515</th>\n      <td>(5188, 9330)</td>\n      <td>175</td>\n      <td>175</td>\n      <td>175</td>\n      <td>0.005714</td>\n    </tr>\n    <tr>\n      <th>510497</th>\n      <td>(5188, 5262)</td>\n      <td>175</td>\n      <td>175</td>\n      <td>175</td>\n      <td>0.005714</td>\n    </tr>\n    <tr>\n      <th>510896</th>\n      <td>(5262, 9330)</td>\n      <td>175</td>\n      <td>175</td>\n      <td>175</td>\n      <td>0.005714</td>\n    </tr>\n    <tr>\n      <th>509525</th>\n      <td>(3797, 5188)</td>\n      <td>174</td>\n      <td>174</td>\n      <td>175</td>\n      <td>0.005714</td>\n    </tr>\n    <tr>\n      <th>509150</th>\n      <td>(3671, 9330)</td>\n      <td>174</td>\n      <td>174</td>\n      <td>175</td>\n      <td>0.005714</td>\n    </tr>\n    <tr>\n      <th>510530</th>\n      <td>(5188, 14120)</td>\n      <td>174</td>\n      <td>175</td>\n      <td>174</td>\n      <td>0.005714</td>\n    </tr>\n    <tr>\n      <th>509545</th>\n      <td>(3797, 9330)</td>\n      <td>174</td>\n      <td>174</td>\n      <td>175</td>\n      <td>0.005714</td>\n    </tr>\n    <tr>\n      <th>509130</th>\n      <td>(3671, 5188)</td>\n      <td>174</td>\n      <td>174</td>\n      <td>175</td>\n      <td>0.005714</td>\n    </tr>\n    <tr>\n      <th>509132</th>\n      <td>(3671, 5262)</td>\n      <td>174</td>\n      <td>174</td>\n      <td>175</td>\n      <td>0.005714</td>\n    </tr>\n  </tbody>\n</table>\n</div>"
     },
     "execution_count": 67,
     "metadata": {},
     "output_type": "execute_result"
    }
   ],
   "source": [
    "co_occurences__2_counts[\"Dice\"] = co_occurences__2_counts[\"nb_occurrences\"] / co_occurences__2_counts.iloc[:,[2,3]].product(axis=1)\n",
    "co_occurences__2_counts  = co_occurences__2_counts.sort_values(by=[\"nb_occurrences\", \"Dice\"], ascending=False)\n",
    "co_occurences__2_counts.head(10)\n"
   ]
  },
  {
   "cell_type": "markdown",
   "id": "75c82d63",
   "metadata": {},
   "source": [
    "* What is the top hit?\n",
    "  (1937, 6879) has `nb_occurrences =178`"
   ]
  },
  {
   "cell_type": "code",
   "execution_count": 72,
   "id": "5618cdaf",
   "metadata": {},
   "outputs": [
    {
     "data": {
      "text/plain": "662     Ribonucleoside_diphosphate reductase\n1063    Ribonucleoside_diphosphate reductase\n1069    Ribonucleoside_diphosphate reductase\n1335    Ribonucleoside_diphosphate reductase\n1912    Ribonucleoside_diphosphate reductase\nName: annotation_val, dtype: object"
     },
     "execution_count": 72,
     "metadata": {},
     "output_type": "execute_result"
    }
   ],
   "source": [
    "data[data.cluster_number == 1937]['annotation_val'].head()"
   ]
  },
  {
   "cell_type": "code",
   "execution_count": 71,
   "id": "1009af3d",
   "metadata": {},
   "outputs": [
    {
     "data": {
      "text/plain": "170     Unknown\n755     Unknown\n2764    Unknown\n5850    Unknown\n7642    Unknown\nName: annotation_val, dtype: object"
     },
     "execution_count": 71,
     "metadata": {},
     "output_type": "execute_result"
    }
   ],
   "source": [
    "data[data.cluster_number == 6879]['annotation_val'].head()"
   ]
  },
  {
   "cell_type": "markdown",
   "id": "2002a3a9",
   "metadata": {},
   "source": [
    "* If 6879 is unknown, are any of the other features associated with 1937 konw"
   ]
  },
  {
   "cell_type": "code",
   "execution_count": 73,
   "id": "73554ecb",
   "metadata": {},
   "outputs": [
    {
     "data": {
      "text/plain": "          combination  nb_occurrences  item_0  item_1      Dice\n508135   (1937, 6879)             178     264     183  0.003684\n508145   (1937, 9330)             172     264     175  0.003723\n508127   (1937, 5262)             172     264     175  0.003723\n508125   (1937, 5188)             172     264     175  0.003723\n508140   (1937, 8643)             171     264     172  0.003766\n508162  (1937, 14438)             171     264     173  0.003744\n508118   (1937, 3671)             171     264     174  0.003723\n508120   (1937, 3797)             171     264     174  0.003723\n508160  (1937, 14120)             171     264     174  0.003723\n508133   (1937, 6277)             170     264     171  0.003766",
      "text/html": "<div>\n<style scoped>\n    .dataframe tbody tr th:only-of-type {\n        vertical-align: middle;\n    }\n\n    .dataframe tbody tr th {\n        vertical-align: top;\n    }\n\n    .dataframe thead th {\n        text-align: right;\n    }\n</style>\n<table border=\"1\" class=\"dataframe\">\n  <thead>\n    <tr style=\"text-align: right;\">\n      <th></th>\n      <th>combination</th>\n      <th>nb_occurrences</th>\n      <th>item_0</th>\n      <th>item_1</th>\n      <th>Dice</th>\n    </tr>\n  </thead>\n  <tbody>\n    <tr>\n      <th>508135</th>\n      <td>(1937, 6879)</td>\n      <td>178</td>\n      <td>264</td>\n      <td>183</td>\n      <td>0.003684</td>\n    </tr>\n    <tr>\n      <th>508145</th>\n      <td>(1937, 9330)</td>\n      <td>172</td>\n      <td>264</td>\n      <td>175</td>\n      <td>0.003723</td>\n    </tr>\n    <tr>\n      <th>508127</th>\n      <td>(1937, 5262)</td>\n      <td>172</td>\n      <td>264</td>\n      <td>175</td>\n      <td>0.003723</td>\n    </tr>\n    <tr>\n      <th>508125</th>\n      <td>(1937, 5188)</td>\n      <td>172</td>\n      <td>264</td>\n      <td>175</td>\n      <td>0.003723</td>\n    </tr>\n    <tr>\n      <th>508140</th>\n      <td>(1937, 8643)</td>\n      <td>171</td>\n      <td>264</td>\n      <td>172</td>\n      <td>0.003766</td>\n    </tr>\n    <tr>\n      <th>508162</th>\n      <td>(1937, 14438)</td>\n      <td>171</td>\n      <td>264</td>\n      <td>173</td>\n      <td>0.003744</td>\n    </tr>\n    <tr>\n      <th>508118</th>\n      <td>(1937, 3671)</td>\n      <td>171</td>\n      <td>264</td>\n      <td>174</td>\n      <td>0.003723</td>\n    </tr>\n    <tr>\n      <th>508120</th>\n      <td>(1937, 3797)</td>\n      <td>171</td>\n      <td>264</td>\n      <td>174</td>\n      <td>0.003723</td>\n    </tr>\n    <tr>\n      <th>508160</th>\n      <td>(1937, 14120)</td>\n      <td>171</td>\n      <td>264</td>\n      <td>174</td>\n      <td>0.003723</td>\n    </tr>\n    <tr>\n      <th>508133</th>\n      <td>(1937, 6277)</td>\n      <td>170</td>\n      <td>264</td>\n      <td>171</td>\n      <td>0.003766</td>\n    </tr>\n  </tbody>\n</table>\n</div>"
     },
     "execution_count": 73,
     "metadata": {},
     "output_type": "execute_result"
    }
   ],
   "source": [
    "co_occurences__2_counts[co_occurences__2_counts.combination.apply(lambda x: 1937 in  x)].head(10)"
   ]
  },
  {
   "cell_type": "code",
   "execution_count": 76,
   "id": "6bc5a793",
   "metadata": {},
   "outputs": [
    {
     "data": {
      "text/plain": "1944    DNA primase_helicase\n3300    DNA primase_helicase\n3366    DNA primase_helicase\n4688    DNA primase_helicase\n5660    DNA primase_helicase\nName: annotation_val, dtype: object"
     },
     "execution_count": 76,
     "metadata": {},
     "output_type": "execute_result"
    }
   ],
   "source": [
    "data[data.cluster_number == 5262]['annotation_val'].head()"
   ]
  },
  {
   "cell_type": "code",
   "execution_count": 78,
   "id": "3cf8652b",
   "metadata": {},
   "outputs": [
    {
     "data": {
      "text/plain": "226     RecA_like protein\n1239              Unknown\n1443    RecA_like protein\n4673    RecA_like protein\n6829    RecA_like protein\nName: annotation_val, dtype: object"
     },
     "execution_count": 78,
     "metadata": {},
     "output_type": "execute_result"
    }
   ],
   "source": [
    "data[data.cluster_number == 8643]['annotation_val'].head()"
   ]
  },
  {
   "cell_type": "code",
   "execution_count": 79,
   "id": "3ace0e95",
   "metadata": {},
   "outputs": [
    {
     "data": {
      "text/plain": "24      Gp17 terminase large subunit\n3796    Gp17 terminase large subunit\n3927                         Unknown\n4671    Gp17 terminase large subunit\n4747    Gp17 terminase large subunit\nName: annotation_val, dtype: object"
     },
     "execution_count": 79,
     "metadata": {},
     "output_type": "execute_result"
    }
   ],
   "source": [
    "data[data.cluster_number == 3797]['annotation_val'].head()"
   ]
  },
  {
   "cell_type": "markdown",
   "id": "d1261bf1",
   "metadata": {},
   "source": [
    "* Repeating the analysis work for larger subsets of features\n",
    "  * Start with paired what have surprise factor, by either\n",
    "  1. merging most frequent pairs iterative  add another item   \n",
    "  2. Start from seed and extending to include all pairs and finding the frequent items\n"
   ]
  },
  {
   "cell_type": "code",
   "execution_count": null,
   "id": "14c5fad0",
   "metadata": {},
   "outputs": [],
   "source": [
    "co_occurences__2_counts.shape"
   ]
  },
  {
   "cell_type": "code",
   "execution_count": null,
   "id": "7ccad313",
   "metadata": {},
   "outputs": [],
   "source": [
    "co_occurences_3 = []\n",
    "\n",
    "i = 0\n",
    "for subset in co_occurences__2_counts.combination.values:\n",
    "    i+=1\n",
    "    for feature_group in subsets.features.values:\n",
    "        if subset[0]  in feature_group and  subset[1] in feature_group:\n",
    "            for feature in feature_group:\n",
    "                if feature not in subset:\n",
    "                    temp_group = sorted(list(subset) + [feature])\n",
    "                    co_occurences_3.append(temp_group)            \n",
    "    if i%100==0:\n",
    "        print(i)"
   ]
  },
  {
   "cell_type": "code",
   "execution_count": null,
   "id": "e080e769",
   "metadata": {},
   "outputs": [],
   "source": []
  }
 ],
 "metadata": {
  "kernelspec": {
   "display_name": "Python 3 (ipykernel)",
   "language": "python",
   "name": "python3"
  },
  "language_info": {
   "codemirror_mode": {
    "name": "ipython",
    "version": 3
   },
   "file_extension": ".py",
   "mimetype": "text/x-python",
   "name": "python",
   "nbconvert_exporter": "python",
   "pygments_lexer": "ipython3",
   "version": "3.9.7"
  }
 },
 "nbformat": 4,
 "nbformat_minor": 5
}